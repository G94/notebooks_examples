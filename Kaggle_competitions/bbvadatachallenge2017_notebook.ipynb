{
 "cells": [
  {
   "cell_type": "markdown",
   "metadata": {},
   "source": [
    "# Problem:"
   ]
  },
  {
   "cell_type": "markdown",
   "metadata": {
    "collapsed": true
   },
   "source": [
    "### Attrition Data Challenge  BBVA\n",
    "##### Author: Cesar Gustavo Seminario Calle\n",
    "\n",
    "Se desea saber que tan probable es que los clientes de una entidad financiera dejen de usar sus productos o servicios (attrition). Para esto se tiene un Dataset con información relacionada al comportamiento de los clientes teniendo en cuenta un mes de referencia y un indicador de attrition.\n",
    "\n",
    "El campo attrition se categoriza en:\n",
    "\n",
    "+ **Attrition (1)**\n",
    "\n",
    "+ **No es attrition (0)**\n",
    "\n"
   ]
  },
  {
   "cell_type": "markdown",
   "metadata": {},
   "source": [
    "#### Descripcion de las Variables\n",
    "* ID CORRELATIVO ->\n",
    "\n",
    "* COD MES -> Mes de referencia **201208**\n",
    "* FLG_BANCARIZADO -> Si el cliente esta bancarizado o no\n",
    "* RANG INGRESO -> 01 -06 menor numero significa menor ingreso\n",
    "* FLG_LIMA_PROVIN -> Si vive en Lima o en provincia( Existen muchos NA'S)\n",
    "* EDAD -> Edad del cliente 18 -98\n",
    "* ANTIGUEDAD -> Años de antiguedad\n",
    "* ATTRITION -> TARGET Desercion de Clientes\n",
    "* RANGO_SDO -> Rango de ahorros 01 Menor - 06 Mayor\n",
    "* SDO_ACTIVO -> Saldo activo, de los ultimos 6 meses\n",
    "* FLG_SEGURO -> Tiene seguro o no durante los ultimos 6 meses.\n",
    "* NRO_PRODUCTOS ->Rango de productos,01 menor a 06 Mayor\n",
    "* FLG_NOMINA->Si pertenece a la nomina o no.\n",
    "* NRO_ACCES_CANAL1 -> N° de operaciones en canal 1 de atencion en los ultimos \n",
    "* NRO_ACCES_CANAL2 -> N° de operaciones en canal 2 de atencion en los ultimos \n",
    "* NRO_ACCES_CANAL3 -> N° de operaciones en canal 3 de atencion en los ultimos\n",
    "* NRO_ENTID_SSFF -> N° de entidades financieras en el sistema financiero\n",
    "* FLG_SDO_OTSSFF -> Flag tiene saldo en otras entidades del sistema financiero: tiene saldo (1), no tiene saldo (0)"
   ]
  },
  {
   "cell_type": "code",
   "execution_count": 65,
   "metadata": {
    "collapsed": true
   },
   "outputs": [],
   "source": [
    "import pandas as pd\n",
    "import numpy as np\n",
    "import seaborn as sns"
   ]
  },
  {
   "cell_type": "code",
   "execution_count": 168,
   "metadata": {},
   "outputs": [
    {
     "data": {
      "text/html": [
       "<div>\n",
       "<style>\n",
       "    .dataframe thead tr:only-child th {\n",
       "        text-align: right;\n",
       "    }\n",
       "\n",
       "    .dataframe thead th {\n",
       "        text-align: left;\n",
       "    }\n",
       "\n",
       "    .dataframe tbody tr th {\n",
       "        vertical-align: top;\n",
       "    }\n",
       "</style>\n",
       "<table border=\"1\" class=\"dataframe\">\n",
       "  <thead>\n",
       "    <tr style=\"text-align: right;\">\n",
       "      <th></th>\n",
       "      <th>CODMES</th>\n",
       "      <th>FLG_BANCARIZADO</th>\n",
       "      <th>RANG_INGRESO</th>\n",
       "      <th>FLAG_LIMA_PROVINCIA</th>\n",
       "      <th>EDAD</th>\n",
       "      <th>ANTIGUEDAD</th>\n",
       "      <th>ATTRITION</th>\n",
       "      <th>RANG_SDO_PASIVO_MENOS0</th>\n",
       "      <th>SDO_ACTIVO_MENOS0</th>\n",
       "      <th>SDO_ACTIVO_MENOS1</th>\n",
       "      <th>...</th>\n",
       "      <th>NRO_ENTID_SSFF_MENOS2</th>\n",
       "      <th>NRO_ENTID_SSFF_MENOS3</th>\n",
       "      <th>NRO_ENTID_SSFF_MENOS4</th>\n",
       "      <th>NRO_ENTID_SSFF_MENOS5</th>\n",
       "      <th>FLG_SDO_OTSSFF_MENOS0</th>\n",
       "      <th>FLG_SDO_OTSSFF_MENOS1</th>\n",
       "      <th>FLG_SDO_OTSSFF_MENOS2</th>\n",
       "      <th>FLG_SDO_OTSSFF_MENOS3</th>\n",
       "      <th>FLG_SDO_OTSSFF_MENOS4</th>\n",
       "      <th>FLG_SDO_OTSSFF_MENOS5</th>\n",
       "    </tr>\n",
       "    <tr>\n",
       "      <th>ID_CORRELATIVO</th>\n",
       "      <th></th>\n",
       "      <th></th>\n",
       "      <th></th>\n",
       "      <th></th>\n",
       "      <th></th>\n",
       "      <th></th>\n",
       "      <th></th>\n",
       "      <th></th>\n",
       "      <th></th>\n",
       "      <th></th>\n",
       "      <th></th>\n",
       "      <th></th>\n",
       "      <th></th>\n",
       "      <th></th>\n",
       "      <th></th>\n",
       "      <th></th>\n",
       "      <th></th>\n",
       "      <th></th>\n",
       "      <th></th>\n",
       "      <th></th>\n",
       "      <th></th>\n",
       "    </tr>\n",
       "  </thead>\n",
       "  <tbody>\n",
       "    <tr>\n",
       "      <th>35653</th>\n",
       "      <td>201208</td>\n",
       "      <td>1</td>\n",
       "      <td>Rang_ingreso_06</td>\n",
       "      <td>Lima</td>\n",
       "      <td>25.0</td>\n",
       "      <td>6.0</td>\n",
       "      <td>0</td>\n",
       "      <td>Rango_SDO_09</td>\n",
       "      <td>0</td>\n",
       "      <td>0</td>\n",
       "      <td>...</td>\n",
       "      <td>1</td>\n",
       "      <td>1</td>\n",
       "      <td>1</td>\n",
       "      <td>1</td>\n",
       "      <td>1</td>\n",
       "      <td>0</td>\n",
       "      <td>0</td>\n",
       "      <td>0</td>\n",
       "      <td>0</td>\n",
       "      <td>0</td>\n",
       "    </tr>\n",
       "    <tr>\n",
       "      <th>66575</th>\n",
       "      <td>201208</td>\n",
       "      <td>1</td>\n",
       "      <td>Rang_ingreso_03</td>\n",
       "      <td>Provincia</td>\n",
       "      <td>27.0</td>\n",
       "      <td>0.0</td>\n",
       "      <td>0</td>\n",
       "      <td>Rango_SDO_01</td>\n",
       "      <td>0</td>\n",
       "      <td>0</td>\n",
       "      <td>...</td>\n",
       "      <td>1</td>\n",
       "      <td>1</td>\n",
       "      <td>1</td>\n",
       "      <td>1</td>\n",
       "      <td>0</td>\n",
       "      <td>0</td>\n",
       "      <td>0</td>\n",
       "      <td>0</td>\n",
       "      <td>0</td>\n",
       "      <td>0</td>\n",
       "    </tr>\n",
       "    <tr>\n",
       "      <th>56800</th>\n",
       "      <td>201208</td>\n",
       "      <td>1</td>\n",
       "      <td>Rang_ingreso_01</td>\n",
       "      <td>Provincia</td>\n",
       "      <td>34.0</td>\n",
       "      <td>4.0</td>\n",
       "      <td>0</td>\n",
       "      <td>Rango_SDO_02</td>\n",
       "      <td>0</td>\n",
       "      <td>0</td>\n",
       "      <td>...</td>\n",
       "      <td>0</td>\n",
       "      <td>0</td>\n",
       "      <td>0</td>\n",
       "      <td>0</td>\n",
       "      <td>0</td>\n",
       "      <td>0</td>\n",
       "      <td>0</td>\n",
       "      <td>0</td>\n",
       "      <td>0</td>\n",
       "      <td>0</td>\n",
       "    </tr>\n",
       "    <tr>\n",
       "      <th>8410</th>\n",
       "      <td>201208</td>\n",
       "      <td>1</td>\n",
       "      <td>Rang_ingreso_04</td>\n",
       "      <td>Provincia</td>\n",
       "      <td>63.0</td>\n",
       "      <td>5.0</td>\n",
       "      <td>0</td>\n",
       "      <td>Rango_SDO_03</td>\n",
       "      <td>0</td>\n",
       "      <td>0</td>\n",
       "      <td>...</td>\n",
       "      <td>3</td>\n",
       "      <td>3</td>\n",
       "      <td>3</td>\n",
       "      <td>3</td>\n",
       "      <td>1</td>\n",
       "      <td>1</td>\n",
       "      <td>1</td>\n",
       "      <td>1</td>\n",
       "      <td>1</td>\n",
       "      <td>1</td>\n",
       "    </tr>\n",
       "    <tr>\n",
       "      <th>6853</th>\n",
       "      <td>201208</td>\n",
       "      <td>1</td>\n",
       "      <td>NaN</td>\n",
       "      <td>Lima</td>\n",
       "      <td>25.0</td>\n",
       "      <td>0.0</td>\n",
       "      <td>0</td>\n",
       "      <td>Rango_SDO_01</td>\n",
       "      <td>0</td>\n",
       "      <td>0</td>\n",
       "      <td>...</td>\n",
       "      <td>0</td>\n",
       "      <td>0</td>\n",
       "      <td>0</td>\n",
       "      <td>0</td>\n",
       "      <td>0</td>\n",
       "      <td>0</td>\n",
       "      <td>0</td>\n",
       "      <td>0</td>\n",
       "      <td>0</td>\n",
       "      <td>0</td>\n",
       "    </tr>\n",
       "    <tr>\n",
       "      <th>22240</th>\n",
       "      <td>201208</td>\n",
       "      <td>0</td>\n",
       "      <td>Rang_ingreso_02</td>\n",
       "      <td>Lima</td>\n",
       "      <td>27.0</td>\n",
       "      <td>0.0</td>\n",
       "      <td>0</td>\n",
       "      <td>Rango_SDO_01</td>\n",
       "      <td>0</td>\n",
       "      <td>0</td>\n",
       "      <td>...</td>\n",
       "      <td>0</td>\n",
       "      <td>0</td>\n",
       "      <td>0</td>\n",
       "      <td>0</td>\n",
       "      <td>0</td>\n",
       "      <td>0</td>\n",
       "      <td>0</td>\n",
       "      <td>0</td>\n",
       "      <td>0</td>\n",
       "      <td>0</td>\n",
       "    </tr>\n",
       "  </tbody>\n",
       "</table>\n",
       "<p>6 rows × 52 columns</p>\n",
       "</div>"
      ],
      "text/plain": [
       "                CODMES  FLG_BANCARIZADO     RANG_INGRESO FLAG_LIMA_PROVINCIA  \\\n",
       "ID_CORRELATIVO                                                                 \n",
       "35653           201208                1  Rang_ingreso_06                Lima   \n",
       "66575           201208                1  Rang_ingreso_03           Provincia   \n",
       "56800           201208                1  Rang_ingreso_01           Provincia   \n",
       "8410            201208                1  Rang_ingreso_04           Provincia   \n",
       "6853            201208                1              NaN                Lima   \n",
       "22240           201208                0  Rang_ingreso_02                Lima   \n",
       "\n",
       "                EDAD  ANTIGUEDAD  ATTRITION RANG_SDO_PASIVO_MENOS0  \\\n",
       "ID_CORRELATIVO                                                       \n",
       "35653           25.0         6.0          0           Rango_SDO_09   \n",
       "66575           27.0         0.0          0           Rango_SDO_01   \n",
       "56800           34.0         4.0          0           Rango_SDO_02   \n",
       "8410            63.0         5.0          0           Rango_SDO_03   \n",
       "6853            25.0         0.0          0           Rango_SDO_01   \n",
       "22240           27.0         0.0          0           Rango_SDO_01   \n",
       "\n",
       "                SDO_ACTIVO_MENOS0  SDO_ACTIVO_MENOS1          ...            \\\n",
       "ID_CORRELATIVO                                                ...             \n",
       "35653                           0                  0          ...             \n",
       "66575                           0                  0          ...             \n",
       "56800                           0                  0          ...             \n",
       "8410                            0                  0          ...             \n",
       "6853                            0                  0          ...             \n",
       "22240                           0                  0          ...             \n",
       "\n",
       "                NRO_ENTID_SSFF_MENOS2  NRO_ENTID_SSFF_MENOS3  \\\n",
       "ID_CORRELATIVO                                                 \n",
       "35653                               1                      1   \n",
       "66575                               1                      1   \n",
       "56800                               0                      0   \n",
       "8410                                3                      3   \n",
       "6853                                0                      0   \n",
       "22240                               0                      0   \n",
       "\n",
       "                NRO_ENTID_SSFF_MENOS4  NRO_ENTID_SSFF_MENOS5  \\\n",
       "ID_CORRELATIVO                                                 \n",
       "35653                               1                      1   \n",
       "66575                               1                      1   \n",
       "56800                               0                      0   \n",
       "8410                                3                      3   \n",
       "6853                                0                      0   \n",
       "22240                               0                      0   \n",
       "\n",
       "                FLG_SDO_OTSSFF_MENOS0  FLG_SDO_OTSSFF_MENOS1  \\\n",
       "ID_CORRELATIVO                                                 \n",
       "35653                               1                      0   \n",
       "66575                               0                      0   \n",
       "56800                               0                      0   \n",
       "8410                                1                      1   \n",
       "6853                                0                      0   \n",
       "22240                               0                      0   \n",
       "\n",
       "                FLG_SDO_OTSSFF_MENOS2  FLG_SDO_OTSSFF_MENOS3  \\\n",
       "ID_CORRELATIVO                                                 \n",
       "35653                               0                      0   \n",
       "66575                               0                      0   \n",
       "56800                               0                      0   \n",
       "8410                                1                      1   \n",
       "6853                                0                      0   \n",
       "22240                               0                      0   \n",
       "\n",
       "                FLG_SDO_OTSSFF_MENOS4  FLG_SDO_OTSSFF_MENOS5  \n",
       "ID_CORRELATIVO                                                \n",
       "35653                               0                      0  \n",
       "66575                               0                      0  \n",
       "56800                               0                      0  \n",
       "8410                                1                      1  \n",
       "6853                                0                      0  \n",
       "22240                               0                      0  \n",
       "\n",
       "[6 rows x 52 columns]"
      ]
     },
     "execution_count": 168,
     "metadata": {},
     "output_type": "execute_result"
    }
   ],
   "source": [
    "train_clientes=pd.read_excel(\"C:/Users/GIDEON/Desktop/Cursos/Hackathoneando/BBVA DATA CHALLENGE/train_clientes.xlsx\", na_values='NaN',index_col=0)\n",
    "trest_clientes=pd.read_excel(\"C:/Users/GIDEON/Desktop/Cursos/Hackathoneando/BBVA DATA CHALLENGE/test_clientes.xlsx\",na_values='NaN', index_col=0)\n",
    "train_clientes.head(6)"
   ]
  },
  {
   "cell_type": "markdown",
   "metadata": {},
   "source": [
    "## Variables:"
   ]
  },
  {
   "cell_type": "code",
   "execution_count": 67,
   "metadata": {
    "scrolled": true
   },
   "outputs": [
    {
     "name": "stdout",
     "output_type": "stream",
     "text": [
      "<class 'pandas.core.frame.DataFrame'>\n",
      "Int64Index: 70000 entries, 35653 to 34991\n",
      "Data columns (total 52 columns):\n",
      "CODMES                       70000 non-null int64\n",
      "FLG_BANCARIZADO              70000 non-null int64\n",
      "RANG_INGRESO                 60583 non-null object\n",
      "FLAG_LIMA_PROVINCIA          66614 non-null object\n",
      "EDAD                         64674 non-null float64\n",
      "ANTIGUEDAD                   68238 non-null float64\n",
      "ATTRITION                    70000 non-null int64\n",
      "RANG_SDO_PASIVO_MENOS0       70000 non-null object\n",
      "SDO_ACTIVO_MENOS0            70000 non-null int64\n",
      "SDO_ACTIVO_MENOS1            70000 non-null int64\n",
      "SDO_ACTIVO_MENOS2            70000 non-null int64\n",
      "SDO_ACTIVO_MENOS3            70000 non-null int64\n",
      "SDO_ACTIVO_MENOS4            70000 non-null int64\n",
      "SDO_ACTIVO_MENOS5            70000 non-null int64\n",
      "FLG_SEGURO_MENOS0            70000 non-null int64\n",
      "FLG_SEGURO_MENOS1            70000 non-null int64\n",
      "FLG_SEGURO_MENOS2            70000 non-null int64\n",
      "FLG_SEGURO_MENOS3            70000 non-null int64\n",
      "FLG_SEGURO_MENOS4            70000 non-null int64\n",
      "FLG_SEGURO_MENOS5            70000 non-null int64\n",
      "RANG_NRO_PRODUCTOS_MENOS0    70000 non-null object\n",
      "FLG_NOMINA                   70000 non-null int64\n",
      "NRO_ACCES_CANAL1_MENOS0      70000 non-null int64\n",
      "NRO_ACCES_CANAL1_MENOS1      70000 non-null int64\n",
      "NRO_ACCES_CANAL1_MENOS2      70000 non-null int64\n",
      "NRO_ACCES_CANAL1_MENOS3      70000 non-null int64\n",
      "NRO_ACCES_CANAL1_MENOS4      70000 non-null int64\n",
      "NRO_ACCES_CANAL1_MENOS5      70000 non-null int64\n",
      "NRO_ACCES_CANAL2_MENOS0      70000 non-null int64\n",
      "NRO_ACCES_CANAL2_MENOS1      70000 non-null int64\n",
      "NRO_ACCES_CANAL2_MENOS2      70000 non-null int64\n",
      "NRO_ACCES_CANAL2_MENOS3      70000 non-null int64\n",
      "NRO_ACCES_CANAL2_MENOS4      70000 non-null int64\n",
      "NRO_ACCES_CANAL2_MENOS5      70000 non-null int64\n",
      "NRO_ACCES_CANAL3_MENOS0      70000 non-null int64\n",
      "NRO_ACCES_CANAL3_MENOS1      70000 non-null int64\n",
      "NRO_ACCES_CANAL3_MENOS2      70000 non-null int64\n",
      "NRO_ACCES_CANAL3_MENOS3      70000 non-null int64\n",
      "NRO_ACCES_CANAL3_MENOS4      70000 non-null int64\n",
      "NRO_ACCES_CANAL3_MENOS5      70000 non-null int64\n",
      "NRO_ENTID_SSFF_MENOS0        70000 non-null int64\n",
      "NRO_ENTID_SSFF_MENOS1        70000 non-null int64\n",
      "NRO_ENTID_SSFF_MENOS2        70000 non-null int64\n",
      "NRO_ENTID_SSFF_MENOS3        70000 non-null int64\n",
      "NRO_ENTID_SSFF_MENOS4        70000 non-null int64\n",
      "NRO_ENTID_SSFF_MENOS5        70000 non-null int64\n",
      "FLG_SDO_OTSSFF_MENOS0        70000 non-null int64\n",
      "FLG_SDO_OTSSFF_MENOS1        70000 non-null int64\n",
      "FLG_SDO_OTSSFF_MENOS2        70000 non-null int64\n",
      "FLG_SDO_OTSSFF_MENOS3        70000 non-null int64\n",
      "FLG_SDO_OTSSFF_MENOS4        70000 non-null int64\n",
      "FLG_SDO_OTSSFF_MENOS5        70000 non-null int64\n",
      "dtypes: float64(2), int64(46), object(4)\n",
      "memory usage: 28.3+ MB\n"
     ]
    }
   ],
   "source": [
    "train_clientes.info()"
   ]
  },
  {
   "cell_type": "markdown",
   "metadata": {},
   "source": [
    "## Exploring Data Analysis"
   ]
  },
  {
   "cell_type": "code",
   "execution_count": 68,
   "metadata": {
    "collapsed": true
   },
   "outputs": [],
   "source": [
    "import seaborn as sns\n",
    "import matplotlib.pyplot  as plt"
   ]
  },
  {
   "cell_type": "markdown",
   "metadata": {},
   "source": [
    "**Rang_Ingreso VS Antiguedad**"
   ]
  },
  {
   "cell_type": "code",
   "execution_count": 69,
   "metadata": {},
   "outputs": [
    {
     "data": {
      "image/png": "[encoded data removed]",
      "text/plain": [
       "<matplotlib.figure.Figure at 0x1d4d21d99b0>"
      ]
     },
     "metadata": {},
     "output_type": "display_data"
    }
   ],
   "source": [
    "\n",
    "%matplotlib inline\n",
    "plt.figure(figsize=(20,8))\n",
    "ax =sns.stripplot(\"RANG_INGRESO\",\"ANTIGUEDAD\",\"ATTRITION\", data=train_clientes,\n",
    "                  marker=\"D\",palette=\"Set2\",\n",
    "                  edgecolor=\"gray\",\n",
    "                  alpha=.9,size=10);"
   ]
  },
  {
   "cell_type": "markdown",
   "metadata": {},
   "source": [
    "La concentracion de clientes que desiertan esta entre los rangos de ingresos menores de *01 - 03*, cuya **antiguedad** es mayor a **10** años. "
   ]
  },
  {
   "cell_type": "markdown",
   "metadata": {},
   "source": [
    "**RANG_INGRESO VS FLG_BANCARIZADO**"
   ]
  },
  {
   "cell_type": "code",
   "execution_count": 70,
   "metadata": {},
   "outputs": [
    {
     "data": {
      "image/png": "[encoded data removed]",
      "text/plain": [
       "<matplotlib.figure.Figure at 0x1d4d86e5898>"
      ]
     },
     "metadata": {},
     "output_type": "display_data"
    }
   ],
   "source": [
    "plt.figure(figsize=(20,8))\n",
    "sns.barplot(x=\"RANG_INGRESO\", y=\"FLG_BANCARIZADO\", hue=\"ATTRITION\", data=train_clientes);"
   ]
  },
  {
   "cell_type": "markdown",
   "metadata": {},
   "source": [
    "* Entre el Rango de Ingreso y Flag de Clientes bancarizado, agrupado por el atributo Attrition."
   ]
  },
  {
   "cell_type": "markdown",
   "metadata": {},
   "source": [
    "**Attrition Count**"
   ]
  },
  {
   "cell_type": "code",
   "execution_count": 71,
   "metadata": {},
   "outputs": [
    {
     "data": {
      "image/png": "[encoded data removed]",
      "text/plain": [
       "<matplotlib.figure.Figure at 0x1d4dc30f7f0>"
      ]
     },
     "metadata": {},
     "output_type": "display_data"
    }
   ],
   "source": [
    "sns.countplot(x=\"ATTRITION\", data=train_clientes, palette=\"Blues\");"
   ]
  },
  {
   "cell_type": "code",
   "execution_count": 72,
   "metadata": {},
   "outputs": [
    {
     "data": {
      "text/plain": [
       "0    59178\n",
       "1    10822\n",
       "Name: ATTRITION, dtype: int64"
      ]
     },
     "execution_count": 72,
     "metadata": {},
     "output_type": "execute_result"
    }
   ],
   "source": [
    "train_clientes.ATTRITION.value_counts()"
   ]
  },
  {
   "cell_type": "markdown",
   "metadata": {},
   "source": [
    "Observamos que la proporción del target es mayoritaria para la clase negativa, una de las acciones que se pueden tomar es rebalancear el target. Pues se desea predecir quienes que clientes van a desertar."
   ]
  },
  {
   "cell_type": "code",
   "execution_count": 73,
   "metadata": {},
   "outputs": [
    {
     "data": {
      "text/plain": [
       "<matplotlib.axes._subplots.AxesSubplot at 0x1d4d339f4a8>"
      ]
     },
     "execution_count": 73,
     "metadata": {},
     "output_type": "execute_result"
    },
    {
     "data": {
      "image/png": "[encoded data removed]",
      "text/plain": [
       "<matplotlib.figure.Figure at 0x1d4dbf52080>"
      ]
     },
     "metadata": {},
     "output_type": "display_data"
    }
   ],
   "source": [
    "sns.countplot(y=\"FLAG_LIMA_PROVINCIA\", hue=\"ATTRITION\", data=train_clientes, palette=\"GnBu_d\")"
   ]
  },
  {
   "cell_type": "markdown",
   "metadata": {},
   "source": [
    "La deserción presenta el mismo patron, tanto en **Lima** como en **Provincia** "
   ]
  },
  {
   "cell_type": "code",
   "execution_count": 74,
   "metadata": {},
   "outputs": [
    {
     "data": {
      "image/png": "[encoded data removed]",
      "text/plain": [
       "<matplotlib.figure.Figure at 0x1d4d75ad470>"
      ]
     },
     "metadata": {},
     "output_type": "display_data"
    }
   ],
   "source": [
    "plt.figure(figsize=(15,7))\n",
    "sns.countplot(x=\"RANG_INGRESO\", data=train_clientes, palette=\"Set3\",order=[\"Rang_ingreso_01\",\"Rang_ingreso_02\",\n",
    "                                                                            \"Rang_ingreso_03\",\"Rang_ingreso_04\",\n",
    "                                                                            \"Rang_ingreso_05\",\"Rang_ingreso_06\",\n",
    "                                                                            \"Rang_ingreso_07\",\"Rang_ingreso_08\",\n",
    "                                                                            \"Rang_ingreso_09\",]);"
   ]
  },
  {
   "cell_type": "markdown",
   "metadata": {},
   "source": [
    "+ La mayoria de clientes posee bajos ingresos menores, o categorizados como bajos."
   ]
  },
  {
   "cell_type": "markdown",
   "metadata": {},
   "source": [
    "**Antiguedad Count**"
   ]
  },
  {
   "cell_type": "code",
   "execution_count": 75,
   "metadata": {},
   "outputs": [
    {
     "data": {
      "image/png": "[encoded data removed]",
      "text/plain": [
       "<matplotlib.figure.Figure at 0x1d4d4eeb160>"
      ]
     },
     "metadata": {},
     "output_type": "display_data"
    }
   ],
   "source": [
    "plt.figure(figsize=(20,7))\n",
    "sns.countplot(x=\"ANTIGUEDAD\", data=train_clientes, hue=\"ATTRITION\");"
   ]
  },
  {
   "cell_type": "markdown",
   "metadata": {
    "collapsed": true
   },
   "source": [
    "La mayoria de clientes no tienen mas de un año en el banco."
   ]
  },
  {
   "cell_type": "code",
   "execution_count": null,
   "metadata": {
    "collapsed": true
   },
   "outputs": [],
   "source": []
  },
  {
   "cell_type": "code",
   "execution_count": null,
   "metadata": {
    "collapsed": true
   },
   "outputs": [],
   "source": []
  },
  {
   "cell_type": "code",
   "execution_count": null,
   "metadata": {
    "collapsed": true
   },
   "outputs": [],
   "source": []
  },
  {
   "cell_type": "code",
   "execution_count": null,
   "metadata": {
    "collapsed": true
   },
   "outputs": [],
   "source": []
  },
  {
   "cell_type": "markdown",
   "metadata": {},
   "source": [
    "#### Test Statistics"
   ]
  },
  {
   "cell_type": "code",
   "execution_count": 76,
   "metadata": {},
   "outputs": [
    {
     "data": {
      "text/html": [
       "<div>\n",
       "<style>\n",
       "    .dataframe thead tr:only-child th {\n",
       "        text-align: right;\n",
       "    }\n",
       "\n",
       "    .dataframe thead th {\n",
       "        text-align: left;\n",
       "    }\n",
       "\n",
       "    .dataframe tbody tr th {\n",
       "        vertical-align: top;\n",
       "    }\n",
       "</style>\n",
       "<table border=\"1\" class=\"dataframe\">\n",
       "  <thead>\n",
       "    <tr style=\"text-align: right;\">\n",
       "      <th>ATTRITION</th>\n",
       "      <th>0</th>\n",
       "      <th>1</th>\n",
       "    </tr>\n",
       "    <tr>\n",
       "      <th>FLG_BANCARIZADO</th>\n",
       "      <th></th>\n",
       "      <th></th>\n",
       "    </tr>\n",
       "  </thead>\n",
       "  <tbody>\n",
       "    <tr>\n",
       "      <th>0</th>\n",
       "      <td>8996</td>\n",
       "      <td>2271</td>\n",
       "    </tr>\n",
       "    <tr>\n",
       "      <th>1</th>\n",
       "      <td>50182</td>\n",
       "      <td>8551</td>\n",
       "    </tr>\n",
       "  </tbody>\n",
       "</table>\n",
       "</div>"
      ],
      "text/plain": [
       "ATTRITION            0     1\n",
       "FLG_BANCARIZADO             \n",
       "0                 8996  2271\n",
       "1                50182  8551"
      ]
     },
     "execution_count": 76,
     "metadata": {},
     "output_type": "execute_result"
    }
   ],
   "source": [
    "ct1=pd.crosstab(train_clientes[\"FLG_BANCARIZADO\"], train_clientes[\"ATTRITION\"])\n",
    "ct1"
   ]
  },
  {
   "cell_type": "code",
   "execution_count": 77,
   "metadata": {},
   "outputs": [
    {
     "name": "stdout",
     "output_type": "stream",
     "text": [
      "ATTRITION               0        1\n",
      "FLG_BANCARIZADO                   \n",
      "0                0.152016  0.20985\n",
      "1                0.847984  0.79015\n"
     ]
    }
   ],
   "source": [
    "colsum=ct1.sum(axis=0)\n",
    "colpct=ct1/colsum\n",
    "print(colpct)"
   ]
  },
  {
   "cell_type": "code",
   "execution_count": 14,
   "metadata": {},
   "outputs": [
    {
     "data": {
      "text/plain": [
       "(226.16529659279203,\n",
       " 4.0893798141544121e-51,\n",
       " 1,\n",
       " array([[  9525.1218,   1741.8782],\n",
       "        [ 49652.8782,   9080.1218]]))"
      ]
     },
     "execution_count": 14,
     "metadata": {},
     "output_type": "execute_result"
    }
   ],
   "source": [
    "import scipy.stats\n",
    "\n",
    "scipy.stats.chi2_contingency(ct1)\n"
   ]
  },
  {
   "cell_type": "markdown",
   "metadata": {},
   "source": [
    "**Interpretacion de Test**\n",
    "* el valor de la prueba es bastante alto 226.1652 y el p value es 4.08-51 un valor bastante pequeño, "
   ]
  },
  {
   "cell_type": "markdown",
   "metadata": {},
   "source": [
    "#### PreProcessing"
   ]
  },
  {
   "cell_type": "markdown",
   "metadata": {
    "collapsed": true
   },
   "source": [
    "* RANG_INGRESO                 60583 non-null object -> 9417 missings values\n",
    "* FLAG_LIMA_PROVINCIA          66614 non-null object -> 3386 missings values\n",
    "* EDAD                         64674 non-null float64 -> 5326 missings values\n",
    "* ANTIGUEDAD                   68238 non-null float64 -> 1762 missings values"
   ]
  },
  {
   "cell_type": "code",
   "execution_count": 169,
   "metadata": {
    "scrolled": true
   },
   "outputs": [
    {
     "name": "stdout",
     "output_type": "stream",
     "text": [
      "<class 'pandas.core.frame.DataFrame'>\n",
      "Int64Index: 70000 entries, 35653 to 34991\n",
      "Data columns (total 52 columns):\n",
      "CODMES                       70000 non-null int64\n",
      "FLG_BANCARIZADO              70000 non-null int64\n",
      "RANG_INGRESO                 60583 non-null object\n",
      "FLAG_LIMA_PROVINCIA          66614 non-null object\n",
      "EDAD                         64674 non-null float64\n",
      "ANTIGUEDAD                   68238 non-null float64\n",
      "ATTRITION                    70000 non-null int64\n",
      "RANG_SDO_PASIVO_MENOS0       70000 non-null object\n",
      "SDO_ACTIVO_MENOS0            70000 non-null int64\n",
      "SDO_ACTIVO_MENOS1            70000 non-null int64\n",
      "SDO_ACTIVO_MENOS2            70000 non-null int64\n",
      "SDO_ACTIVO_MENOS3            70000 non-null int64\n",
      "SDO_ACTIVO_MENOS4            70000 non-null int64\n",
      "SDO_ACTIVO_MENOS5            70000 non-null int64\n",
      "FLG_SEGURO_MENOS0            70000 non-null int64\n",
      "FLG_SEGURO_MENOS1            70000 non-null int64\n",
      "FLG_SEGURO_MENOS2            70000 non-null int64\n",
      "FLG_SEGURO_MENOS3            70000 non-null int64\n",
      "FLG_SEGURO_MENOS4            70000 non-null int64\n",
      "FLG_SEGURO_MENOS5            70000 non-null int64\n",
      "RANG_NRO_PRODUCTOS_MENOS0    70000 non-null object\n",
      "FLG_NOMINA                   70000 non-null int64\n",
      "NRO_ACCES_CANAL1_MENOS0      70000 non-null int64\n",
      "NRO_ACCES_CANAL1_MENOS1      70000 non-null int64\n",
      "NRO_ACCES_CANAL1_MENOS2      70000 non-null int64\n",
      "NRO_ACCES_CANAL1_MENOS3      70000 non-null int64\n",
      "NRO_ACCES_CANAL1_MENOS4      70000 non-null int64\n",
      "NRO_ACCES_CANAL1_MENOS5      70000 non-null int64\n",
      "NRO_ACCES_CANAL2_MENOS0      70000 non-null int64\n",
      "NRO_ACCES_CANAL2_MENOS1      70000 non-null int64\n",
      "NRO_ACCES_CANAL2_MENOS2      70000 non-null int64\n",
      "NRO_ACCES_CANAL2_MENOS3      70000 non-null int64\n",
      "NRO_ACCES_CANAL2_MENOS4      70000 non-null int64\n",
      "NRO_ACCES_CANAL2_MENOS5      70000 non-null int64\n",
      "NRO_ACCES_CANAL3_MENOS0      70000 non-null int64\n",
      "NRO_ACCES_CANAL3_MENOS1      70000 non-null int64\n",
      "NRO_ACCES_CANAL3_MENOS2      70000 non-null int64\n",
      "NRO_ACCES_CANAL3_MENOS3      70000 non-null int64\n",
      "NRO_ACCES_CANAL3_MENOS4      70000 non-null int64\n",
      "NRO_ACCES_CANAL3_MENOS5      70000 non-null int64\n",
      "NRO_ENTID_SSFF_MENOS0        70000 non-null int64\n",
      "NRO_ENTID_SSFF_MENOS1        70000 non-null int64\n",
      "NRO_ENTID_SSFF_MENOS2        70000 non-null int64\n",
      "NRO_ENTID_SSFF_MENOS3        70000 non-null int64\n",
      "NRO_ENTID_SSFF_MENOS4        70000 non-null int64\n",
      "NRO_ENTID_SSFF_MENOS5        70000 non-null int64\n",
      "FLG_SDO_OTSSFF_MENOS0        70000 non-null int64\n",
      "FLG_SDO_OTSSFF_MENOS1        70000 non-null int64\n",
      "FLG_SDO_OTSSFF_MENOS2        70000 non-null int64\n",
      "FLG_SDO_OTSSFF_MENOS3        70000 non-null int64\n",
      "FLG_SDO_OTSSFF_MENOS4        70000 non-null int64\n",
      "FLG_SDO_OTSSFF_MENOS5        70000 non-null int64\n",
      "dtypes: float64(2), int64(46), object(4)\n",
      "memory usage: 28.3+ MB\n"
     ]
    }
   ],
   "source": [
    "train_clientes.info(null_counts =True)"
   ]
  },
  {
   "cell_type": "markdown",
   "metadata": {},
   "source": [
    "* RANG_INGRESO                 60559 non-null object -> Estimacion en base a algo xd\n",
    "* FLAG_LIMA_PROVINCIA          66581 non-null object -> Estimacion \n",
    "* EDAD                         64673 non-null float64 -> Mediana\n",
    "* ANTIGUEDAD                   66575 non-null float64 -> Mediana"
   ]
  },
  {
   "cell_type": "code",
   "execution_count": 230,
   "metadata": {
    "collapsed": true
   },
   "outputs": [],
   "source": []
  },
  {
   "cell_type": "code",
   "execution_count": 249,
   "metadata": {
    "collapsed": true
   },
   "outputs": [],
   "source": [
    "from sklearn.pipeline import Pipeline\n",
    "\n",
    "#Categoric to numeric\n",
    "dealer1=DealMissingValues(labelColumn=\"RANG_INGRESO\",clases=[\"Rang_ingreso_01\",\"Rang_ingreso_02\", \"Rang_ingreso_03\",\"Rang_ingreso_04\",\"Rang_ingreso_05\",\"Rang_ingreso_06\",\"Rang_ingreso_07\",\"Rang_ingreso_08\",\"Rang_ingreso_09\"])\n",
    "dealer2=DealMissingValues(labelColumn=\"FLAG_LIMA_PROVINCIA\",clases=[\"Lima\",\"Provincia\"])\n",
    "dealer3=DealMissingValues(labelColumn=\"RANG_SDO_PASIVO_MENOS0\",clases=[\"Cero\",\"Rango_SDO_01\",\"Rango_SDO_02\", \"Rango_SDO_03\",\"Rango_SDO_04\",\"Rango_SDO_05\",\"Rango_SDO_06\",\"Rango_SDO_07\",\"Rango_SDO_08\",\"Rango_SDO_09\",\"Rango_SDO_10\",\"Rango_SDO_11\",\"Rango_SDO_12\",\"Rango_SDO_13\",\"Rango_SDO_14\"])\n",
    "dealer4=DealMissingValues(labelColumn=\"RANG_NRO_PRODUCTOS_MENOS0\",clases=[\"Rango_01\",\"Rango_02\",\"Rango_03\",\"Rango_04\",\"Rango_05\",\"Rango_06\"])\n",
    "\n",
    "                                                                       #Imputation\n",
    "imput_mode=ImputerDataframe(['RANG_INGRESO','FLAG_LIMA_PROVINCIA'],strategy=\"most_frequent\")\n",
    "imput_median=ImputerDataframe(['EDAD','ANTIGUEDAD'],strategy=\"median\")\n",
    "\n",
    "\n",
    "pipelines_clientes = Pipeline([('RANG_INGRESO',dealer1),\n",
    "                             ('FLAG_LIMA_PROVINCIA',dealer2),\n",
    "                             ('RANG_SDO_PASIVO_MENOS0',dealer3),\n",
    "                             ('RANG_NRO_PRODUCTOS_MENOS0',dealer4),\n",
    "                             ('IMP_CAT',imput_mode),\n",
    "                             ('IMP_NUM',imput_median)])\n",
    "\n",
    "data_train_clientes = pipelines_clientes.fit_transform(train_clientes)"
   ]
  },
  {
   "cell_type": "code",
   "execution_count": 250,
   "metadata": {},
   "outputs": [
    {
     "data": {
      "text/html": [
       "<div>\n",
       "<style>\n",
       "    .dataframe thead tr:only-child th {\n",
       "        text-align: right;\n",
       "    }\n",
       "\n",
       "    .dataframe thead th {\n",
       "        text-align: left;\n",
       "    }\n",
       "\n",
       "    .dataframe tbody tr th {\n",
       "        vertical-align: top;\n",
       "    }\n",
       "</style>\n",
       "<table border=\"1\" class=\"dataframe\">\n",
       "  <thead>\n",
       "    <tr style=\"text-align: right;\">\n",
       "      <th></th>\n",
       "      <th>CODMES</th>\n",
       "      <th>FLG_BANCARIZADO</th>\n",
       "      <th>RANG_INGRESO</th>\n",
       "      <th>FLAG_LIMA_PROVINCIA</th>\n",
       "      <th>EDAD</th>\n",
       "      <th>ANTIGUEDAD</th>\n",
       "      <th>ATTRITION</th>\n",
       "      <th>RANG_SDO_PASIVO_MENOS0</th>\n",
       "      <th>SDO_ACTIVO_MENOS0</th>\n",
       "      <th>SDO_ACTIVO_MENOS1</th>\n",
       "      <th>...</th>\n",
       "      <th>NRO_ENTID_SSFF_MENOS2</th>\n",
       "      <th>NRO_ENTID_SSFF_MENOS3</th>\n",
       "      <th>NRO_ENTID_SSFF_MENOS4</th>\n",
       "      <th>NRO_ENTID_SSFF_MENOS5</th>\n",
       "      <th>FLG_SDO_OTSSFF_MENOS0</th>\n",
       "      <th>FLG_SDO_OTSSFF_MENOS1</th>\n",
       "      <th>FLG_SDO_OTSSFF_MENOS2</th>\n",
       "      <th>FLG_SDO_OTSSFF_MENOS3</th>\n",
       "      <th>FLG_SDO_OTSSFF_MENOS4</th>\n",
       "      <th>FLG_SDO_OTSSFF_MENOS5</th>\n",
       "    </tr>\n",
       "    <tr>\n",
       "      <th>ID_CORRELATIVO</th>\n",
       "      <th></th>\n",
       "      <th></th>\n",
       "      <th></th>\n",
       "      <th></th>\n",
       "      <th></th>\n",
       "      <th></th>\n",
       "      <th></th>\n",
       "      <th></th>\n",
       "      <th></th>\n",
       "      <th></th>\n",
       "      <th></th>\n",
       "      <th></th>\n",
       "      <th></th>\n",
       "      <th></th>\n",
       "      <th></th>\n",
       "      <th></th>\n",
       "      <th></th>\n",
       "      <th></th>\n",
       "      <th></th>\n",
       "      <th></th>\n",
       "      <th></th>\n",
       "    </tr>\n",
       "  </thead>\n",
       "  <tbody>\n",
       "    <tr>\n",
       "      <th>35653</th>\n",
       "      <td>201208</td>\n",
       "      <td>1</td>\n",
       "      <td>5.0</td>\n",
       "      <td>0.0</td>\n",
       "      <td>25.0</td>\n",
       "      <td>6.0</td>\n",
       "      <td>0</td>\n",
       "      <td>9</td>\n",
       "      <td>0</td>\n",
       "      <td>0</td>\n",
       "      <td>...</td>\n",
       "      <td>1</td>\n",
       "      <td>1</td>\n",
       "      <td>1</td>\n",
       "      <td>1</td>\n",
       "      <td>1</td>\n",
       "      <td>0</td>\n",
       "      <td>0</td>\n",
       "      <td>0</td>\n",
       "      <td>0</td>\n",
       "      <td>0</td>\n",
       "    </tr>\n",
       "    <tr>\n",
       "      <th>66575</th>\n",
       "      <td>201208</td>\n",
       "      <td>1</td>\n",
       "      <td>2.0</td>\n",
       "      <td>1.0</td>\n",
       "      <td>27.0</td>\n",
       "      <td>0.0</td>\n",
       "      <td>0</td>\n",
       "      <td>1</td>\n",
       "      <td>0</td>\n",
       "      <td>0</td>\n",
       "      <td>...</td>\n",
       "      <td>1</td>\n",
       "      <td>1</td>\n",
       "      <td>1</td>\n",
       "      <td>1</td>\n",
       "      <td>0</td>\n",
       "      <td>0</td>\n",
       "      <td>0</td>\n",
       "      <td>0</td>\n",
       "      <td>0</td>\n",
       "      <td>0</td>\n",
       "    </tr>\n",
       "    <tr>\n",
       "      <th>56800</th>\n",
       "      <td>201208</td>\n",
       "      <td>1</td>\n",
       "      <td>0.0</td>\n",
       "      <td>1.0</td>\n",
       "      <td>34.0</td>\n",
       "      <td>4.0</td>\n",
       "      <td>0</td>\n",
       "      <td>2</td>\n",
       "      <td>0</td>\n",
       "      <td>0</td>\n",
       "      <td>...</td>\n",
       "      <td>0</td>\n",
       "      <td>0</td>\n",
       "      <td>0</td>\n",
       "      <td>0</td>\n",
       "      <td>0</td>\n",
       "      <td>0</td>\n",
       "      <td>0</td>\n",
       "      <td>0</td>\n",
       "      <td>0</td>\n",
       "      <td>0</td>\n",
       "    </tr>\n",
       "    <tr>\n",
       "      <th>8410</th>\n",
       "      <td>201208</td>\n",
       "      <td>1</td>\n",
       "      <td>3.0</td>\n",
       "      <td>1.0</td>\n",
       "      <td>63.0</td>\n",
       "      <td>5.0</td>\n",
       "      <td>0</td>\n",
       "      <td>3</td>\n",
       "      <td>0</td>\n",
       "      <td>0</td>\n",
       "      <td>...</td>\n",
       "      <td>3</td>\n",
       "      <td>3</td>\n",
       "      <td>3</td>\n",
       "      <td>3</td>\n",
       "      <td>1</td>\n",
       "      <td>1</td>\n",
       "      <td>1</td>\n",
       "      <td>1</td>\n",
       "      <td>1</td>\n",
       "      <td>1</td>\n",
       "    </tr>\n",
       "    <tr>\n",
       "      <th>6853</th>\n",
       "      <td>201208</td>\n",
       "      <td>1</td>\n",
       "      <td>0.0</td>\n",
       "      <td>0.0</td>\n",
       "      <td>25.0</td>\n",
       "      <td>0.0</td>\n",
       "      <td>0</td>\n",
       "      <td>1</td>\n",
       "      <td>0</td>\n",
       "      <td>0</td>\n",
       "      <td>...</td>\n",
       "      <td>0</td>\n",
       "      <td>0</td>\n",
       "      <td>0</td>\n",
       "      <td>0</td>\n",
       "      <td>0</td>\n",
       "      <td>0</td>\n",
       "      <td>0</td>\n",
       "      <td>0</td>\n",
       "      <td>0</td>\n",
       "      <td>0</td>\n",
       "    </tr>\n",
       "  </tbody>\n",
       "</table>\n",
       "<p>5 rows × 52 columns</p>\n",
       "</div>"
      ],
      "text/plain": [
       "                CODMES  FLG_BANCARIZADO  RANG_INGRESO  FLAG_LIMA_PROVINCIA  \\\n",
       "ID_CORRELATIVO                                                               \n",
       "35653           201208                1           5.0                  0.0   \n",
       "66575           201208                1           2.0                  1.0   \n",
       "56800           201208                1           0.0                  1.0   \n",
       "8410            201208                1           3.0                  1.0   \n",
       "6853            201208                1           0.0                  0.0   \n",
       "\n",
       "                EDAD  ANTIGUEDAD  ATTRITION  RANG_SDO_PASIVO_MENOS0  \\\n",
       "ID_CORRELATIVO                                                        \n",
       "35653           25.0         6.0          0                       9   \n",
       "66575           27.0         0.0          0                       1   \n",
       "56800           34.0         4.0          0                       2   \n",
       "8410            63.0         5.0          0                       3   \n",
       "6853            25.0         0.0          0                       1   \n",
       "\n",
       "                SDO_ACTIVO_MENOS0  SDO_ACTIVO_MENOS1          ...            \\\n",
       "ID_CORRELATIVO                                                ...             \n",
       "35653                           0                  0          ...             \n",
       "66575                           0                  0          ...             \n",
       "56800                           0                  0          ...             \n",
       "8410                            0                  0          ...             \n",
       "6853                            0                  0          ...             \n",
       "\n",
       "                NRO_ENTID_SSFF_MENOS2  NRO_ENTID_SSFF_MENOS3  \\\n",
       "ID_CORRELATIVO                                                 \n",
       "35653                               1                      1   \n",
       "66575                               1                      1   \n",
       "56800                               0                      0   \n",
       "8410                                3                      3   \n",
       "6853                                0                      0   \n",
       "\n",
       "                NRO_ENTID_SSFF_MENOS4  NRO_ENTID_SSFF_MENOS5  \\\n",
       "ID_CORRELATIVO                                                 \n",
       "35653                               1                      1   \n",
       "66575                               1                      1   \n",
       "56800                               0                      0   \n",
       "8410                                3                      3   \n",
       "6853                                0                      0   \n",
       "\n",
       "                FLG_SDO_OTSSFF_MENOS0  FLG_SDO_OTSSFF_MENOS1  \\\n",
       "ID_CORRELATIVO                                                 \n",
       "35653                               1                      0   \n",
       "66575                               0                      0   \n",
       "56800                               0                      0   \n",
       "8410                                1                      1   \n",
       "6853                                0                      0   \n",
       "\n",
       "                FLG_SDO_OTSSFF_MENOS2  FLG_SDO_OTSSFF_MENOS3  \\\n",
       "ID_CORRELATIVO                                                 \n",
       "35653                               0                      0   \n",
       "66575                               0                      0   \n",
       "56800                               0                      0   \n",
       "8410                                1                      1   \n",
       "6853                                0                      0   \n",
       "\n",
       "                FLG_SDO_OTSSFF_MENOS4  FLG_SDO_OTSSFF_MENOS5  \n",
       "ID_CORRELATIVO                                                \n",
       "35653                               0                      0  \n",
       "66575                               0                      0  \n",
       "56800                               0                      0  \n",
       "8410                                1                      1  \n",
       "6853                                0                      0  \n",
       "\n",
       "[5 rows x 52 columns]"
      ]
     },
     "execution_count": 250,
     "metadata": {},
     "output_type": "execute_result"
    }
   ],
   "source": [
    "#Data Imputation\n",
    "\n",
    "data_train_clientes.head()"
   ]
  },
  {
   "cell_type": "code",
   "execution_count": 251,
   "metadata": {
    "collapsed": true
   },
   "outputs": [],
   "source": [
    "#from sklearn.pipeline import Pipeline\n",
    "#from sklearn.linear_model import ElasticNet\n",
    "\n",
    "\n",
    "train_x_dataframe=data_train_clientes.drop(\"ATTRITION\",axis=1)\n",
    "X_train = train_x_dataframe.values\n",
    "y_train = data_train_clientes.ATTRITION.values"
   ]
  },
  {
   "cell_type": "code",
   "execution_count": 252,
   "metadata": {},
   "outputs": [
    {
     "data": {
      "text/plain": [
       "array([ 0.        ,  0.00727767,  0.05693095,  0.01889463,  0.12483521,\n",
       "        0.0349724 ,  0.08656169,  0.01595687,  0.01042005,  0.00850509,\n",
       "        0.00636103,  0.00705253,  0.00696886,  0.00870658,  0.00816334,\n",
       "        0.01081355,  0.00439103,  0.00579694,  0.00887442,  0.0267694 ,\n",
       "        0.01545014,  0.01785366,  0.01235364,  0.00858486,  0.00620528,\n",
       "        0.00535999,  0.00548808,  0.01682251,  0.01245311,  0.00759789,\n",
       "        0.00547492,  0.00417571,  0.00405254,  0.072755  ,  0.06678905,\n",
       "        0.04545229,  0.03549775,  0.0207548 ,  0.01722556,  0.0233948 ,\n",
       "        0.02214085,  0.01888948,  0.01627711,  0.01896211,  0.02172675,\n",
       "        0.00950304,  0.00801805,  0.00648825,  0.00487909,  0.00466377,\n",
       "        0.00645768])"
      ]
     },
     "execution_count": 252,
     "metadata": {},
     "output_type": "execute_result"
    }
   ],
   "source": [
    "from sklearn.ensemble import RandomForestClassifier\n",
    "rf_model = RandomForestClassifier(n_estimators =20,criterion ='gini',bootstrap =True)\n",
    "\n",
    "rf_model.fit(X_train,y_train)\n",
    "rf_model.feature_importances_"
   ]
  },
  {
   "cell_type": "markdown",
   "metadata": {},
   "source": [
    "#### Response"
   ]
  },
  {
   "cell_type": "code",
   "execution_count": 253,
   "metadata": {},
   "outputs": [
    {
     "data": {
      "text/html": [
       "<div>\n",
       "<style>\n",
       "    .dataframe thead tr:only-child th {\n",
       "        text-align: right;\n",
       "    }\n",
       "\n",
       "    .dataframe thead th {\n",
       "        text-align: left;\n",
       "    }\n",
       "\n",
       "    .dataframe tbody tr th {\n",
       "        vertical-align: top;\n",
       "    }\n",
       "</style>\n",
       "<table border=\"1\" class=\"dataframe\">\n",
       "  <thead>\n",
       "    <tr style=\"text-align: right;\">\n",
       "      <th></th>\n",
       "      <th>CODMES</th>\n",
       "      <th>FLG_BANCARIZADO</th>\n",
       "      <th>RANG_INGRESO</th>\n",
       "      <th>FLAG_LIMA_PROVINCIA</th>\n",
       "      <th>EDAD</th>\n",
       "      <th>ANTIGUEDAD</th>\n",
       "      <th>RANG_SDO_PASIVO_MENOS0</th>\n",
       "      <th>SDO_ACTIVO_MENOS0</th>\n",
       "      <th>SDO_ACTIVO_MENOS1</th>\n",
       "      <th>SDO_ACTIVO_MENOS2</th>\n",
       "      <th>...</th>\n",
       "      <th>NRO_ENTID_SSFF_MENOS2</th>\n",
       "      <th>NRO_ENTID_SSFF_MENOS3</th>\n",
       "      <th>NRO_ENTID_SSFF_MENOS4</th>\n",
       "      <th>NRO_ENTID_SSFF_MENOS5</th>\n",
       "      <th>FLG_SDO_OTSSFF_MENOS0</th>\n",
       "      <th>FLG_SDO_OTSSFF_MENOS1</th>\n",
       "      <th>FLG_SDO_OTSSFF_MENOS2</th>\n",
       "      <th>FLG_SDO_OTSSFF_MENOS3</th>\n",
       "      <th>FLG_SDO_OTSSFF_MENOS4</th>\n",
       "      <th>FLG_SDO_OTSSFF_MENOS5</th>\n",
       "    </tr>\n",
       "    <tr>\n",
       "      <th>ID_CORRELATIVO</th>\n",
       "      <th></th>\n",
       "      <th></th>\n",
       "      <th></th>\n",
       "      <th></th>\n",
       "      <th></th>\n",
       "      <th></th>\n",
       "      <th></th>\n",
       "      <th></th>\n",
       "      <th></th>\n",
       "      <th></th>\n",
       "      <th></th>\n",
       "      <th></th>\n",
       "      <th></th>\n",
       "      <th></th>\n",
       "      <th></th>\n",
       "      <th></th>\n",
       "      <th></th>\n",
       "      <th></th>\n",
       "      <th></th>\n",
       "      <th></th>\n",
       "      <th></th>\n",
       "    </tr>\n",
       "  </thead>\n",
       "  <tbody>\n",
       "    <tr>\n",
       "      <th>47411</th>\n",
       "      <td>201208</td>\n",
       "      <td>0</td>\n",
       "      <td>2.0</td>\n",
       "      <td>0.0</td>\n",
       "      <td>32.0</td>\n",
       "      <td>0.0</td>\n",
       "      <td>1</td>\n",
       "      <td>0</td>\n",
       "      <td>0</td>\n",
       "      <td>0</td>\n",
       "      <td>...</td>\n",
       "      <td>0</td>\n",
       "      <td>0</td>\n",
       "      <td>0</td>\n",
       "      <td>0</td>\n",
       "      <td>0</td>\n",
       "      <td>0</td>\n",
       "      <td>0</td>\n",
       "      <td>0</td>\n",
       "      <td>0</td>\n",
       "      <td>0</td>\n",
       "    </tr>\n",
       "    <tr>\n",
       "      <th>39861</th>\n",
       "      <td>201208</td>\n",
       "      <td>1</td>\n",
       "      <td>2.0</td>\n",
       "      <td>1.0</td>\n",
       "      <td>37.0</td>\n",
       "      <td>0.0</td>\n",
       "      <td>1</td>\n",
       "      <td>0</td>\n",
       "      <td>0</td>\n",
       "      <td>0</td>\n",
       "      <td>...</td>\n",
       "      <td>2</td>\n",
       "      <td>2</td>\n",
       "      <td>2</td>\n",
       "      <td>2</td>\n",
       "      <td>0</td>\n",
       "      <td>0</td>\n",
       "      <td>0</td>\n",
       "      <td>0</td>\n",
       "      <td>0</td>\n",
       "      <td>1</td>\n",
       "    </tr>\n",
       "    <tr>\n",
       "      <th>38898</th>\n",
       "      <td>201208</td>\n",
       "      <td>1</td>\n",
       "      <td>3.0</td>\n",
       "      <td>0.0</td>\n",
       "      <td>26.0</td>\n",
       "      <td>4.0</td>\n",
       "      <td>4</td>\n",
       "      <td>0</td>\n",
       "      <td>0</td>\n",
       "      <td>0</td>\n",
       "      <td>...</td>\n",
       "      <td>3</td>\n",
       "      <td>3</td>\n",
       "      <td>3</td>\n",
       "      <td>3</td>\n",
       "      <td>1</td>\n",
       "      <td>1</td>\n",
       "      <td>1</td>\n",
       "      <td>1</td>\n",
       "      <td>1</td>\n",
       "      <td>1</td>\n",
       "    </tr>\n",
       "    <tr>\n",
       "      <th>50927</th>\n",
       "      <td>201208</td>\n",
       "      <td>1</td>\n",
       "      <td>1.0</td>\n",
       "      <td>0.0</td>\n",
       "      <td>34.0</td>\n",
       "      <td>4.0</td>\n",
       "      <td>7</td>\n",
       "      <td>0</td>\n",
       "      <td>0</td>\n",
       "      <td>0</td>\n",
       "      <td>...</td>\n",
       "      <td>1</td>\n",
       "      <td>1</td>\n",
       "      <td>0</td>\n",
       "      <td>0</td>\n",
       "      <td>0</td>\n",
       "      <td>0</td>\n",
       "      <td>0</td>\n",
       "      <td>0</td>\n",
       "      <td>0</td>\n",
       "      <td>0</td>\n",
       "    </tr>\n",
       "    <tr>\n",
       "      <th>32969</th>\n",
       "      <td>201208</td>\n",
       "      <td>1</td>\n",
       "      <td>2.0</td>\n",
       "      <td>0.0</td>\n",
       "      <td>22.0</td>\n",
       "      <td>2.0</td>\n",
       "      <td>1</td>\n",
       "      <td>0</td>\n",
       "      <td>0</td>\n",
       "      <td>0</td>\n",
       "      <td>...</td>\n",
       "      <td>0</td>\n",
       "      <td>0</td>\n",
       "      <td>0</td>\n",
       "      <td>0</td>\n",
       "      <td>0</td>\n",
       "      <td>0</td>\n",
       "      <td>0</td>\n",
       "      <td>0</td>\n",
       "      <td>0</td>\n",
       "      <td>0</td>\n",
       "    </tr>\n",
       "  </tbody>\n",
       "</table>\n",
       "<p>5 rows × 51 columns</p>\n",
       "</div>"
      ],
      "text/plain": [
       "                CODMES  FLG_BANCARIZADO  RANG_INGRESO  FLAG_LIMA_PROVINCIA  \\\n",
       "ID_CORRELATIVO                                                               \n",
       "47411           201208                0           2.0                  0.0   \n",
       "39861           201208                1           2.0                  1.0   \n",
       "38898           201208                1           3.0                  0.0   \n",
       "50927           201208                1           1.0                  0.0   \n",
       "32969           201208                1           2.0                  0.0   \n",
       "\n",
       "                EDAD  ANTIGUEDAD  RANG_SDO_PASIVO_MENOS0  SDO_ACTIVO_MENOS0  \\\n",
       "ID_CORRELATIVO                                                                \n",
       "47411           32.0         0.0                       1                  0   \n",
       "39861           37.0         0.0                       1                  0   \n",
       "38898           26.0         4.0                       4                  0   \n",
       "50927           34.0         4.0                       7                  0   \n",
       "32969           22.0         2.0                       1                  0   \n",
       "\n",
       "                SDO_ACTIVO_MENOS1  SDO_ACTIVO_MENOS2          ...            \\\n",
       "ID_CORRELATIVO                                                ...             \n",
       "47411                           0                  0          ...             \n",
       "39861                           0                  0          ...             \n",
       "38898                           0                  0          ...             \n",
       "50927                           0                  0          ...             \n",
       "32969                           0                  0          ...             \n",
       "\n",
       "                NRO_ENTID_SSFF_MENOS2  NRO_ENTID_SSFF_MENOS3  \\\n",
       "ID_CORRELATIVO                                                 \n",
       "47411                               0                      0   \n",
       "39861                               2                      2   \n",
       "38898                               3                      3   \n",
       "50927                               1                      1   \n",
       "32969                               0                      0   \n",
       "\n",
       "                NRO_ENTID_SSFF_MENOS4  NRO_ENTID_SSFF_MENOS5  \\\n",
       "ID_CORRELATIVO                                                 \n",
       "47411                               0                      0   \n",
       "39861                               2                      2   \n",
       "38898                               3                      3   \n",
       "50927                               0                      0   \n",
       "32969                               0                      0   \n",
       "\n",
       "                FLG_SDO_OTSSFF_MENOS0  FLG_SDO_OTSSFF_MENOS1  \\\n",
       "ID_CORRELATIVO                                                 \n",
       "47411                               0                      0   \n",
       "39861                               0                      0   \n",
       "38898                               1                      1   \n",
       "50927                               0                      0   \n",
       "32969                               0                      0   \n",
       "\n",
       "                FLG_SDO_OTSSFF_MENOS2  FLG_SDO_OTSSFF_MENOS3  \\\n",
       "ID_CORRELATIVO                                                 \n",
       "47411                               0                      0   \n",
       "39861                               0                      0   \n",
       "38898                               1                      1   \n",
       "50927                               0                      0   \n",
       "32969                               0                      0   \n",
       "\n",
       "                FLG_SDO_OTSSFF_MENOS4  FLG_SDO_OTSSFF_MENOS5  \n",
       "ID_CORRELATIVO                                                \n",
       "47411                               0                      0  \n",
       "39861                               0                      1  \n",
       "38898                               1                      1  \n",
       "50927                               0                      0  \n",
       "32969                               0                      0  \n",
       "\n",
       "[5 rows x 51 columns]"
      ]
     },
     "execution_count": 253,
     "metadata": {},
     "output_type": "execute_result"
    }
   ],
   "source": [
    "data_test = pipelines_clientes.transform(trest_clientes)\n",
    "data_test.head()\n"
   ]
  },
  {
   "cell_type": "code",
   "execution_count": 254,
   "metadata": {
    "collapsed": true
   },
   "outputs": [],
   "source": [
    "X_test=data_test.values\n",
    "y_predict=rf_model.predict(X_test)"
   ]
  },
  {
   "cell_type": "code",
   "execution_count": 271,
   "metadata": {
    "collapsed": true
   },
   "outputs": [],
   "source": [
    "data_submit=pd.DataFrame(y_predict,columns=[\"ATTRITION\"],index=data_test.index)\n",
    "data_submit.to_csv(\"submit1.csv\",encoding=\"utf-8\")"
   ]
  },
  {
   "cell_type": "code",
   "execution_count": 264,
   "metadata": {},
   "outputs": [
    {
     "data": {
      "text/plain": [
       "array([1, 0, 0, ..., 0, 0, 0], dtype=int64)"
      ]
     },
     "execution_count": 264,
     "metadata": {},
     "output_type": "execute_result"
    }
   ],
   "source": [
    "y_predict"
   ]
  },
  {
   "cell_type": "code",
   "execution_count": null,
   "metadata": {
    "collapsed": true
   },
   "outputs": [],
   "source": [
    "test.Cat"
   ]
  }
 ],
 "metadata": {
  "kernelspec": {
   "display_name": "Python 3",
   "language": "python",
   "name": "python3"
  },
  "language_info": {
   "codemirror_mode": {
    "name": "ipython",
    "version": 3
   },
   "file_extension": ".py",
   "mimetype": "text/x-python",
   "name": "python",
   "nbconvert_exporter": "python",
   "pygments_lexer": "ipython3",
   "version": "3.6.3"
  }
 },
 "nbformat": 4,
 "nbformat_minor": 2
}
