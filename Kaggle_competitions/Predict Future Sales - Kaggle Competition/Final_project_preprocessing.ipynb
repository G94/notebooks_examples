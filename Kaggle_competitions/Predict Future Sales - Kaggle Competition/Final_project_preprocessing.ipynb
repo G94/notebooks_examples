{
 "cells": [
  {
   "cell_type": "code",
   "execution_count": 1,
   "metadata": {},
   "outputs": [],
   "source": [
    "import pandas as pd\n",
    "import numpy as np\n",
    "import matplotlib.pyplot as plt\n",
    "\n",
    "from IPython.core.interactiveshell import InteractiveShell\n",
    "from multiprocessing import Pool\n",
    "from itertools import product\n",
    "\n",
    "InteractiveShell.ast_node_interactivity = \"all\"\n",
    "%matplotlib inline"
   ]
  },
  {
   "cell_type": "markdown",
   "metadata": {},
   "source": [
    "# Loading data\n"
   ]
  },
  {
   "cell_type": "code",
   "execution_count": 2,
   "metadata": {},
   "outputs": [],
   "source": [
    "path = \"/home/gustavosystemas/Downloads/data_folder/\"\n",
    "sales = pd.read_csv(path+\"sales_train_v2.csv\")\n",
    "sales[\"date\"] = pd.to_datetime(sales[\"date\"], format='%d.%m.%Y')\n",
    "categories = pd.read_csv(path+\"item_categories.csv\")\n",
    "items = pd.read_csv(path + \"items.csv\")\n",
    "shops = pd.read_csv(path + \"shops.csv\")"
   ]
  },
  {
   "cell_type": "code",
   "execution_count": 3,
   "metadata": {},
   "outputs": [],
   "source": [
    "test = pd.read_csv(path+'test.csv')\n",
    "sales_monthly = pd.read_csv(\"data_montly.csv\")"
   ]
  },
  {
   "cell_type": "code",
   "execution_count": 4,
   "metadata": {},
   "outputs": [
    {
     "name": "stdout",
     "output_type": "stream",
     "text": [
      "<class 'pandas.core.frame.DataFrame'>\n",
      "RangeIndex: 10913850 entries, 0 to 10913849\n",
      "Data columns (total 9 columns):\n",
      "shop_id               10913850 non-null int64\n",
      "item_id               10913850 non-null int64\n",
      "date_block_num        10913850 non-null int64\n",
      "item_price            10913850 non-null float64\n",
      "item_cnt_day          10913850 non-null float64\n",
      "item_name             10913850 non-null object\n",
      "item_category_id      10913850 non-null int64\n",
      "item_category_name    10913850 non-null object\n",
      "cats                  10913850 non-null object\n",
      "dtypes: float64(2), int64(4), object(3)\n",
      "memory usage: 749.4+ MB\n"
     ]
    }
   ],
   "source": [
    "sales_monthly.info(null_counts=True)"
   ]
  },
  {
   "cell_type": "markdown",
   "metadata": {},
   "source": [
    "# Target encoding\n",
    "After tried other options I'd thought about this option but it was difficult to implement as my computer does not have enough memory to perform this encoding.\n",
    "I had to set up a virtual environment on Google Cloud with at least 60 ram."
   ]
  },
  {
   "cell_type": "markdown",
   "metadata": {},
   "source": [
    "I applied target encoding on all category data:\n",
    "- item_id, \n",
    "- shop_id \n",
    "- item_category_id\n",
    "- cats"
   ]
  },
  {
   "cell_type": "code",
   "execution_count": 5,
   "metadata": {},
   "outputs": [],
   "source": [
    "for type_id in ['item_id','shop_id','item_category_id','cats']:\n",
    "    for column_id, agg_func, func_name in [('item_price',np.mean,'avg'),('item_cnt_day',np.sum,'sum'),('item_cnt_day',np.mean,'avg')]:\n",
    "\n",
    "        mean_df = sales_monthly.groupby([type_id,'date_block_num']).agg(agg_func).reset_index()[[column_id,type_id,'date_block_num']]\n",
    "        mean_df.columns = [type_id+'_'+func_name+'_'+column_id, type_id,'date_block_num']\n",
    "        \n",
    "        sales_monthly = pd.merge(sales_monthly,mean_df,on=['date_block_num', type_id],how='left')"
   ]
  },
  {
   "cell_type": "code",
   "execution_count": 11,
   "metadata": {},
   "outputs": [
    {
     "data": {
      "text/html": [
       "<div>\n",
       "<style scoped>\n",
       "    .dataframe tbody tr th:only-of-type {\n",
       "        vertical-align: middle;\n",
       "    }\n",
       "\n",
       "    .dataframe tbody tr th {\n",
       "        vertical-align: top;\n",
       "    }\n",
       "\n",
       "    .dataframe thead th {\n",
       "        text-align: right;\n",
       "    }\n",
       "</style>\n",
       "<table border=\"1\" class=\"dataframe\">\n",
       "  <thead>\n",
       "    <tr style=\"text-align: right;\">\n",
       "      <th></th>\n",
       "      <th>ID</th>\n",
       "      <th>shop_id</th>\n",
       "      <th>item_id</th>\n",
       "    </tr>\n",
       "  </thead>\n",
       "  <tbody>\n",
       "    <tr>\n",
       "      <th>0</th>\n",
       "      <td>0</td>\n",
       "      <td>5</td>\n",
       "      <td>5037</td>\n",
       "    </tr>\n",
       "    <tr>\n",
       "      <th>1</th>\n",
       "      <td>1</td>\n",
       "      <td>5</td>\n",
       "      <td>5320</td>\n",
       "    </tr>\n",
       "    <tr>\n",
       "      <th>2</th>\n",
       "      <td>2</td>\n",
       "      <td>5</td>\n",
       "      <td>5233</td>\n",
       "    </tr>\n",
       "    <tr>\n",
       "      <th>3</th>\n",
       "      <td>3</td>\n",
       "      <td>5</td>\n",
       "      <td>5232</td>\n",
       "    </tr>\n",
       "    <tr>\n",
       "      <th>4</th>\n",
       "      <td>4</td>\n",
       "      <td>5</td>\n",
       "      <td>5268</td>\n",
       "    </tr>\n",
       "  </tbody>\n",
       "</table>\n",
       "</div>"
      ],
      "text/plain": [
       "   ID  shop_id  item_id\n",
       "0   0        5     5037\n",
       "1   1        5     5320\n",
       "2   2        5     5233\n",
       "3   3        5     5232\n",
       "4   4        5     5268"
      ]
     },
     "execution_count": 11,
     "metadata": {},
     "output_type": "execute_result"
    }
   ],
   "source": [
    "test.head()"
   ]
  },
  {
   "cell_type": "code",
   "execution_count": 6,
   "metadata": {},
   "outputs": [],
   "source": [
    "test_concat = test.copy()\n",
    "test_concat['date_block_num'] = 34\n",
    "test_concat.drop('ID', axis=1, inplace=True)\n",
    "\n",
    "test_concat = test_concat.merge(items, how='left', on='item_id')\n",
    "test_concat = test_concat.merge(categories, how='left', on='item_category_id')\n",
    "test_concat.drop(['item_name','item_category_name'], axis=1, inplace=True)"
   ]
  },
  {
   "cell_type": "code",
   "execution_count": 7,
   "metadata": {},
   "outputs": [
    {
     "name": "stderr",
     "output_type": "stream",
     "text": [
      "/home/gustavosystemas/.local/lib/python3.5/site-packages/ipykernel_launcher.py:2: FutureWarning: Sorting because non-concatenation axis is not aligned. A future version\n",
      "of pandas will change to not sort by default.\n",
      "\n",
      "To accept the future behavior, pass 'sort=False'.\n",
      "\n",
      "To retain the current behavior and silence the warning, pass 'sort=True'.\n",
      "\n",
      "  \n"
     ]
    }
   ],
   "source": [
    "sales_monthly.drop(['item_name','item_category_name','cats'], axis=1, inplace=True)\n",
    "sales_monthly = pd.concat([sales_monthly,test_concat], axis=0, ignore_index=True)"
   ]
  },
  {
   "cell_type": "code",
   "execution_count": 8,
   "metadata": {},
   "outputs": [
    {
     "data": {
      "text/plain": [
       "Index(['cats_avg_item_cnt_day', 'cats_avg_item_price', 'cats_sum_item_cnt_day',\n",
       "       'date_block_num', 'item_category_id',\n",
       "       'item_category_id_avg_item_cnt_day', 'item_category_id_avg_item_price',\n",
       "       'item_category_id_sum_item_cnt_day', 'item_cnt_day', 'item_id',\n",
       "       'item_id_avg_item_cnt_day', 'item_id_avg_item_price',\n",
       "       'item_id_sum_item_cnt_day', 'item_price', 'shop_id',\n",
       "       'shop_id_avg_item_cnt_day', 'shop_id_avg_item_price',\n",
       "       'shop_id_sum_item_cnt_day'],\n",
       "      dtype='object')"
      ]
     },
     "execution_count": 8,
     "metadata": {},
     "output_type": "execute_result"
    }
   ],
   "source": [
    "sales_monthly.columns"
   ]
  },
  {
   "cell_type": "markdown",
   "metadata": {},
   "source": [
    "We create lags on 25 features. 24 features are from mean encoding and 1 feature is the item_cnt_day.\n",
    "\n",
    "After several tries, we found that month lag intervals of 1, 2, 3, 4, 5, 6, 9 and 12 give best score in the leaderboard. Take note that 16GB of ram is unable to compute such large number of interval. We need at least 64GB of ram. "
   ]
  },
  {
   "cell_type": "code",
   "execution_count": 9,
   "metadata": {},
   "outputs": [],
   "source": [
    "lag_variables  = ['cats_avg_item_cnt_day', 'cats_avg_item_price', 'cats_sum_item_cnt_day',\n",
    "                  \n",
    "                'item_id_avg_item_price','item_id_sum_item_cnt_day','item_id_avg_item_cnt_day',\n",
    "                'shop_id_avg_item_price','shop_id_sum_item_cnt_day','shop_id_avg_item_cnt_day',\n",
    "                'item_category_id_avg_item_price','item_category_id_sum_item_cnt_day','item_category_id_avg_item_cnt_day',\n",
    "                'item_cnt_day']\n",
    "\n",
    "\n",
    "lags = [1, 2, 3, 4, 5, 6, 9, 12]\n",
    "\n",
    "for lag in lags:\n",
    "    sales_lag = sales_monthly.copy()\n",
    "    sales_lag.date_block_num+=lag\n",
    "    sales_lag = sales_lag[['date_block_num','shop_id','item_id']+lag_variables]\n",
    "    sales_lag.columns = ['date_block_num','shop_id','item_id']+ [lag_feat+'_lag_'+str(lag) for lag_feat in lag_variables]\n",
    "    sales_monthly = sales_monthly.merge(sales_lag,on=['date_block_num','shop_id','item_id'] ,how='left')"
   ]
  },
  {
   "cell_type": "code",
   "execution_count": 10,
   "metadata": {},
   "outputs": [
    {
     "data": {
      "text/html": [
       "<div>\n",
       "<style scoped>\n",
       "    .dataframe tbody tr th:only-of-type {\n",
       "        vertical-align: middle;\n",
       "    }\n",
       "\n",
       "    .dataframe tbody tr th {\n",
       "        vertical-align: top;\n",
       "    }\n",
       "\n",
       "    .dataframe thead th {\n",
       "        text-align: right;\n",
       "    }\n",
       "</style>\n",
       "<table border=\"1\" class=\"dataframe\">\n",
       "  <thead>\n",
       "    <tr style=\"text-align: right;\">\n",
       "      <th></th>\n",
       "      <th>cats_avg_item_cnt_day</th>\n",
       "      <th>cats_avg_item_price</th>\n",
       "      <th>cats_sum_item_cnt_day</th>\n",
       "      <th>date_block_num</th>\n",
       "      <th>item_category_id</th>\n",
       "      <th>item_category_id_avg_item_cnt_day</th>\n",
       "      <th>item_category_id_avg_item_price</th>\n",
       "      <th>item_category_id_sum_item_cnt_day</th>\n",
       "      <th>item_cnt_day</th>\n",
       "      <th>item_id</th>\n",
       "      <th>...</th>\n",
       "      <th>item_id_avg_item_price_lag_12</th>\n",
       "      <th>item_id_sum_item_cnt_day_lag_12</th>\n",
       "      <th>item_id_avg_item_cnt_day_lag_12</th>\n",
       "      <th>shop_id_avg_item_price_lag_12</th>\n",
       "      <th>shop_id_sum_item_cnt_day_lag_12</th>\n",
       "      <th>shop_id_avg_item_cnt_day_lag_12</th>\n",
       "      <th>item_category_id_avg_item_price_lag_12</th>\n",
       "      <th>item_category_id_sum_item_cnt_day_lag_12</th>\n",
       "      <th>item_category_id_avg_item_cnt_day_lag_12</th>\n",
       "      <th>item_cnt_day_lag_12</th>\n",
       "    </tr>\n",
       "  </thead>\n",
       "  <tbody>\n",
       "    <tr>\n",
       "      <th>0</th>\n",
       "      <td>0.284659</td>\n",
       "      <td>54.498622</td>\n",
       "      <td>43002.0</td>\n",
       "      <td>0</td>\n",
       "      <td>37</td>\n",
       "      <td>0.199738</td>\n",
       "      <td>63.014719</td>\n",
       "      <td>6094.0</td>\n",
       "      <td>1.0</td>\n",
       "      <td>22154</td>\n",
       "      <td>...</td>\n",
       "      <td>NaN</td>\n",
       "      <td>NaN</td>\n",
       "      <td>NaN</td>\n",
       "      <td>NaN</td>\n",
       "      <td>NaN</td>\n",
       "      <td>NaN</td>\n",
       "      <td>NaN</td>\n",
       "      <td>NaN</td>\n",
       "      <td>NaN</td>\n",
       "      <td>NaN</td>\n",
       "    </tr>\n",
       "    <tr>\n",
       "      <th>1</th>\n",
       "      <td>0.166526</td>\n",
       "      <td>40.706469</td>\n",
       "      <td>15407.0</td>\n",
       "      <td>0</td>\n",
       "      <td>58</td>\n",
       "      <td>0.043386</td>\n",
       "      <td>54.898665</td>\n",
       "      <td>287.0</td>\n",
       "      <td>0.0</td>\n",
       "      <td>2552</td>\n",
       "      <td>...</td>\n",
       "      <td>NaN</td>\n",
       "      <td>NaN</td>\n",
       "      <td>NaN</td>\n",
       "      <td>NaN</td>\n",
       "      <td>NaN</td>\n",
       "      <td>NaN</td>\n",
       "      <td>NaN</td>\n",
       "      <td>NaN</td>\n",
       "      <td>NaN</td>\n",
       "      <td>NaN</td>\n",
       "    </tr>\n",
       "    <tr>\n",
       "      <th>2</th>\n",
       "      <td>0.166526</td>\n",
       "      <td>40.706469</td>\n",
       "      <td>15407.0</td>\n",
       "      <td>0</td>\n",
       "      <td>58</td>\n",
       "      <td>0.043386</td>\n",
       "      <td>54.898665</td>\n",
       "      <td>287.0</td>\n",
       "      <td>0.0</td>\n",
       "      <td>2554</td>\n",
       "      <td>...</td>\n",
       "      <td>NaN</td>\n",
       "      <td>NaN</td>\n",
       "      <td>NaN</td>\n",
       "      <td>NaN</td>\n",
       "      <td>NaN</td>\n",
       "      <td>NaN</td>\n",
       "      <td>NaN</td>\n",
       "      <td>NaN</td>\n",
       "      <td>NaN</td>\n",
       "      <td>NaN</td>\n",
       "    </tr>\n",
       "    <tr>\n",
       "      <th>3</th>\n",
       "      <td>0.166526</td>\n",
       "      <td>40.706469</td>\n",
       "      <td>15407.0</td>\n",
       "      <td>0</td>\n",
       "      <td>56</td>\n",
       "      <td>0.049630</td>\n",
       "      <td>38.267019</td>\n",
       "      <td>268.0</td>\n",
       "      <td>0.0</td>\n",
       "      <td>2555</td>\n",
       "      <td>...</td>\n",
       "      <td>NaN</td>\n",
       "      <td>NaN</td>\n",
       "      <td>NaN</td>\n",
       "      <td>NaN</td>\n",
       "      <td>NaN</td>\n",
       "      <td>NaN</td>\n",
       "      <td>NaN</td>\n",
       "      <td>NaN</td>\n",
       "      <td>NaN</td>\n",
       "      <td>NaN</td>\n",
       "    </tr>\n",
       "    <tr>\n",
       "      <th>4</th>\n",
       "      <td>0.166526</td>\n",
       "      <td>40.706469</td>\n",
       "      <td>15407.0</td>\n",
       "      <td>0</td>\n",
       "      <td>59</td>\n",
       "      <td>0.093280</td>\n",
       "      <td>35.593867</td>\n",
       "      <td>701.0</td>\n",
       "      <td>0.0</td>\n",
       "      <td>2564</td>\n",
       "      <td>...</td>\n",
       "      <td>NaN</td>\n",
       "      <td>NaN</td>\n",
       "      <td>NaN</td>\n",
       "      <td>NaN</td>\n",
       "      <td>NaN</td>\n",
       "      <td>NaN</td>\n",
       "      <td>NaN</td>\n",
       "      <td>NaN</td>\n",
       "      <td>NaN</td>\n",
       "      <td>NaN</td>\n",
       "    </tr>\n",
       "  </tbody>\n",
       "</table>\n",
       "<p>5 rows × 122 columns</p>\n",
       "</div>"
      ],
      "text/plain": [
       "   cats_avg_item_cnt_day  cats_avg_item_price  cats_sum_item_cnt_day  \\\n",
       "0               0.284659            54.498622                43002.0   \n",
       "1               0.166526            40.706469                15407.0   \n",
       "2               0.166526            40.706469                15407.0   \n",
       "3               0.166526            40.706469                15407.0   \n",
       "4               0.166526            40.706469                15407.0   \n",
       "\n",
       "   date_block_num  item_category_id  item_category_id_avg_item_cnt_day  \\\n",
       "0               0                37                           0.199738   \n",
       "1               0                58                           0.043386   \n",
       "2               0                58                           0.043386   \n",
       "3               0                56                           0.049630   \n",
       "4               0                59                           0.093280   \n",
       "\n",
       "   item_category_id_avg_item_price  item_category_id_sum_item_cnt_day  \\\n",
       "0                        63.014719                             6094.0   \n",
       "1                        54.898665                              287.0   \n",
       "2                        54.898665                              287.0   \n",
       "3                        38.267019                              268.0   \n",
       "4                        35.593867                              701.0   \n",
       "\n",
       "   item_cnt_day  item_id         ...           item_id_avg_item_price_lag_12  \\\n",
       "0           1.0    22154         ...                                     NaN   \n",
       "1           0.0     2552         ...                                     NaN   \n",
       "2           0.0     2554         ...                                     NaN   \n",
       "3           0.0     2555         ...                                     NaN   \n",
       "4           0.0     2564         ...                                     NaN   \n",
       "\n",
       "   item_id_sum_item_cnt_day_lag_12  item_id_avg_item_cnt_day_lag_12  \\\n",
       "0                              NaN                              NaN   \n",
       "1                              NaN                              NaN   \n",
       "2                              NaN                              NaN   \n",
       "3                              NaN                              NaN   \n",
       "4                              NaN                              NaN   \n",
       "\n",
       "   shop_id_avg_item_price_lag_12  shop_id_sum_item_cnt_day_lag_12  \\\n",
       "0                            NaN                              NaN   \n",
       "1                            NaN                              NaN   \n",
       "2                            NaN                              NaN   \n",
       "3                            NaN                              NaN   \n",
       "4                            NaN                              NaN   \n",
       "\n",
       "   shop_id_avg_item_cnt_day_lag_12  item_category_id_avg_item_price_lag_12  \\\n",
       "0                              NaN                                     NaN   \n",
       "1                              NaN                                     NaN   \n",
       "2                              NaN                                     NaN   \n",
       "3                              NaN                                     NaN   \n",
       "4                              NaN                                     NaN   \n",
       "\n",
       "   item_category_id_sum_item_cnt_day_lag_12  \\\n",
       "0                                       NaN   \n",
       "1                                       NaN   \n",
       "2                                       NaN   \n",
       "3                                       NaN   \n",
       "4                                       NaN   \n",
       "\n",
       "   item_category_id_avg_item_cnt_day_lag_12  item_cnt_day_lag_12  \n",
       "0                                       NaN                  NaN  \n",
       "1                                       NaN                  NaN  \n",
       "2                                       NaN                  NaN  \n",
       "3                                       NaN                  NaN  \n",
       "4                                       NaN                  NaN  \n",
       "\n",
       "[5 rows x 122 columns]"
      ]
     },
     "execution_count": 10,
     "metadata": {},
     "output_type": "execute_result"
    }
   ],
   "source": [
    "sales_monthly.head()"
   ]
  },
  {
   "cell_type": "markdown",
   "metadata": {},
   "source": [
    "Fill missing values"
   ]
  },
  {
   "cell_type": "code",
   "execution_count": 11,
   "metadata": {},
   "outputs": [],
   "source": [
    "for col in sales_monthly.columns:\n",
    "    if 'item_cnt' in col:\n",
    "        sales_monthly[col]=sales_monthly[col].fillna(0)\n",
    "    elif 'item_price' in col:\n",
    "        sales_monthly[col]=sales_monthly[col].fillna(sales_monthly[col].median())"
   ]
  },
  {
   "cell_type": "markdown",
   "metadata": {},
   "source": [
    "Drop uneccesary columns and take data only after 12 since the most lag month interval is 12."
   ]
  },
  {
   "cell_type": "code",
   "execution_count": 12,
   "metadata": {},
   "outputs": [],
   "source": [
    "cols_to_drop = lag_variables[:-1] + ['item_price']\n",
    "sales_monthly = sales_monthly[sales_monthly['date_block_num']>12]"
   ]
  },
  {
   "cell_type": "markdown",
   "metadata": {},
   "source": [
    "# Validation Scheme\n",
    "\n",
    "Due to the fact that we cannot use the variable date to separate in weeks or other period of times  like quartes, i choose a simple `validation scheme` as follows:\n",
    "\n",
    "- type:  holdout scheme for cross validation. \n",
    "- training: 12 to 32 for training, \n",
    "- validation: month 33 \n",
    "- testing: month 34  "
   ]
  },
  {
   "cell_type": "code",
   "execution_count": 14,
   "metadata": {},
   "outputs": [],
   "source": [
    "X_train = sales_monthly[sales_monthly['date_block_num']<33].drop(cols_to_drop, axis=1)\n",
    "X_cv =  sales_monthly[sales_monthly['date_block_num']==33].drop(cols_to_drop, axis=1)\n",
    "X_test = sales_monthly[sales_monthly['date_block_num']==34].drop(cols_to_drop, axis=1)"
   ]
  },
  {
   "cell_type": "markdown",
   "metadata": {},
   "source": [
    "# Clipped trick from kaggle discussions\n",
    "There lots of questions about this trick, which use to clipped the prediction, I follow one from another where he clipped the prediction from 0 to 40 so the dataset would have more predictions equal or greater to 20"
   ]
  },
  {
   "cell_type": "code",
   "execution_count": 21,
   "metadata": {},
   "outputs": [],
   "source": [
    "X_train['item_cnt_day'].clip_upper(40, inplace=True)\n",
    "X_train['item_cnt_day'].clip_lower(0, inplace=True)\n",
    "\n",
    "X_cv['item_cnt_day'].clip_upper(40, inplace=True)\n",
    "X_cv['item_cnt_day'].clip_lower(0, inplace=True)\n",
    "\n",
    "X_test['item_cnt_day'].clip_upper(40, inplace=True)\n",
    "X_test['item_cnt_day'].clip_lower(0, inplace=True)"
   ]
  },
  {
   "cell_type": "code",
   "execution_count": 37,
   "metadata": {},
   "outputs": [
    {
     "name": "stdout",
     "output_type": "stream",
     "text": [
      "<class 'pandas.core.frame.DataFrame'>\n",
      "Int64Index: 5839576 entries, 4836102 to 10675677\n",
      "Columns: 212 entries, date_block_num to item_cnt_day_lag_12\n",
      "dtypes: float64(207), int64(4), object(1)\n",
      "memory usage: 9.3+ GB\n"
     ]
    }
   ],
   "source": [
    "X_train.info()"
   ]
  },
  {
   "cell_type": "code",
   "execution_count": 24,
   "metadata": {},
   "outputs": [],
   "source": [
    "X_train.to_csv('X_train.csv', index=False)\n",
    "X_cv.to_csv('X_cv_v2.csv', index=False)\n",
    "X_test.to_csv('X_test.csv', index=False)"
   ]
  },
  {
   "cell_type": "code",
   "execution_count": null,
   "metadata": {},
   "outputs": [],
   "source": []
  }
 ],
 "metadata": {
  "kernelspec": {
   "display_name": "Python 3",
   "language": "python",
   "name": "python3"
  },
  "language_info": {
   "codemirror_mode": {
    "name": "ipython",
    "version": 3
   },
   "file_extension": ".py",
   "mimetype": "text/x-python",
   "name": "python",
   "nbconvert_exporter": "python",
   "pygments_lexer": "ipython3",
   "version": "3.5.2"
  }
 },
 "nbformat": 4,
 "nbformat_minor": 2
}
