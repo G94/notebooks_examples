{
 "cells": [
  {
   "cell_type": "markdown",
   "metadata": {},
   "source": [
    "# Training\n",
    "\n",
    "Firstly, I tried choosing parameters by hand because I want to obtain some insights of how lightgbm behave , because I set up a **virtual machine** which give me several advantages."
   ]
  },
  {
   "cell_type": "code",
   "execution_count": 1,
   "metadata": {},
   "outputs": [],
   "source": [
    "import pandas as pd\n",
    "import numpy as np\n",
    "import matplotlib.pyplot as plt\n",
    "from IPython.core.interactiveshell import InteractiveShell\n",
    "from multiprocessing import Pool\n",
    "import xgboost as xgb\n",
    "import lightgbm as lgbm\n",
    "from itertools import product\n",
    "from sklearn.externals import joblib\n",
    "import pickle\n",
    "InteractiveShell.ast_node_interactivity = \"all\"\n",
    "\n",
    "%matplotlib inline"
   ]
  },
  {
   "cell_type": "code",
   "execution_count": 2,
   "metadata": {},
   "outputs": [],
   "source": [
    "test = pd.read_csv('test.csv')\n",
    "X_train = pd.read_csv('X_train.csv')\n",
    "X_cv = pd.read_csv('X_cv_v2.csv')\n",
    "X_test = pd.read_csv('X_test.csv')"
   ]
  },
  {
   "cell_type": "markdown",
   "metadata": {},
   "source": [
    "I set these parameters manually it gives me good results, even after hyperopt optimization"
   ]
  },
  {
   "cell_type": "code",
   "execution_count": 3,
   "metadata": {},
   "outputs": [],
   "source": [
    "cols = [c for c in X_train.columns if c not in ['date_block_num', 'item_cnt_day','item_category_name','month','year','item_clean']]"
   ]
  },
  {
   "cell_type": "code",
   "execution_count": 4,
   "metadata": {},
   "outputs": [],
   "source": [
    "\n",
    "X_train_ = X_train[cols]\n",
    "y_train_ = X_train['item_cnt_day']\n",
    "X_valid = X_cv[cols]\n",
    "y_valid = X_cv['item_cnt_day']"
   ]
  },
  {
   "cell_type": "markdown",
   "metadata": {},
   "source": [
    "## LightGbm"
   ]
  },
  {
   "cell_type": "markdown",
   "metadata": {},
   "source": [
    "### parameters"
   ]
  },
  {
   "cell_type": "code",
   "execution_count": 12,
   "metadata": {},
   "outputs": [],
   "source": [
    "params = {\n",
    "    'boosting_type': 'gbdt',\n",
    "    'objective': 'regression',\n",
    "    'metric': 'rmse',\n",
    "    'num_iterations':500,\n",
    "    'num_leaves': 40,\n",
    "    'learning_rate': 0.03,\n",
    "    'feature_fraction': 0.6,\n",
    "    'bagging_fraction': 0.8,\n",
    "    'bagging_freq': 5,\n",
    "    'verbose': 0\n",
    "}\n",
    "\n",
    "num_round = 40"
   ]
  },
  {
   "cell_type": "code",
   "execution_count": 13,
   "metadata": {},
   "outputs": [],
   "source": [
    "d_train = lgbm.Dataset(X_train_, label=y_train_)\n",
    "d_valid = lgbm.Dataset(X_valid, label=y_valid)"
   ]
  },
  {
   "cell_type": "code",
   "execution_count": 14,
   "metadata": {},
   "outputs": [
    {
     "name": "stdout",
     "output_type": "stream",
     "text": [
      "[1]\tvalid_0's rmse: 1.38282\n",
      "Training until validation scores don't improve for 150 rounds.\n",
      "[2]\tvalid_0's rmse: 1.36828\n",
      "[3]\tvalid_0's rmse: 1.35632\n",
      "[4]\tvalid_0's rmse: 1.34348\n",
      "[5]\tvalid_0's rmse: 1.33129\n",
      "[6]\tvalid_0's rmse: 1.32142\n",
      "[7]\tvalid_0's rmse: 1.31077\n",
      "[8]\tvalid_0's rmse: 1.30173\n",
      "[9]\tvalid_0's rmse: 1.29214\n",
      "[10]\tvalid_0's rmse: 1.28555\n",
      "[11]\tvalid_0's rmse: 1.27793\n",
      "[12]\tvalid_0's rmse: 1.2692\n",
      "[13]\tvalid_0's rmse: 1.26202\n",
      "[14]\tvalid_0's rmse: 1.25442\n",
      "[15]\tvalid_0's rmse: 1.2481\n",
      "[16]\tvalid_0's rmse: 1.24138\n",
      "[17]\tvalid_0's rmse: 1.23625\n",
      "[18]\tvalid_0's rmse: 1.23115\n",
      "[19]\tvalid_0's rmse: 1.22572\n",
      "[20]\tvalid_0's rmse: 1.22106\n",
      "[21]\tvalid_0's rmse: 1.21751\n",
      "[22]\tvalid_0's rmse: 1.21479\n",
      "[23]\tvalid_0's rmse: 1.21089\n",
      "[24]\tvalid_0's rmse: 1.20657\n",
      "[25]\tvalid_0's rmse: 1.20256\n",
      "[26]\tvalid_0's rmse: 1.20124\n",
      "[27]\tvalid_0's rmse: 1.19776\n",
      "[28]\tvalid_0's rmse: 1.19468\n",
      "[29]\tvalid_0's rmse: 1.19433\n",
      "[30]\tvalid_0's rmse: 1.1912\n",
      "[31]\tvalid_0's rmse: 1.18889\n",
      "[32]\tvalid_0's rmse: 1.1865\n",
      "[33]\tvalid_0's rmse: 1.18448\n",
      "[34]\tvalid_0's rmse: 1.18166\n",
      "[35]\tvalid_0's rmse: 1.17913\n",
      "[36]\tvalid_0's rmse: 1.17675\n",
      "[37]\tvalid_0's rmse: 1.17754\n",
      "[38]\tvalid_0's rmse: 1.17529\n",
      "[39]\tvalid_0's rmse: 1.17344\n",
      "[40]\tvalid_0's rmse: 1.17431\n",
      "[41]\tvalid_0's rmse: 1.17608\n",
      "[42]\tvalid_0's rmse: 1.1747\n",
      "[43]\tvalid_0's rmse: 1.17344\n",
      "[44]\tvalid_0's rmse: 1.17185\n",
      "[45]\tvalid_0's rmse: 1.17063\n",
      "[46]\tvalid_0's rmse: 1.16954\n",
      "[47]\tvalid_0's rmse: 1.16852\n",
      "[48]\tvalid_0's rmse: 1.16767\n",
      "[49]\tvalid_0's rmse: 1.16651\n",
      "[50]\tvalid_0's rmse: 1.16551\n",
      "[51]\tvalid_0's rmse: 1.16499\n",
      "[52]\tvalid_0's rmse: 1.16416\n",
      "[53]\tvalid_0's rmse: 1.16335\n",
      "[54]\tvalid_0's rmse: 1.16269\n",
      "[55]\tvalid_0's rmse: 1.16222\n",
      "[56]\tvalid_0's rmse: 1.16143\n",
      "[57]\tvalid_0's rmse: 1.16061\n",
      "[58]\tvalid_0's rmse: 1.16045\n",
      "[59]\tvalid_0's rmse: 1.15959\n",
      "[60]\tvalid_0's rmse: 1.15906\n",
      "[61]\tvalid_0's rmse: 1.1584\n",
      "[62]\tvalid_0's rmse: 1.15817\n",
      "[63]\tvalid_0's rmse: 1.15769\n",
      "[64]\tvalid_0's rmse: 1.15782\n",
      "[65]\tvalid_0's rmse: 1.16117\n",
      "[66]\tvalid_0's rmse: 1.16073\n",
      "[67]\tvalid_0's rmse: 1.16054\n",
      "[68]\tvalid_0's rmse: 1.16001\n",
      "[69]\tvalid_0's rmse: 1.16007\n",
      "[70]\tvalid_0's rmse: 1.15975\n",
      "[71]\tvalid_0's rmse: 1.15946\n",
      "[72]\tvalid_0's rmse: 1.15905\n",
      "[73]\tvalid_0's rmse: 1.15859\n",
      "[74]\tvalid_0's rmse: 1.15827\n",
      "[75]\tvalid_0's rmse: 1.15863\n",
      "[76]\tvalid_0's rmse: 1.15832\n",
      "[77]\tvalid_0's rmse: 1.15808\n",
      "[78]\tvalid_0's rmse: 1.15766\n",
      "[79]\tvalid_0's rmse: 1.15738\n",
      "[80]\tvalid_0's rmse: 1.1571\n",
      "[81]\tvalid_0's rmse: 1.15673\n",
      "[82]\tvalid_0's rmse: 1.15646\n",
      "[83]\tvalid_0's rmse: 1.15833\n",
      "[84]\tvalid_0's rmse: 1.15825\n",
      "[85]\tvalid_0's rmse: 1.15807\n",
      "[86]\tvalid_0's rmse: 1.15793\n",
      "[87]\tvalid_0's rmse: 1.15754\n",
      "[88]\tvalid_0's rmse: 1.15738\n",
      "[89]\tvalid_0's rmse: 1.15776\n",
      "[90]\tvalid_0's rmse: 1.15763\n",
      "[91]\tvalid_0's rmse: 1.15742\n",
      "[92]\tvalid_0's rmse: 1.15717\n",
      "[93]\tvalid_0's rmse: 1.15695\n",
      "[94]\tvalid_0's rmse: 1.15679\n",
      "[95]\tvalid_0's rmse: 1.15667\n",
      "[96]\tvalid_0's rmse: 1.15673\n",
      "[97]\tvalid_0's rmse: 1.15669\n",
      "[98]\tvalid_0's rmse: 1.15669\n",
      "[99]\tvalid_0's rmse: 1.15658\n",
      "[100]\tvalid_0's rmse: 1.15645\n",
      "[101]\tvalid_0's rmse: 1.15616\n",
      "[102]\tvalid_0's rmse: 1.15602\n",
      "[103]\tvalid_0's rmse: 1.15606\n",
      "[104]\tvalid_0's rmse: 1.15594\n",
      "[105]\tvalid_0's rmse: 1.15587\n",
      "[106]\tvalid_0's rmse: 1.15581\n",
      "[107]\tvalid_0's rmse: 1.15574\n",
      "[108]\tvalid_0's rmse: 1.1557\n",
      "[109]\tvalid_0's rmse: 1.15552\n",
      "[110]\tvalid_0's rmse: 1.15551\n",
      "[111]\tvalid_0's rmse: 1.15544\n",
      "[112]\tvalid_0's rmse: 1.15504\n",
      "[113]\tvalid_0's rmse: 1.15491\n",
      "[114]\tvalid_0's rmse: 1.15478\n",
      "[115]\tvalid_0's rmse: 1.15452\n",
      "[116]\tvalid_0's rmse: 1.15417\n",
      "[117]\tvalid_0's rmse: 1.15419\n",
      "[118]\tvalid_0's rmse: 1.15419\n",
      "[119]\tvalid_0's rmse: 1.1541\n",
      "[120]\tvalid_0's rmse: 1.15416\n",
      "[121]\tvalid_0's rmse: 1.15422\n",
      "[122]\tvalid_0's rmse: 1.15411\n",
      "[123]\tvalid_0's rmse: 1.15409\n",
      "[124]\tvalid_0's rmse: 1.15415\n",
      "[125]\tvalid_0's rmse: 1.15411\n",
      "[126]\tvalid_0's rmse: 1.15394\n",
      "[127]\tvalid_0's rmse: 1.15385\n",
      "[128]\tvalid_0's rmse: 1.15369\n",
      "[129]\tvalid_0's rmse: 1.15372\n",
      "[130]\tvalid_0's rmse: 1.15373\n",
      "[131]\tvalid_0's rmse: 1.15378\n",
      "[132]\tvalid_0's rmse: 1.15369\n",
      "[133]\tvalid_0's rmse: 1.15361\n",
      "[134]\tvalid_0's rmse: 1.15362\n",
      "[135]\tvalid_0's rmse: 1.15359\n",
      "[136]\tvalid_0's rmse: 1.15361\n",
      "[137]\tvalid_0's rmse: 1.15341\n",
      "[138]\tvalid_0's rmse: 1.15327\n",
      "[139]\tvalid_0's rmse: 1.1532\n",
      "[140]\tvalid_0's rmse: 1.15326\n",
      "[141]\tvalid_0's rmse: 1.15326\n",
      "[142]\tvalid_0's rmse: 1.15334\n",
      "[143]\tvalid_0's rmse: 1.1533\n",
      "[144]\tvalid_0's rmse: 1.15329\n",
      "[145]\tvalid_0's rmse: 1.15308\n",
      "[146]\tvalid_0's rmse: 1.15313\n",
      "[147]\tvalid_0's rmse: 1.15313\n",
      "[148]\tvalid_0's rmse: 1.15306\n",
      "[149]\tvalid_0's rmse: 1.15304\n",
      "[150]\tvalid_0's rmse: 1.1531\n",
      "[151]\tvalid_0's rmse: 1.15319\n",
      "[152]\tvalid_0's rmse: 1.1531\n",
      "[153]\tvalid_0's rmse: 1.15293\n",
      "[154]\tvalid_0's rmse: 1.15304\n",
      "[155]\tvalid_0's rmse: 1.153\n",
      "[156]\tvalid_0's rmse: 1.15306\n",
      "[157]\tvalid_0's rmse: 1.15307\n",
      "[158]\tvalid_0's rmse: 1.15316\n",
      "[159]\tvalid_0's rmse: 1.15334\n",
      "[160]\tvalid_0's rmse: 1.15336\n",
      "[161]\tvalid_0's rmse: 1.15335\n",
      "[162]\tvalid_0's rmse: 1.15318\n",
      "[163]\tvalid_0's rmse: 1.15298\n",
      "[164]\tvalid_0's rmse: 1.1529\n",
      "[165]\tvalid_0's rmse: 1.15288\n",
      "[166]\tvalid_0's rmse: 1.1529\n",
      "[167]\tvalid_0's rmse: 1.1531\n",
      "[168]\tvalid_0's rmse: 1.15314\n",
      "[169]\tvalid_0's rmse: 1.15328\n",
      "[170]\tvalid_0's rmse: 1.1533\n",
      "[171]\tvalid_0's rmse: 1.15333\n",
      "[172]\tvalid_0's rmse: 1.15331\n",
      "[173]\tvalid_0's rmse: 1.15326\n",
      "[174]\tvalid_0's rmse: 1.15309\n",
      "[175]\tvalid_0's rmse: 1.15304\n",
      "[176]\tvalid_0's rmse: 1.15311\n",
      "[177]\tvalid_0's rmse: 1.15308\n",
      "[178]\tvalid_0's rmse: 1.15308\n",
      "[179]\tvalid_0's rmse: 1.1533\n",
      "[180]\tvalid_0's rmse: 1.15319\n",
      "[181]\tvalid_0's rmse: 1.1532\n",
      "[182]\tvalid_0's rmse: 1.15317\n",
      "[183]\tvalid_0's rmse: 1.15315\n",
      "[184]\tvalid_0's rmse: 1.15316\n",
      "[185]\tvalid_0's rmse: 1.15321\n",
      "[186]\tvalid_0's rmse: 1.15314\n",
      "[187]\tvalid_0's rmse: 1.1531\n",
      "[188]\tvalid_0's rmse: 1.15286\n",
      "[189]\tvalid_0's rmse: 1.153\n",
      "[190]\tvalid_0's rmse: 1.15298\n",
      "[191]\tvalid_0's rmse: 1.15303\n",
      "[192]\tvalid_0's rmse: 1.15269\n",
      "[193]\tvalid_0's rmse: 1.15264\n",
      "[194]\tvalid_0's rmse: 1.15264\n",
      "[195]\tvalid_0's rmse: 1.15256\n",
      "[196]\tvalid_0's rmse: 1.15246\n",
      "[197]\tvalid_0's rmse: 1.15251\n",
      "[198]\tvalid_0's rmse: 1.15254\n",
      "[199]\tvalid_0's rmse: 1.15253\n",
      "[200]\tvalid_0's rmse: 1.15247\n",
      "[201]\tvalid_0's rmse: 1.15269\n",
      "[202]\tvalid_0's rmse: 1.15263\n",
      "[203]\tvalid_0's rmse: 1.1526\n",
      "[204]\tvalid_0's rmse: 1.15261\n",
      "[205]\tvalid_0's rmse: 1.15255\n",
      "[206]\tvalid_0's rmse: 1.15251\n",
      "[207]\tvalid_0's rmse: 1.15227\n",
      "[208]\tvalid_0's rmse: 1.15227\n",
      "[209]\tvalid_0's rmse: 1.15234\n",
      "[210]\tvalid_0's rmse: 1.15234\n",
      "[211]\tvalid_0's rmse: 1.15233\n",
      "[212]\tvalid_0's rmse: 1.15231\n",
      "[213]\tvalid_0's rmse: 1.15228\n",
      "[214]\tvalid_0's rmse: 1.15228\n",
      "[215]\tvalid_0's rmse: 1.15225\n",
      "[216]\tvalid_0's rmse: 1.15227\n",
      "[217]\tvalid_0's rmse: 1.15217\n",
      "[218]\tvalid_0's rmse: 1.1521\n",
      "[219]\tvalid_0's rmse: 1.15207\n",
      "[220]\tvalid_0's rmse: 1.152\n",
      "[221]\tvalid_0's rmse: 1.152\n",
      "[222]\tvalid_0's rmse: 1.1519\n",
      "[223]\tvalid_0's rmse: 1.15174\n",
      "[224]\tvalid_0's rmse: 1.15169\n",
      "[225]\tvalid_0's rmse: 1.15166\n",
      "[226]\tvalid_0's rmse: 1.15165\n",
      "[227]\tvalid_0's rmse: 1.15164\n",
      "[228]\tvalid_0's rmse: 1.15203\n",
      "[229]\tvalid_0's rmse: 1.152\n",
      "[230]\tvalid_0's rmse: 1.15204\n",
      "[231]\tvalid_0's rmse: 1.15194\n",
      "[232]\tvalid_0's rmse: 1.1519\n",
      "[233]\tvalid_0's rmse: 1.15187\n",
      "[234]\tvalid_0's rmse: 1.1518\n",
      "[235]\tvalid_0's rmse: 1.15179\n",
      "[236]\tvalid_0's rmse: 1.15176\n",
      "[237]\tvalid_0's rmse: 1.15173\n",
      "[238]\tvalid_0's rmse: 1.15172\n",
      "[239]\tvalid_0's rmse: 1.1517\n",
      "[240]\tvalid_0's rmse: 1.15164\n",
      "[241]\tvalid_0's rmse: 1.15164\n",
      "[242]\tvalid_0's rmse: 1.15163\n",
      "[243]\tvalid_0's rmse: 1.15158\n",
      "[244]\tvalid_0's rmse: 1.15156\n",
      "[245]\tvalid_0's rmse: 1.15152\n",
      "[246]\tvalid_0's rmse: 1.1515\n",
      "[247]\tvalid_0's rmse: 1.15141\n",
      "[248]\tvalid_0's rmse: 1.15138\n",
      "[249]\tvalid_0's rmse: 1.15158\n",
      "[250]\tvalid_0's rmse: 1.15158\n",
      "[251]\tvalid_0's rmse: 1.15159\n",
      "[252]\tvalid_0's rmse: 1.15142\n",
      "[253]\tvalid_0's rmse: 1.15139\n",
      "[254]\tvalid_0's rmse: 1.15146\n",
      "[255]\tvalid_0's rmse: 1.15147\n",
      "[256]\tvalid_0's rmse: 1.1514\n",
      "[257]\tvalid_0's rmse: 1.15135\n",
      "[258]\tvalid_0's rmse: 1.15121\n",
      "[259]\tvalid_0's rmse: 1.1512\n",
      "[260]\tvalid_0's rmse: 1.15118\n",
      "[261]\tvalid_0's rmse: 1.15122\n",
      "[262]\tvalid_0's rmse: 1.15153\n",
      "[263]\tvalid_0's rmse: 1.15148\n",
      "[264]\tvalid_0's rmse: 1.15139\n",
      "[265]\tvalid_0's rmse: 1.15131\n",
      "[266]\tvalid_0's rmse: 1.15132\n",
      "[267]\tvalid_0's rmse: 1.15132\n",
      "[268]\tvalid_0's rmse: 1.15119\n",
      "[269]\tvalid_0's rmse: 1.15119\n",
      "[270]\tvalid_0's rmse: 1.15117\n",
      "[271]\tvalid_0's rmse: 1.15119\n",
      "[272]\tvalid_0's rmse: 1.15109\n",
      "[273]\tvalid_0's rmse: 1.15108\n",
      "[274]\tvalid_0's rmse: 1.15107\n",
      "[275]\tvalid_0's rmse: 1.15104\n",
      "[276]\tvalid_0's rmse: 1.15107\n",
      "[277]\tvalid_0's rmse: 1.15132\n",
      "[278]\tvalid_0's rmse: 1.15133\n",
      "[279]\tvalid_0's rmse: 1.15119\n",
      "[280]\tvalid_0's rmse: 1.15117\n",
      "[281]\tvalid_0's rmse: 1.15113\n",
      "[282]\tvalid_0's rmse: 1.1511\n",
      "[283]\tvalid_0's rmse: 1.1511\n",
      "[284]\tvalid_0's rmse: 1.15107\n",
      "[285]\tvalid_0's rmse: 1.15106\n",
      "[286]\tvalid_0's rmse: 1.15098\n",
      "[287]\tvalid_0's rmse: 1.15099\n",
      "[288]\tvalid_0's rmse: 1.15083\n",
      "[289]\tvalid_0's rmse: 1.15077\n",
      "[290]\tvalid_0's rmse: 1.15079\n",
      "[291]\tvalid_0's rmse: 1.15077\n",
      "[292]\tvalid_0's rmse: 1.15078\n",
      "[293]\tvalid_0's rmse: 1.15075\n",
      "[294]\tvalid_0's rmse: 1.15067\n",
      "[295]\tvalid_0's rmse: 1.15055\n",
      "[296]\tvalid_0's rmse: 1.15049\n",
      "[297]\tvalid_0's rmse: 1.1505\n",
      "[298]\tvalid_0's rmse: 1.15037\n",
      "[299]\tvalid_0's rmse: 1.15043\n",
      "[300]\tvalid_0's rmse: 1.15046\n",
      "[301]\tvalid_0's rmse: 1.15032\n",
      "[302]\tvalid_0's rmse: 1.15031\n",
      "[303]\tvalid_0's rmse: 1.15031\n",
      "[304]\tvalid_0's rmse: 1.15029\n",
      "[305]\tvalid_0's rmse: 1.15026\n",
      "[306]\tvalid_0's rmse: 1.15002\n",
      "[307]\tvalid_0's rmse: 1.14998\n",
      "[308]\tvalid_0's rmse: 1.15001\n",
      "[309]\tvalid_0's rmse: 1.15\n",
      "[310]\tvalid_0's rmse: 1.15\n",
      "[311]\tvalid_0's rmse: 1.15327\n",
      "[312]\tvalid_0's rmse: 1.15331\n",
      "[313]\tvalid_0's rmse: 1.1533\n",
      "[314]\tvalid_0's rmse: 1.15323\n",
      "[315]\tvalid_0's rmse: 1.15324\n",
      "[316]\tvalid_0's rmse: 1.15317\n",
      "[317]\tvalid_0's rmse: 1.15317\n",
      "[318]\tvalid_0's rmse: 1.15314\n",
      "[319]\tvalid_0's rmse: 1.15318\n",
      "[320]\tvalid_0's rmse: 1.15308\n",
      "[321]\tvalid_0's rmse: 1.15308\n",
      "[322]\tvalid_0's rmse: 1.15317\n",
      "[323]\tvalid_0's rmse: 1.1532\n",
      "[324]\tvalid_0's rmse: 1.15321\n",
      "[325]\tvalid_0's rmse: 1.15309\n",
      "[326]\tvalid_0's rmse: 1.15304\n",
      "[327]\tvalid_0's rmse: 1.15317\n",
      "[328]\tvalid_0's rmse: 1.15316\n",
      "[329]\tvalid_0's rmse: 1.15314\n",
      "[330]\tvalid_0's rmse: 1.15317\n",
      "[331]\tvalid_0's rmse: 1.15313\n",
      "[332]\tvalid_0's rmse: 1.15314\n",
      "[333]\tvalid_0's rmse: 1.15303\n",
      "[334]\tvalid_0's rmse: 1.15294\n",
      "[335]\tvalid_0's rmse: 1.15298\n",
      "[336]\tvalid_0's rmse: 1.15302\n",
      "[337]\tvalid_0's rmse: 1.15303\n",
      "[338]\tvalid_0's rmse: 1.15298\n",
      "[339]\tvalid_0's rmse: 1.15297\n",
      "[340]\tvalid_0's rmse: 1.15288\n",
      "[341]\tvalid_0's rmse: 1.15287\n",
      "[342]\tvalid_0's rmse: 1.15288\n",
      "[343]\tvalid_0's rmse: 1.15285\n",
      "[344]\tvalid_0's rmse: 1.15286\n",
      "[345]\tvalid_0's rmse: 1.15275\n",
      "[346]\tvalid_0's rmse: 1.15274\n",
      "[347]\tvalid_0's rmse: 1.15266\n",
      "[348]\tvalid_0's rmse: 1.15261\n",
      "[349]\tvalid_0's rmse: 1.15257\n",
      "[350]\tvalid_0's rmse: 1.15252\n",
      "[351]\tvalid_0's rmse: 1.1525\n",
      "[352]\tvalid_0's rmse: 1.15237\n",
      "[353]\tvalid_0's rmse: 1.1523\n",
      "[354]\tvalid_0's rmse: 1.15261\n",
      "[355]\tvalid_0's rmse: 1.15248\n",
      "[356]\tvalid_0's rmse: 1.15247\n",
      "[357]\tvalid_0's rmse: 1.15243\n",
      "[358]\tvalid_0's rmse: 1.15242\n",
      "[359]\tvalid_0's rmse: 1.15241\n",
      "[360]\tvalid_0's rmse: 1.15237\n",
      "[361]\tvalid_0's rmse: 1.15236\n",
      "[362]\tvalid_0's rmse: 1.15235\n",
      "[363]\tvalid_0's rmse: 1.15235\n",
      "[364]\tvalid_0's rmse: 1.15245\n",
      "[365]\tvalid_0's rmse: 1.15244\n",
      "[366]\tvalid_0's rmse: 1.15243\n",
      "[367]\tvalid_0's rmse: 1.15235\n",
      "[368]\tvalid_0's rmse: 1.15237\n",
      "[369]\tvalid_0's rmse: 1.15232\n",
      "[370]\tvalid_0's rmse: 1.15231\n",
      "[371]\tvalid_0's rmse: 1.1523\n",
      "[372]\tvalid_0's rmse: 1.15233\n",
      "[373]\tvalid_0's rmse: 1.15234\n",
      "[374]\tvalid_0's rmse: 1.15226\n",
      "[375]\tvalid_0's rmse: 1.1522\n",
      "[376]\tvalid_0's rmse: 1.15216\n",
      "[377]\tvalid_0's rmse: 1.15217\n",
      "[378]\tvalid_0's rmse: 1.15226\n",
      "[379]\tvalid_0's rmse: 1.15226\n",
      "[380]\tvalid_0's rmse: 1.15222\n",
      "[381]\tvalid_0's rmse: 1.15218\n",
      "[382]\tvalid_0's rmse: 1.15215\n",
      "[383]\tvalid_0's rmse: 1.15211\n",
      "[384]\tvalid_0's rmse: 1.15212\n",
      "[385]\tvalid_0's rmse: 1.15223\n",
      "[386]\tvalid_0's rmse: 1.15222\n",
      "[387]\tvalid_0's rmse: 1.15219\n",
      "[388]\tvalid_0's rmse: 1.15212\n",
      "[389]\tvalid_0's rmse: 1.15211\n",
      "[390]\tvalid_0's rmse: 1.15213\n",
      "[391]\tvalid_0's rmse: 1.15214\n",
      "[392]\tvalid_0's rmse: 1.15213\n",
      "[393]\tvalid_0's rmse: 1.15211\n",
      "[394]\tvalid_0's rmse: 1.15173\n",
      "[395]\tvalid_0's rmse: 1.15168\n",
      "[396]\tvalid_0's rmse: 1.15168\n",
      "[397]\tvalid_0's rmse: 1.15167\n",
      "[398]\tvalid_0's rmse: 1.15165\n",
      "[399]\tvalid_0's rmse: 1.15161\n",
      "[400]\tvalid_0's rmse: 1.15157\n",
      "[401]\tvalid_0's rmse: 1.1516\n",
      "[402]\tvalid_0's rmse: 1.15158\n",
      "[403]\tvalid_0's rmse: 1.15158\n",
      "[404]\tvalid_0's rmse: 1.15182\n",
      "[405]\tvalid_0's rmse: 1.15184\n",
      "[406]\tvalid_0's rmse: 1.15185\n",
      "[407]\tvalid_0's rmse: 1.15185\n",
      "[408]\tvalid_0's rmse: 1.1517\n",
      "[409]\tvalid_0's rmse: 1.15162\n",
      "[410]\tvalid_0's rmse: 1.15157\n",
      "[411]\tvalid_0's rmse: 1.15155\n",
      "[412]\tvalid_0's rmse: 1.15156\n",
      "[413]\tvalid_0's rmse: 1.15156\n",
      "[414]\tvalid_0's rmse: 1.15153\n",
      "[415]\tvalid_0's rmse: 1.15154\n",
      "[416]\tvalid_0's rmse: 1.15155\n",
      "[417]\tvalid_0's rmse: 1.15148\n",
      "[418]\tvalid_0's rmse: 1.15148\n",
      "[419]\tvalid_0's rmse: 1.15146\n",
      "[420]\tvalid_0's rmse: 1.15143\n",
      "[421]\tvalid_0's rmse: 1.15142\n",
      "[422]\tvalid_0's rmse: 1.15138\n",
      "[423]\tvalid_0's rmse: 1.15133\n",
      "[424]\tvalid_0's rmse: 1.15128\n",
      "[425]\tvalid_0's rmse: 1.15122\n",
      "[426]\tvalid_0's rmse: 1.15116\n",
      "[427]\tvalid_0's rmse: 1.15111\n",
      "[428]\tvalid_0's rmse: 1.15115\n",
      "[429]\tvalid_0's rmse: 1.15116\n",
      "[430]\tvalid_0's rmse: 1.15105\n",
      "[431]\tvalid_0's rmse: 1.15102\n",
      "[432]\tvalid_0's rmse: 1.15099\n",
      "[433]\tvalid_0's rmse: 1.15095\n",
      "[434]\tvalid_0's rmse: 1.15096\n",
      "[435]\tvalid_0's rmse: 1.15095\n",
      "[436]\tvalid_0's rmse: 1.15093\n",
      "[437]\tvalid_0's rmse: 1.15093\n",
      "[438]\tvalid_0's rmse: 1.15091\n",
      "[439]\tvalid_0's rmse: 1.15093\n",
      "[440]\tvalid_0's rmse: 1.15091\n",
      "[441]\tvalid_0's rmse: 1.1509\n",
      "[442]\tvalid_0's rmse: 1.1509\n",
      "[443]\tvalid_0's rmse: 1.15092\n",
      "[444]\tvalid_0's rmse: 1.15095\n",
      "[445]\tvalid_0's rmse: 1.15097\n",
      "[446]\tvalid_0's rmse: 1.15097\n",
      "[447]\tvalid_0's rmse: 1.15095\n",
      "[448]\tvalid_0's rmse: 1.15095\n",
      "[449]\tvalid_0's rmse: 1.15096\n",
      "[450]\tvalid_0's rmse: 1.15095\n",
      "[451]\tvalid_0's rmse: 1.15098\n",
      "[452]\tvalid_0's rmse: 1.15099\n",
      "[453]\tvalid_0's rmse: 1.15099\n",
      "[454]\tvalid_0's rmse: 1.15104\n",
      "[455]\tvalid_0's rmse: 1.15109\n",
      "[456]\tvalid_0's rmse: 1.15106\n",
      "[457]\tvalid_0's rmse: 1.15109\n",
      "Early stopping, best iteration is:\n",
      "[307]\tvalid_0's rmse: 1.14998\n"
     ]
    }
   ],
   "source": [
    "model = lgbm.train(params, d_train, num_round, valid_sets=d_valid, early_stopping_rounds=150)"
   ]
  },
  {
   "cell_type": "code",
   "execution_count": 8,
   "metadata": {},
   "outputs": [
    {
     "data": {
      "text/plain": [
       "<matplotlib.axes._subplots.AxesSubplot at 0x7f0206d54cc0>"
      ]
     },
     "execution_count": 8,
     "metadata": {},
     "output_type": "execute_result"
    },
    {
     "data": {
      "image/png": "[encoded data removed]",
      "text/plain": [
       "<Figure size 1440x720 with 1 Axes>"
      ]
     },
     "metadata": {
      "needs_background": "light"
     },
     "output_type": "display_data"
    }
   ],
   "source": [
    "lgbm.plot_importance(model, figsize=(20,10), max_num_features=20)"
   ]
  },
  {
   "cell_type": "markdown",
   "metadata": {},
   "source": [
    "## Saving model"
   ]
  },
  {
   "cell_type": "code",
   "execution_count": 32,
   "metadata": {},
   "outputs": [
    {
     "data": {
      "text/plain": [
       "['light_gbm_v1.pkl']"
      ]
     },
     "execution_count": 32,
     "metadata": {},
     "output_type": "execute_result"
    }
   ],
   "source": [
    "name_model = \"light_gbm_v1\"\n",
    "joblib.dump(model, name_model+'.pkl')"
   ]
  },
  {
   "cell_type": "markdown",
   "metadata": {},
   "source": [
    "## Prediction"
   ]
  },
  {
   "cell_type": "markdown",
   "metadata": {},
   "source": [
    "I decide to clip the results from 0  to 20,  I take this piece of advice by checking other kernels"
   ]
  },
  {
   "cell_type": "code",
   "execution_count": 16,
   "metadata": {},
   "outputs": [],
   "source": [
    "pred = model.predict(X_test[cols])\n",
    "\n",
    "test['item_cnt_month'] = pred.clip(0,20)\n",
    "#test.drop(['shop_id', 'item_id'], axis=1, inplace=True)\n",
    "test.to_csv('submission_lgbm6.csv', index=False)"
   ]
  },
  {
   "cell_type": "code",
   "execution_count": 17,
   "metadata": {},
   "outputs": [
    {
     "data": {
      "text/plain": [
       "<matplotlib.axes._subplots.AxesSubplot at 0x7f0206c7dc88>"
      ]
     },
     "execution_count": 17,
     "metadata": {},
     "output_type": "execute_result"
    },
    {
     "data": {
      "image/png": "[encoded data removed]",
      "text/plain": [
       "<Figure size 432x288 with 1 Axes>"
      ]
     },
     "metadata": {
      "needs_background": "light"
     },
     "output_type": "display_data"
    }
   ],
   "source": [
    "test.item_cnt_month.plot()"
   ]
  },
  {
   "cell_type": "markdown",
   "metadata": {},
   "source": [
    "# Final thoughts"
   ]
  },
  {
   "cell_type": "markdown",
   "metadata": {},
   "source": [
    "By increasing **num_leaves** and **num_iterations** give good results.\n",
    "My score was **93.02** then I tried averaging with ohers submissions but didn't work as thought.\n",
    "So I decided to keep this as my final solution."
   ]
  },
  {
   "cell_type": "markdown",
   "metadata": {},
   "source": [
    "### Early stopping, best iteration is:\n",
    "\n",
    ". [64]\tvalid_0's rmse: 1.13848"
   ]
  },
  {
   "cell_type": "code",
   "execution_count": 39,
   "metadata": {},
   "outputs": [],
   "source": [
    "submit =  pd.read_csv(\"submission_lgbm4.csv\")"
   ]
  },
  {
   "cell_type": "code",
   "execution_count": 14,
   "metadata": {},
   "outputs": [
    {
     "data": {
      "text/html": [
       "<div>\n",
       "<style scoped>\n",
       "    .dataframe tbody tr th:only-of-type {\n",
       "        vertical-align: middle;\n",
       "    }\n",
       "\n",
       "    .dataframe tbody tr th {\n",
       "        vertical-align: top;\n",
       "    }\n",
       "\n",
       "    .dataframe thead th {\n",
       "        text-align: right;\n",
       "    }\n",
       "</style>\n",
       "<table border=\"1\" class=\"dataframe\">\n",
       "  <thead>\n",
       "    <tr style=\"text-align: right;\">\n",
       "      <th></th>\n",
       "      <th>ID</th>\n",
       "      <th>item_cnt_month</th>\n",
       "    </tr>\n",
       "  </thead>\n",
       "  <tbody>\n",
       "    <tr>\n",
       "      <th>0</th>\n",
       "      <td>0</td>\n",
       "      <td>20.0</td>\n",
       "    </tr>\n",
       "    <tr>\n",
       "      <th>1</th>\n",
       "      <td>1</td>\n",
       "      <td>20.0</td>\n",
       "    </tr>\n",
       "    <tr>\n",
       "      <th>2</th>\n",
       "      <td>2</td>\n",
       "      <td>20.0</td>\n",
       "    </tr>\n",
       "    <tr>\n",
       "      <th>3</th>\n",
       "      <td>3</td>\n",
       "      <td>20.0</td>\n",
       "    </tr>\n",
       "    <tr>\n",
       "      <th>4</th>\n",
       "      <td>4</td>\n",
       "      <td>20.0</td>\n",
       "    </tr>\n",
       "  </tbody>\n",
       "</table>\n",
       "</div>"
      ],
      "text/plain": [
       "   ID  item_cnt_month\n",
       "0   0            20.0\n",
       "1   1            20.0\n",
       "2   2            20.0\n",
       "3   3            20.0\n",
       "4   4            20.0"
      ]
     },
     "execution_count": 14,
     "metadata": {},
     "output_type": "execute_result"
    }
   ],
   "source": [
    "submit.head()"
   ]
  },
  {
   "cell_type": "markdown",
   "metadata": {},
   "source": [
    "### Distribution of the predictions along the index"
   ]
  },
  {
   "cell_type": "code",
   "execution_count": 40,
   "metadata": {},
   "outputs": [
    {
     "data": {
      "text/plain": [
       "<matplotlib.axes._subplots.AxesSubplot at 0x7f1e40cb6a58>"
      ]
     },
     "execution_count": 40,
     "metadata": {},
     "output_type": "execute_result"
    },
    {
     "data": {
      "image/png": "[encoded data removed]",
      "text/plain": [
       "<Figure size 432x288 with 1 Axes>"
      ]
     },
     "metadata": {
      "needs_background": "light"
     },
     "output_type": "display_data"
    }
   ],
   "source": [
    "submit.item_cnt_month.plot()"
   ]
  },
  {
   "cell_type": "code",
   "execution_count": null,
   "metadata": {},
   "outputs": [],
   "source": []
  }
 ],
 "metadata": {
  "kernelspec": {
   "display_name": "Python 3",
   "language": "python",
   "name": "python3"
  },
  "language_info": {
   "codemirror_mode": {
    "name": "ipython",
    "version": 3
   },
   "file_extension": ".py",
   "mimetype": "text/x-python",
   "name": "python",
   "nbconvert_exporter": "python",
   "pygments_lexer": "ipython3",
   "version": "3.5.0"
  }
 },
 "nbformat": 4,
 "nbformat_minor": 2
}
