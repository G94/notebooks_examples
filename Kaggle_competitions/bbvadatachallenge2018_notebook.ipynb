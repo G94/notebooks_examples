{
 "cells": [
  {
   "cell_type": "code",
   "execution_count": 2,
   "metadata": {},
   "outputs": [],
   "source": [
    "import pandas as pd\n",
    "import numpy as np\n",
    "import matplotlib.pyplot as plt\n",
    "import seaborn as sns\n",
    "import scipy as sc"
   ]
  },
  {
   "cell_type": "markdown",
   "metadata": {},
   "source": [
    "# Loading Data"
   ]
  },
  {
   "cell_type": "code",
   "execution_count": 2,
   "metadata": {},
   "outputs": [],
   "source": [
    "types = {'codGiro':np.float64,\n",
    "         'codEstab':np.int32,'flagLimaProvEstab':np.int32,\n",
    "         'ubigeoEstab':np.float64,'ctdTrx':np.int32,\n",
    "         'ratingMonto':np.float64,\n",
    "        }\n",
    "train = pd.read_csv(\"01dataBaseTrainTrxRec.csv\", sep =\",\", index_col=False, dtype=types,parse_dates =[\"fechaOper\"])\n",
    "\n",
    "# train.set_index(['codCliente'], inplace=True)"
   ]
  },
  {
   "cell_type": "code",
   "execution_count": 5,
   "metadata": {},
   "outputs": [],
   "source": [
    "#train[\"year\"]  = train[\"fechaOper\"].dt.year\n",
    "#train[\"month\"] = train[\"fechaOper\"].dt.month\n",
    "#train[\"day\"] = train[\"fechaOper\"].dt.day\n",
    "# train[\"year_month\"] = train[\"fechaOper\"].dt.year.apply(str)+ \"_\"+ train[\"fechaOper\"].dt.month.apply(str)"
   ]
  },
  {
   "cell_type": "code",
   "execution_count": 3,
   "metadata": {},
   "outputs": [
    {
     "data": {
      "text/plain": [
       "array([138.,  75., 110.,  66.,  85., 122., 112.,  nan, 114.,  72., 143.,\n",
       "        80.,  93., 198., 163.,  79., 209., 189.,  91.,  78.,  48., 157.,\n",
       "        50., 214.,  42., 210., 105., 111.,  95.,  26., 135., 225.,  90.,\n",
       "        41., 180.,  84.,  97., 152.,  96.,  77., 155., 146.,  74., 200.,\n",
       "        94.,  89., 212.,  16.,  64.,  49., 128.,  73., 172., 124., 206.,\n",
       "       181., 182., 219.,  53., 168., 184.,  54.,  69., 203., 160., 199.,\n",
       "        87.,  47., 205., 103., 115.,  56., 202.,  19., 192.,  83.,  92.,\n",
       "       166.,  98.,  81., 121., 177., 211., 220.,  99.,  58., 109., 201.,\n",
       "       125., 183., 100., 169., 197., 127., 130.,  65., 207.,  20., 185.,\n",
       "       108., 142., 129.,  76., 167., 162., 133., 217., 224., 149.,  14.,\n",
       "        71.,  70., 145., 126., 147.,  31., 222., 165., 106., 186.,  60.,\n",
       "       204., 120.,  51.,  43.,  44.,  63., 213., 101., 104.,  57., 216.,\n",
       "        27.,  61., 123.,  25.,  32., 173., 137.,   3.,  67., 195., 153.,\n",
       "       179.,  17., 154.,  39., 171.,  40., 159., 196.,  24., 136., 107.,\n",
       "       176.,  33., 102., 139.,   2.,   7., 164.,  10.,  23., 191., 218.,\n",
       "       132., 150., 170., 190., 193., 221.,  21., 215., 187.,  35., 151.,\n",
       "       141., 223., 156., 131., 188.,   6.,  30., 140.,  55., 117., 134.,\n",
       "        45.,  86.,  88., 194.,  68.,  52., 144.,  59., 116., 118.,  28.,\n",
       "       178.,  15., 175., 113.,   9., 158.,  12.,  82.,   4.,  37., 174.,\n",
       "        62.,  38.,  46.,  11., 148.,  18.,  29.,  36., 119.,   5., 161.,\n",
       "       208.,  22.,  13.])"
      ]
     },
     "execution_count": 3,
     "metadata": {},
     "output_type": "execute_result"
    }
   ],
   "source": [
    "train.codGiro.unique()"
   ]
  },
  {
   "cell_type": "code",
   "execution_count": 4,
   "metadata": {},
   "outputs": [
    {
     "name": "stdout",
     "output_type": "stream",
     "text": [
      "<class 'pandas.core.frame.DataFrame'>\n",
      "RangeIndex: 1591617 entries, 0 to 1591616\n",
      "Data columns (total 8 columns):\n",
      "fechaOper            1591617 non-null datetime64[ns]\n",
      "codCliente           1591617 non-null int64\n",
      "codGiro              1498931 non-null float64\n",
      "codEstab             1591617 non-null int32\n",
      "flagLimaProvEstab    1591617 non-null int32\n",
      "ubigeoEstab          1498931 non-null float64\n",
      "ctdTrx               1591617 non-null int32\n",
      "ratingMonto          1591617 non-null float64\n",
      "dtypes: datetime64[ns](1), float64(3), int32(3), int64(1)\n",
      "memory usage: 78.9 MB\n"
     ]
    }
   ],
   "source": [
    "train.info()"
   ]
  },
  {
   "cell_type": "code",
   "execution_count": 3,
   "metadata": {},
   "outputs": [],
   "source": [
    "na_value = {'rangoEdad': ['nan']}\n",
    "perfil = pd.read_csv(\"02dataBasePerfilRec.csv\", sep =\",\", na_values =na_value)"
   ]
  },
  {
   "cell_type": "markdown",
   "metadata": {},
   "source": [
    "## Preprocessing"
   ]
  },
  {
   "cell_type": "markdown",
   "metadata": {},
   "source": [
    "### train Imputation"
   ]
  },
  {
   "cell_type": "markdown",
   "metadata": {},
   "source": [
    "### perfil imputation"
   ]
  },
  {
   "cell_type": "code",
   "execution_count": 30,
   "metadata": {},
   "outputs": [],
   "source": [
    "dfilted = perfil.loc[pd.isnull(perfil[\"saldoTcEntidad1\"])].copy()"
   ]
  },
  {
   "cell_type": "code",
   "execution_count": 90,
   "metadata": {},
   "outputs": [
    {
     "data": {
      "text/html": [
       "<div>\n",
       "<style scoped>\n",
       "    .dataframe tbody tr th:only-of-type {\n",
       "        vertical-align: middle;\n",
       "    }\n",
       "\n",
       "    .dataframe tbody tr th {\n",
       "        vertical-align: top;\n",
       "    }\n",
       "\n",
       "    .dataframe thead th {\n",
       "        text-align: right;\n",
       "    }\n",
       "</style>\n",
       "<table border=\"1\" class=\"dataframe\">\n",
       "  <thead>\n",
       "    <tr style=\"text-align: right;\">\n",
       "      <th></th>\n",
       "      <th>codCliente</th>\n",
       "      <th>rangoEdad</th>\n",
       "      <th>rangoIngreso</th>\n",
       "      <th>flagGenero</th>\n",
       "      <th>flagLimaProvCliente</th>\n",
       "      <th>ubigeoCliente</th>\n",
       "      <th>rangoCtdProdAct</th>\n",
       "      <th>rangoCtdProdPas</th>\n",
       "      <th>rangoCtdProdSeg</th>\n",
       "      <th>flagBxi</th>\n",
       "      <th>saldoTcEntidad1</th>\n",
       "      <th>saldoTcEntidad2</th>\n",
       "      <th>saldoTcEntidad3</th>\n",
       "      <th>saldoTcEntidad4</th>\n",
       "    </tr>\n",
       "  </thead>\n",
       "  <tbody>\n",
       "    <tr>\n",
       "      <th>0</th>\n",
       "      <td>24041</td>\n",
       "      <td>Rango2</td>\n",
       "      <td>Rango2</td>\n",
       "      <td>1</td>\n",
       "      <td>0</td>\n",
       "      <td>360.0</td>\n",
       "      <td>Rango1</td>\n",
       "      <td>Rango1</td>\n",
       "      <td>Rango1</td>\n",
       "      <td>1</td>\n",
       "      <td>CAT_NA</td>\n",
       "      <td>CAT_NA</td>\n",
       "      <td>CAT_NA</td>\n",
       "      <td>CAT_NA</td>\n",
       "    </tr>\n",
       "    <tr>\n",
       "      <th>1</th>\n",
       "      <td>9040</td>\n",
       "      <td>Rango4</td>\n",
       "      <td>Rango6</td>\n",
       "      <td>1</td>\n",
       "      <td>1</td>\n",
       "      <td>260.0</td>\n",
       "      <td>Rango1</td>\n",
       "      <td>Rango1</td>\n",
       "      <td>Rango1</td>\n",
       "      <td>1</td>\n",
       "      <td>Rango1</td>\n",
       "      <td>Rango1</td>\n",
       "      <td>Rango1</td>\n",
       "      <td>Rango1</td>\n",
       "    </tr>\n",
       "    <tr>\n",
       "      <th>2</th>\n",
       "      <td>18233</td>\n",
       "      <td>Rango2</td>\n",
       "      <td>Rango1</td>\n",
       "      <td>1</td>\n",
       "      <td>1</td>\n",
       "      <td>273.0</td>\n",
       "      <td>Rango1</td>\n",
       "      <td>Rango2</td>\n",
       "      <td>Rango1</td>\n",
       "      <td>1</td>\n",
       "      <td>Rango2</td>\n",
       "      <td>Rango1</td>\n",
       "      <td>Rango1</td>\n",
       "      <td>Rango1</td>\n",
       "    </tr>\n",
       "    <tr>\n",
       "      <th>3</th>\n",
       "      <td>7226</td>\n",
       "      <td>Rango5</td>\n",
       "      <td>Rango3</td>\n",
       "      <td>0</td>\n",
       "      <td>1</td>\n",
       "      <td>241.0</td>\n",
       "      <td>Rango1</td>\n",
       "      <td>Rango2</td>\n",
       "      <td>Rango1</td>\n",
       "      <td>1</td>\n",
       "      <td>Rango1</td>\n",
       "      <td>Rango2</td>\n",
       "      <td>Rango1</td>\n",
       "      <td>Rango2</td>\n",
       "    </tr>\n",
       "    <tr>\n",
       "      <th>4</th>\n",
       "      <td>21617</td>\n",
       "      <td>Rango3</td>\n",
       "      <td>Rango2</td>\n",
       "      <td>1</td>\n",
       "      <td>1</td>\n",
       "      <td>268.0</td>\n",
       "      <td>Rango1</td>\n",
       "      <td>Rango1</td>\n",
       "      <td>Rango1</td>\n",
       "      <td>0</td>\n",
       "      <td>CAT_NA</td>\n",
       "      <td>CAT_NA</td>\n",
       "      <td>CAT_NA</td>\n",
       "      <td>CAT_NA</td>\n",
       "    </tr>\n",
       "  </tbody>\n",
       "</table>\n",
       "</div>"
      ],
      "text/plain": [
       "   codCliente rangoEdad rangoIngreso  flagGenero  flagLimaProvCliente  \\\n",
       "0       24041    Rango2       Rango2           1                    0   \n",
       "1        9040    Rango4       Rango6           1                    1   \n",
       "2       18233    Rango2       Rango1           1                    1   \n",
       "3        7226    Rango5       Rango3           0                    1   \n",
       "4       21617    Rango3       Rango2           1                    1   \n",
       "\n",
       "   ubigeoCliente rangoCtdProdAct rangoCtdProdPas rangoCtdProdSeg  flagBxi  \\\n",
       "0          360.0          Rango1          Rango1          Rango1        1   \n",
       "1          260.0          Rango1          Rango1          Rango1        1   \n",
       "2          273.0          Rango1          Rango2          Rango1        1   \n",
       "3          241.0          Rango1          Rango2          Rango1        1   \n",
       "4          268.0          Rango1          Rango1          Rango1        0   \n",
       "\n",
       "  saldoTcEntidad1 saldoTcEntidad2 saldoTcEntidad3 saldoTcEntidad4  \n",
       "0          CAT_NA          CAT_NA          CAT_NA          CAT_NA  \n",
       "1          Rango1          Rango1          Rango1          Rango1  \n",
       "2          Rango2          Rango1          Rango1          Rango1  \n",
       "3          Rango1          Rango2          Rango1          Rango2  \n",
       "4          CAT_NA          CAT_NA          CAT_NA          CAT_NA  "
      ]
     },
     "execution_count": 90,
     "metadata": {},
     "output_type": "execute_result"
    }
   ],
   "source": [
    "perfil.head()"
   ]
  },
  {
   "cell_type": "raw",
   "metadata": {},
   "source": [
    "values = {\"saldoTcEntidad1\":\"CAT_NA\",\"saldoTcEntidad2\":\"CAT_NA\",\"saldoTcEntidad3\":\"CAT_NA\",\"saldoTcEntidad4\":\"CAT_NA\"}\n",
    "perfil.fillna(value=values, inplace=True)\n",
    "# sns.barplot(x=\"saldoTcEntidad1\", y= \"ratingMonto\", data=dfilted)"
   ]
  },
  {
   "cell_type": "code",
   "execution_count": 12,
   "metadata": {},
   "outputs": [],
   "source": [
    "train_perfil = pd.merge(train,perfil, right_on=\"codCliente\", left_on=\"codCliente\")"
   ]
  },
  {
   "cell_type": "code",
   "execution_count": 11,
   "metadata": {},
   "outputs": [
    {
     "name": "stdout",
     "output_type": "stream",
     "text": [
      "<class 'pandas.core.frame.DataFrame'>\n",
      "Int64Index: 1591617 entries, 0 to 1591616\n",
      "Data columns (total 21 columns):\n",
      "fechaOper              1591617 non-null datetime64[ns]\n",
      "codCliente             1591617 non-null int64\n",
      "codGiro                1591617 non-null object\n",
      "codEstab               1591617 non-null int32\n",
      "flagLimaProvEstab      1591617 non-null int32\n",
      "ubigeoEstab            1591617 non-null object\n",
      "ctdTrx                 1591617 non-null int32\n",
      "ratingMonto            1591617 non-null float64\n",
      "rangoEdad              1591617 non-null object\n",
      "rangoIngreso           1591617 non-null object\n",
      "flagGenero             1591617 non-null int64\n",
      "flagLimaProvCliente    1591617 non-null int64\n",
      "ubigeoCliente          1591617 non-null object\n",
      "rangoCtdProdAct        1591617 non-null object\n",
      "rangoCtdProdPas        1591617 non-null object\n",
      "rangoCtdProdSeg        1591617 non-null object\n",
      "flagBxi                1591617 non-null int64\n",
      "saldoTcEntidad1        1591617 non-null object\n",
      "saldoTcEntidad2        1591617 non-null object\n",
      "saldoTcEntidad3        1591617 non-null object\n",
      "saldoTcEntidad4        1591617 non-null object\n",
      "dtypes: datetime64[ns](1), float64(1), int32(3), int64(4), object(12)\n",
      "memory usage: 248.9+ MB\n"
     ]
    }
   ],
   "source": [
    "train_perfil.info()"
   ]
  },
  {
   "cell_type": "markdown",
   "metadata": {},
   "source": [
    "## Exploratory Data Analysis"
   ]
  },
  {
   "cell_type": "code",
   "execution_count": 47,
   "metadata": {},
   "outputs": [
    {
     "data": {
      "text/plain": [
       "<matplotlib.axes._subplots.AxesSubplot at 0x2344f8cb3c8>"
      ]
     },
     "execution_count": 47,
     "metadata": {},
     "output_type": "execute_result"
    },
    {
     "data": {
      "image/png": "[encoded data removed]",
      "text/plain": [
       "<Figure size 432x288 with 1 Axes>"
      ]
     },
     "metadata": {
      "needs_background": "light"
     },
     "output_type": "display_data"
    }
   ],
   "source": [
    "sns.countplot(y=\"saldoTcEntidad1\",data=perfil, hue=\"rangoIngreso\")"
   ]
  },
  {
   "cell_type": "code",
   "execution_count": 48,
   "metadata": {},
   "outputs": [
    {
     "data": {
      "text/plain": [
       "<matplotlib.axes._subplots.AxesSubplot at 0x23450b456a0>"
      ]
     },
     "execution_count": 48,
     "metadata": {},
     "output_type": "execute_result"
    },
    {
     "data": {
      "image/png": "[encoded data removed]",
      "text/plain": [
       "<Figure size 432x288 with 1 Axes>"
      ]
     },
     "metadata": {
      "needs_background": "light"
     },
     "output_type": "display_data"
    }
   ],
   "source": [
    "sns.countplot(y= \"saldoTcEntidad2\",data=perfil, hue=\"rangoIngreso\")"
   ]
  },
  {
   "cell_type": "code",
   "execution_count": 49,
   "metadata": {},
   "outputs": [
    {
     "data": {
      "text/plain": [
       "<matplotlib.axes._subplots.AxesSubplot at 0x23450aadc18>"
      ]
     },
     "execution_count": 49,
     "metadata": {},
     "output_type": "execute_result"
    },
    {
     "data": {
      "image/png": "[encoded data removed]",
      "text/plain": [
       "<Figure size 432x288 with 1 Axes>"
      ]
     },
     "metadata": {
      "needs_background": "light"
     },
     "output_type": "display_data"
    }
   ],
   "source": [
    "sns.countplot(y= \"saldoTcEntidad3\",data=perfil, hue=\"rangoIngreso\")"
   ]
  },
  {
   "cell_type": "code",
   "execution_count": 53,
   "metadata": {},
   "outputs": [
    {
     "data": {
      "text/plain": [
       "<matplotlib.axes._subplots.AxesSubplot at 0x23450c9b908>"
      ]
     },
     "execution_count": 53,
     "metadata": {},
     "output_type": "execute_result"
    },
    {
     "data": {
      "image/png": "[encoded data removed]",
      "text/plain": [
       "<Figure size 432x288 with 1 Axes>"
      ]
     },
     "metadata": {
      "needs_background": "light"
     },
     "output_type": "display_data"
    }
   ],
   "source": [
    "sns.countplot(y= \"rangoIngreso\",data=perfil, hue=\"saldoTcEntidad1\")"
   ]
  },
  {
   "cell_type": "code",
   "execution_count": 52,
   "metadata": {},
   "outputs": [
    {
     "data": {
      "text/plain": [
       "<matplotlib.axes._subplots.AxesSubplot at 0x23450da41d0>"
      ]
     },
     "execution_count": 52,
     "metadata": {},
     "output_type": "execute_result"
    },
    {
     "data": {
      "image/png": "[encoded data removed]",
      "text/plain": [
       "<Figure size 432x288 with 1 Axes>"
      ]
     },
     "metadata": {
      "needs_background": "light"
     },
     "output_type": "display_data"
    }
   ],
   "source": [
    "sns.countplot(y= \"rangoEdad\",data=perfil, hue=\"saldoTcEntidad2\")"
   ]
  },
  {
   "cell_type": "code",
   "execution_count": 59,
   "metadata": {},
   "outputs": [],
   "source": [
    "train_perfil = pd.merge(train,perfil, right_on=\"codCliente\", left_on=\"codCliente\")"
   ]
  },
  {
   "cell_type": "code",
   "execution_count": 56,
   "metadata": {},
   "outputs": [
    {
     "data": {
      "text/plain": [
       "<matplotlib.axes._subplots.AxesSubplot at 0x23450e961d0>"
      ]
     },
     "execution_count": 56,
     "metadata": {},
     "output_type": "execute_result"
    },
    {
     "data": {
      "image/png": "[encoded data removed]",
      "text/plain": [
       "<Figure size 432x288 with 1 Axes>"
      ]
     },
     "metadata": {
      "needs_background": "light"
     },
     "output_type": "display_data"
    }
   ],
   "source": [
    "sns.boxplot(x=\"saldoTcEntidad1\", y=\"ratingMonto\",data=train_perfil)"
   ]
  },
  {
   "cell_type": "code",
   "execution_count": 71,
   "metadata": {},
   "outputs": [
    {
     "data": {
      "text/html": [
       "<div>\n",
       "<style scoped>\n",
       "    .dataframe tbody tr th:only-of-type {\n",
       "        vertical-align: middle;\n",
       "    }\n",
       "\n",
       "    .dataframe tbody tr th {\n",
       "        vertical-align: top;\n",
       "    }\n",
       "\n",
       "    .dataframe thead tr th {\n",
       "        text-align: left;\n",
       "    }\n",
       "\n",
       "    .dataframe thead tr:last-of-type th {\n",
       "        text-align: right;\n",
       "    }\n",
       "</style>\n",
       "<table border=\"1\" class=\"dataframe\">\n",
       "  <thead>\n",
       "    <tr>\n",
       "      <th></th>\n",
       "      <th colspan=\"4\" halign=\"left\">ratingMonto</th>\n",
       "    </tr>\n",
       "    <tr>\n",
       "      <th></th>\n",
       "      <th>mean</th>\n",
       "      <th>median</th>\n",
       "      <th>max</th>\n",
       "      <th>min</th>\n",
       "    </tr>\n",
       "    <tr>\n",
       "      <th>saldoTcEntidad1</th>\n",
       "      <th></th>\n",
       "      <th></th>\n",
       "      <th></th>\n",
       "      <th></th>\n",
       "    </tr>\n",
       "  </thead>\n",
       "  <tbody>\n",
       "    <tr>\n",
       "      <th>CAT_NA</th>\n",
       "      <td>0.017208</td>\n",
       "      <td>0.005989</td>\n",
       "      <td>0.931892</td>\n",
       "      <td>0.000007</td>\n",
       "    </tr>\n",
       "    <tr>\n",
       "      <th>Rango1</th>\n",
       "      <td>0.015890</td>\n",
       "      <td>0.005654</td>\n",
       "      <td>1.000000</td>\n",
       "      <td>0.000004</td>\n",
       "    </tr>\n",
       "    <tr>\n",
       "      <th>Rango2</th>\n",
       "      <td>0.011531</td>\n",
       "      <td>0.003798</td>\n",
       "      <td>0.795876</td>\n",
       "      <td>0.000008</td>\n",
       "    </tr>\n",
       "    <tr>\n",
       "      <th>Rango3</th>\n",
       "      <td>0.010559</td>\n",
       "      <td>0.003395</td>\n",
       "      <td>0.911381</td>\n",
       "      <td>0.000011</td>\n",
       "    </tr>\n",
       "    <tr>\n",
       "      <th>Rango4</th>\n",
       "      <td>0.008666</td>\n",
       "      <td>0.002739</td>\n",
       "      <td>0.886653</td>\n",
       "      <td>0.000013</td>\n",
       "    </tr>\n",
       "    <tr>\n",
       "      <th>Rango5</th>\n",
       "      <td>0.007513</td>\n",
       "      <td>0.002321</td>\n",
       "      <td>0.945582</td>\n",
       "      <td>0.000007</td>\n",
       "    </tr>\n",
       "    <tr>\n",
       "      <th>Rango6</th>\n",
       "      <td>0.006381</td>\n",
       "      <td>0.001937</td>\n",
       "      <td>0.857492</td>\n",
       "      <td>0.000003</td>\n",
       "    </tr>\n",
       "  </tbody>\n",
       "</table>\n",
       "</div>"
      ],
      "text/plain": [
       "                ratingMonto                              \n",
       "                       mean    median       max       min\n",
       "saldoTcEntidad1                                          \n",
       "CAT_NA             0.017208  0.005989  0.931892  0.000007\n",
       "Rango1             0.015890  0.005654  1.000000  0.000004\n",
       "Rango2             0.011531  0.003798  0.795876  0.000008\n",
       "Rango3             0.010559  0.003395  0.911381  0.000011\n",
       "Rango4             0.008666  0.002739  0.886653  0.000013\n",
       "Rango5             0.007513  0.002321  0.945582  0.000007\n",
       "Rango6             0.006381  0.001937  0.857492  0.000003"
      ]
     },
     "execution_count": 71,
     "metadata": {},
     "output_type": "execute_result"
    }
   ],
   "source": [
    "train_perfil.groupby([\"saldoTcEntidad1\"])[\"rangoEdad\",\"ratingMonto\"].agg([\"mean\",\"median\",\"max\",\"min\"])"
   ]
  },
  {
   "cell_type": "code",
   "execution_count": 82,
   "metadata": {},
   "outputs": [
    {
     "data": {
      "text/plain": [
       "<matplotlib.axes._subplots.AxesSubplot at 0x234023985c0>"
      ]
     },
     "execution_count": 82,
     "metadata": {},
     "output_type": "execute_result"
    },
    {
     "data": {
      "image/png": "[encoded data removed]",
      "text/plain": [
       "<Figure size 432x288 with 2 Axes>"
      ]
     },
     "metadata": {
      "needs_background": "light"
     },
     "output_type": "display_data"
    }
   ],
   "source": [
    "data_heat = train_perfil.pivot_table(index=\"saldoTcEntidad1\",columns=\"rangoEdad\",values=\"ratingMonto\",aggfunc=\"mean\")\n",
    "sns.heatmap(data_heat,annot=True, cmap=\"summer\")"
   ]
  },
  {
   "cell_type": "code",
   "execution_count": 83,
   "metadata": {},
   "outputs": [
    {
     "data": {
      "text/plain": [
       "<matplotlib.axes._subplots.AxesSubplot at 0x23402468400>"
      ]
     },
     "execution_count": 83,
     "metadata": {},
     "output_type": "execute_result"
    },
    {
     "data": {
      "image/png": "[encoded data removed]",
      "text/plain": [
       "<Figure size 432x288 with 2 Axes>"
      ]
     },
     "metadata": {
      "needs_background": "light"
     },
     "output_type": "display_data"
    }
   ],
   "source": [
    "pt_ringreso = train_perfil.pivot_table(index=\"saldoTcEntidad1\",columns=\"rangoIngreso\",values=\"ratingMonto\",aggfunc=\"mean\")\n",
    "sns.heatmap(pt_ringreso, annot=True,cmap=\"hot\")"
   ]
  },
  {
   "cell_type": "code",
   "execution_count": 65,
   "metadata": {},
   "outputs": [
    {
     "data": {
      "text/plain": [
       "<matplotlib.axes._subplots.AxesSubplot at 0x1ec8152a6d8>"
      ]
     },
     "execution_count": 65,
     "metadata": {},
     "output_type": "execute_result"
    },
    {
     "data": {
      "image/png": "[encoded data removed]",
      "text/plain": [
       "<Figure size 432x288 with 2 Axes>"
      ]
     },
     "metadata": {
      "needs_background": "light"
     },
     "output_type": "display_data"
    }
   ],
   "source": [
    "pt_ringreso = train_perfil.pivot_table(index=\"ctdTrx\",columns=\"saldoTcEntidad1\",values=\"ratingMonto\",aggfunc=\"median\")\n",
    "sns.heatmap(pt_ringreso, annot=True,cmap=\"hot\")"
   ]
  },
  {
   "cell_type": "code",
   "execution_count": 75,
   "metadata": {},
   "outputs": [
    {
     "data": {
      "text/html": [
       "<div>\n",
       "<style scoped>\n",
       "    .dataframe tbody tr th:only-of-type {\n",
       "        vertical-align: middle;\n",
       "    }\n",
       "\n",
       "    .dataframe tbody tr th {\n",
       "        vertical-align: top;\n",
       "    }\n",
       "\n",
       "    .dataframe thead th {\n",
       "        text-align: right;\n",
       "    }\n",
       "</style>\n",
       "<table border=\"1\" class=\"dataframe\">\n",
       "  <thead>\n",
       "    <tr style=\"text-align: right;\">\n",
       "      <th>rangoEdad</th>\n",
       "      <th>Rango1</th>\n",
       "      <th>Rango2</th>\n",
       "      <th>Rango3</th>\n",
       "      <th>Rango4</th>\n",
       "      <th>Rango5</th>\n",
       "      <th>Rango6</th>\n",
       "    </tr>\n",
       "    <tr>\n",
       "      <th>saldoTcEntidad1</th>\n",
       "      <th></th>\n",
       "      <th></th>\n",
       "      <th></th>\n",
       "      <th></th>\n",
       "      <th></th>\n",
       "      <th></th>\n",
       "    </tr>\n",
       "  </thead>\n",
       "  <tbody>\n",
       "    <tr>\n",
       "      <th>CAT_NA</th>\n",
       "      <td>0.019322</td>\n",
       "      <td>0.018083</td>\n",
       "      <td>0.016668</td>\n",
       "      <td>0.016611</td>\n",
       "      <td>0.014799</td>\n",
       "      <td>0.015632</td>\n",
       "    </tr>\n",
       "    <tr>\n",
       "      <th>Rango1</th>\n",
       "      <td>0.020016</td>\n",
       "      <td>0.017182</td>\n",
       "      <td>0.016118</td>\n",
       "      <td>0.015533</td>\n",
       "      <td>0.015135</td>\n",
       "      <td>0.014574</td>\n",
       "    </tr>\n",
       "    <tr>\n",
       "      <th>Rango2</th>\n",
       "      <td>0.011459</td>\n",
       "      <td>0.010601</td>\n",
       "      <td>0.011462</td>\n",
       "      <td>0.011090</td>\n",
       "      <td>0.011460</td>\n",
       "      <td>0.013129</td>\n",
       "    </tr>\n",
       "    <tr>\n",
       "      <th>Rango3</th>\n",
       "      <td>0.010285</td>\n",
       "      <td>0.009821</td>\n",
       "      <td>0.009558</td>\n",
       "      <td>0.009862</td>\n",
       "      <td>0.011715</td>\n",
       "      <td>0.012028</td>\n",
       "    </tr>\n",
       "    <tr>\n",
       "      <th>Rango4</th>\n",
       "      <td>0.008560</td>\n",
       "      <td>0.008257</td>\n",
       "      <td>0.007793</td>\n",
       "      <td>0.007939</td>\n",
       "      <td>0.009081</td>\n",
       "      <td>0.010298</td>\n",
       "    </tr>\n",
       "    <tr>\n",
       "      <th>Rango5</th>\n",
       "      <td>0.010010</td>\n",
       "      <td>0.007535</td>\n",
       "      <td>0.006632</td>\n",
       "      <td>0.007024</td>\n",
       "      <td>0.007342</td>\n",
       "      <td>0.008564</td>\n",
       "    </tr>\n",
       "    <tr>\n",
       "      <th>Rango6</th>\n",
       "      <td>0.007408</td>\n",
       "      <td>0.006700</td>\n",
       "      <td>0.005906</td>\n",
       "      <td>0.005956</td>\n",
       "      <td>0.006243</td>\n",
       "      <td>0.006831</td>\n",
       "    </tr>\n",
       "  </tbody>\n",
       "</table>\n",
       "</div>"
      ],
      "text/plain": [
       "rangoEdad          Rango1    Rango2    Rango3    Rango4    Rango5    Rango6\n",
       "saldoTcEntidad1                                                            \n",
       "CAT_NA           0.019322  0.018083  0.016668  0.016611  0.014799  0.015632\n",
       "Rango1           0.020016  0.017182  0.016118  0.015533  0.015135  0.014574\n",
       "Rango2           0.011459  0.010601  0.011462  0.011090  0.011460  0.013129\n",
       "Rango3           0.010285  0.009821  0.009558  0.009862  0.011715  0.012028\n",
       "Rango4           0.008560  0.008257  0.007793  0.007939  0.009081  0.010298\n",
       "Rango5           0.010010  0.007535  0.006632  0.007024  0.007342  0.008564\n",
       "Rango6           0.007408  0.006700  0.005906  0.005956  0.006243  0.006831"
      ]
     },
     "execution_count": 75,
     "metadata": {},
     "output_type": "execute_result"
    }
   ],
   "source": [
    "train_perfil.pivot_table(index=\"saldoTcEntidad1\",columns=\"rangoEdad\",values=\"ratingMonto\",aggfunc=\"mean\")"
   ]
  },
  {
   "cell_type": "code",
   "execution_count": 18,
   "metadata": {},
   "outputs": [],
   "source": [
    "ppre= perfil.copy()\n",
    "ppre[\"rangoEdad\"] = ppre[\"rangoEdad\"].fillna(ppre[\"rangoEdad\"].mode()[0])"
   ]
  },
  {
   "cell_type": "code",
   "execution_count": 21,
   "metadata": {},
   "outputs": [
    {
     "name": "stdout",
     "output_type": "stream",
     "text": [
      "<class 'pandas.core.frame.DataFrame'>\n",
      "RangeIndex: 30000 entries, 0 to 29999\n",
      "Data columns (total 14 columns):\n",
      "codCliente             30000 non-null int64\n",
      "rangoEdad              30000 non-null object\n",
      "rangoIngreso           28737 non-null object\n",
      "flagGenero             30000 non-null int64\n",
      "flagLimaProvCliente    30000 non-null int64\n",
      "ubigeoCliente          29996 non-null float64\n",
      "rangoCtdProdAct        30000 non-null object\n",
      "rangoCtdProdPas        30000 non-null object\n",
      "rangoCtdProdSeg        30000 non-null object\n",
      "flagBxi                30000 non-null int64\n",
      "saldoTcEntidad1        23574 non-null object\n",
      "saldoTcEntidad2        23574 non-null object\n",
      "saldoTcEntidad3        23574 non-null object\n",
      "saldoTcEntidad4        23574 non-null object\n",
      "dtypes: float64(1), int64(4), object(9)\n",
      "memory usage: 3.2+ MB\n"
     ]
    }
   ],
   "source": [
    "ppre.info()"
   ]
  },
  {
   "cell_type": "code",
   "execution_count": 22,
   "metadata": {},
   "outputs": [],
   "source": [
    "ppre[\"ubigeoCliente\"] = ppre.groupby([\"flagBxi\",\"rangoEdad\",\"rangoCtdProdAct\",\"rangoCtdProdPas\",\"rangoCtdProdSeg\"])[\"ubigeoCliente\"].transform(lambda x: x.fillna(x.mode()[0]))"
   ]
  },
  {
   "cell_type": "code",
   "execution_count": 23,
   "metadata": {},
   "outputs": [],
   "source": [
    "ppre[\"rangoIngreso\"] = ppre.groupby([\"flagBxi\",\"rangoEdad\",\"rangoCtdProdAct\",\"rangoCtdProdPas\",\"rangoCtdProdSeg\"])[\"rangoIngreso\"].transform(lambda x: x.fillna(x.mode()[0]))"
   ]
  },
  {
   "cell_type": "code",
   "execution_count": 24,
   "metadata": {},
   "outputs": [
    {
     "data": {
      "text/plain": [
       "Rango1    15429\n",
       "NaN        6426\n",
       "Rango3     2076\n",
       "Rango2     1731\n",
       "Rango4     1713\n",
       "Rango6     1571\n",
       "Rango5     1054\n",
       "Name: saldoTcEntidad1, dtype: int64"
      ]
     },
     "execution_count": 24,
     "metadata": {},
     "output_type": "execute_result"
    }
   ],
   "source": [
    "ppre.saldoTcEntidad1.value_counts(dropna=False)"
   ]
  },
  {
   "cell_type": "code",
   "execution_count": 47,
   "metadata": {},
   "outputs": [
    {
     "name": "stdout",
     "output_type": "stream",
     "text": [
      "<class 'pandas.core.frame.DataFrame'>\n",
      "RangeIndex: 30000 entries, 0 to 29999\n",
      "Data columns (total 14 columns):\n",
      "codCliente             30000 non-null int64\n",
      "rangoEdad              30000 non-null object\n",
      "rangoIngreso           30000 non-null object\n",
      "flagGenero             30000 non-null int64\n",
      "flagLimaProvCliente    30000 non-null int64\n",
      "ubigeoCliente          30000 non-null float64\n",
      "rangoCtdProdAct        30000 non-null object\n",
      "rangoCtdProdPas        30000 non-null object\n",
      "rangoCtdProdSeg        30000 non-null object\n",
      "flagBxi                30000 non-null int64\n",
      "saldoTcEntidad1        23574 non-null object\n",
      "saldoTcEntidad2        23574 non-null object\n",
      "saldoTcEntidad3        23574 non-null object\n",
      "saldoTcEntidad4        23574 non-null object\n",
      "dtypes: float64(1), int64(4), object(9)\n",
      "memory usage: 3.2+ MB\n"
     ]
    }
   ],
   "source": [
    "ppre.info()"
   ]
  },
  {
   "cell_type": "code",
   "execution_count": 49,
   "metadata": {},
   "outputs": [],
   "source": [
    "data_train = pd.merge(train,ppre, right_on=\"codCliente\", left_on=\"codCliente\")"
   ]
  },
  {
   "cell_type": "code",
   "execution_count": 50,
   "metadata": {},
   "outputs": [
    {
     "name": "stdout",
     "output_type": "stream",
     "text": [
      "<class 'pandas.core.frame.DataFrame'>\n",
      "Int64Index: 1591617 entries, 0 to 1591616\n",
      "Data columns (total 21 columns):\n",
      "fechaOper              1591617 non-null datetime64[ns]\n",
      "codCliente             1591617 non-null int64\n",
      "codGiro                1498931 non-null float64\n",
      "codEstab               1591617 non-null int32\n",
      "flagLimaProvEstab      1591617 non-null int32\n",
      "ubigeoEstab            1498931 non-null float64\n",
      "ctdTrx                 1591617 non-null int32\n",
      "ratingMonto            1591617 non-null float64\n",
      "rangoEdad              1591617 non-null object\n",
      "rangoIngreso           1591617 non-null object\n",
      "flagGenero             1591617 non-null int64\n",
      "flagLimaProvCliente    1591617 non-null int64\n",
      "ubigeoCliente          1591617 non-null float64\n",
      "rangoCtdProdAct        1591617 non-null object\n",
      "rangoCtdProdPas        1591617 non-null object\n",
      "rangoCtdProdSeg        1591617 non-null object\n",
      "flagBxi                1591617 non-null int64\n",
      "saldoTcEntidad1        1591617 non-null object\n",
      "saldoTcEntidad2        1591617 non-null object\n",
      "saldoTcEntidad3        1591617 non-null object\n",
      "saldoTcEntidad4        1591617 non-null object\n",
      "dtypes: datetime64[ns](1), float64(4), int32(3), int64(4), object(9)\n",
      "memory usage: 248.9+ MB\n"
     ]
    }
   ],
   "source": [
    "data_train.info()"
   ]
  },
  {
   "cell_type": "code",
   "execution_count": 29,
   "metadata": {},
   "outputs": [],
   "source": []
  },
  {
   "cell_type": "code",
   "execution_count": 51,
   "metadata": {},
   "outputs": [],
   "source": [
    "val_imputation  = { 'ubigeoEstab':'na_ubigeoestab',\n",
    "                    'codGiro':'na_codgiro',\n",
    "                    'saldoTcEntidad1':'Rango0','saldoTcEntidad2':'Rango0',\n",
    "                   'saldoTcEntidad3':'Rango0','saldoTcEntidad4':'Rango0' }\n",
    "data_train.fillna(value=val_imputation, inplace=True)"
   ]
  },
  {
   "cell_type": "code",
   "execution_count": 52,
   "metadata": {},
   "outputs": [
    {
     "name": "stdout",
     "output_type": "stream",
     "text": [
      "<class 'pandas.core.frame.DataFrame'>\n",
      "Int64Index: 1591617 entries, 0 to 1591616\n",
      "Data columns (total 21 columns):\n",
      "fechaOper              1591617 non-null datetime64[ns]\n",
      "codCliente             1591617 non-null int64\n",
      "codGiro                1591617 non-null object\n",
      "codEstab               1591617 non-null int32\n",
      "flagLimaProvEstab      1591617 non-null int32\n",
      "ubigeoEstab            1591617 non-null object\n",
      "ctdTrx                 1591617 non-null int32\n",
      "ratingMonto            1591617 non-null float64\n",
      "rangoEdad              1591617 non-null object\n",
      "rangoIngreso           1591617 non-null object\n",
      "flagGenero             1591617 non-null int64\n",
      "flagLimaProvCliente    1591617 non-null int64\n",
      "ubigeoCliente          1591617 non-null float64\n",
      "rangoCtdProdAct        1591617 non-null object\n",
      "rangoCtdProdPas        1591617 non-null object\n",
      "rangoCtdProdSeg        1591617 non-null object\n",
      "flagBxi                1591617 non-null int64\n",
      "saldoTcEntidad1        1591617 non-null object\n",
      "saldoTcEntidad2        1591617 non-null object\n",
      "saldoTcEntidad3        1591617 non-null object\n",
      "saldoTcEntidad4        1591617 non-null object\n",
      "dtypes: datetime64[ns](1), float64(2), int32(3), int64(4), object(11)\n",
      "memory usage: 248.9+ MB\n"
     ]
    }
   ],
   "source": [
    "data_final.info()"
   ]
  },
  {
   "cell_type": "raw",
   "metadata": {},
   "source": [
    "ppre[\"saldoTcEntidad1\"] =  ppre.groupby([\"flagBxi\",\"rangoEdad\",\"rangoIngreso\"])[\"saldoTcEntidad1\"].transform(lambda x: x.fillna(x.mode()[0]) if len(x.mode())>= 1 else x.fillna(x.mode()) )\n",
    "ppre[\"saldoTcEntidad2\"] = ppre.groupby([\"flagBxi\",\"rangoEdad\",\"rangoIngreso\"])[\"saldoTcEntidad2\"].transform(lambda x: x.fillna(x.mode()[0]) if len(x.mode())>= 1 else x.fillna(x.mode()))\n",
    "ppre[\"saldoTcEntidad3\"] = ppre.groupby([\"flagBxi\",\"rangoEdad\", \"rangoIngreso\"])[\"saldoTcEntidad3\"].transform(lambda x: x.fillna(x.mode()[0]) if len(x.mode())>= 1 else x.fillna(x.mode())\n",
    "ppre[\"saldoTcEntidad4\"] = ppre.groupby([\"flagBxi\",\"rangoEdad\",\"rangoIngreso\"])[\"saldoTcEntidad4\"].transform(lambda x: x.fillna(x.mode()[0]) if len(x.mode())>= 1 else x.fillna(x.mode()) ))"
   ]
  },
  {
   "cell_type": "markdown",
   "metadata": {},
   "source": [
    "### Saving dataset Tablas Base"
   ]
  },
  {
   "cell_type": "code",
   "execution_count": 53,
   "metadata": {},
   "outputs": [],
   "source": [
    "val_imputation  = {'saldoTcEntidad1':'Rango0','saldoTcEntidad2':'Rango0',\n",
    "                   'saldoTcEntidad3':'Rango0','saldoTcEntidad4':'Rango0' }\n",
    "ppre.fillna(value=val_imputation, inplace=True)\n",
    "ppre.to_csv(\"data_perfil.csv\", index=False)"
   ]
  },
  {
   "cell_type": "code",
   "execution_count": 54,
   "metadata": {},
   "outputs": [],
   "source": [
    "data_train.to_csv(\"data_train.csv\",index=False)"
   ]
  },
  {
   "cell_type": "code",
   "execution_count": 55,
   "metadata": {},
   "outputs": [],
   "source": [
    "estab = data_train.copy()\n",
    "estab = estab.drop_duplicates(subset=[\"codEstab\",\"codGiro\",\"flagLimaProvEstab\",\"ubigeoEstab\"], keep ='first')"
   ]
  },
  {
   "cell_type": "code",
   "execution_count": 56,
   "metadata": {},
   "outputs": [],
   "source": [
    "estab.to_csv(\"establecimiento.csv\", index=False)\n",
    "#data_train.to_csv(\"data_train.csv\",index=False)"
   ]
  },
  {
   "cell_type": "code",
   "execution_count": 23,
   "metadata": {},
   "outputs": [],
   "source": [
    "test_keys = pd.read_csv(\"05dataBaseTestKeyRec.csv\")\n",
    "data_estab = pd.read_csv(\"establecimiento.csv\")\n",
    "data_train = pd.read_csv(\"data_train.csv\",parse_dates=[\"fechaOper\"])\n",
    "# data_estab.set_index(['codEstab'], inplace=True)\n",
    "data_perfil = pd.read_csv(\"data_perfil.csv\")"
   ]
  },
  {
   "cell_type": "code",
   "execution_count": 28,
   "metadata": {},
   "outputs": [
    {
     "name": "stdout",
     "output_type": "stream",
     "text": [
      "<class 'pandas.core.frame.DataFrame'>\n",
      "RangeIndex: 30000 entries, 0 to 29999\n",
      "Data columns (total 14 columns):\n",
      "codCliente             30000 non-null int64\n",
      "rangoEdad              30000 non-null object\n",
      "rangoIngreso           30000 non-null object\n",
      "flagGenero             30000 non-null int64\n",
      "flagLimaProvCliente    30000 non-null int64\n",
      "ubigeoCliente          30000 non-null float64\n",
      "rangoCtdProdAct        30000 non-null object\n",
      "rangoCtdProdPas        30000 non-null object\n",
      "rangoCtdProdSeg        30000 non-null object\n",
      "flagBxi                30000 non-null int64\n",
      "saldoTcEntidad1        30000 non-null object\n",
      "saldoTcEntidad2        30000 non-null object\n",
      "saldoTcEntidad3        30000 non-null object\n",
      "saldoTcEntidad4        30000 non-null object\n",
      "dtypes: float64(1), int64(4), object(9)\n",
      "memory usage: 3.2+ MB\n"
     ]
    }
   ],
   "source": [
    "data_perfil.info()"
   ]
  },
  {
   "cell_type": "code",
   "execution_count": 24,
   "metadata": {},
   "outputs": [
    {
     "name": "stdout",
     "output_type": "stream",
     "text": [
      "<class 'pandas.core.frame.DataFrame'>\n",
      "RangeIndex: 74339 entries, 0 to 74338\n",
      "Data columns (total 6 columns):\n",
      "codGiro              74339 non-null object\n",
      "codEstab             74339 non-null int64\n",
      "flagLimaProvEstab    74339 non-null int64\n",
      "ubigeoEstab          74339 non-null object\n",
      "fechaOper            74339 non-null object\n",
      "ctdTrx               74339 non-null int64\n",
      "dtypes: int64(3), object(3)\n",
      "memory usage: 3.4+ MB\n"
     ]
    }
   ],
   "source": [
    "data_estab1 = data_estab[[\"codGiro\",\"codEstab\",\"flagLimaProvEstab\",\"ubigeoEstab\",\"fechaOper\",\"ctdTrx\"]]\n",
    "data_estab1.info()"
   ]
  },
  {
   "cell_type": "code",
   "execution_count": 78,
   "metadata": {},
   "outputs": [
    {
     "data": {
      "text/html": [
       "<div>\n",
       "<style scoped>\n",
       "    .dataframe tbody tr th:only-of-type {\n",
       "        vertical-align: middle;\n",
       "    }\n",
       "\n",
       "    .dataframe tbody tr th {\n",
       "        vertical-align: top;\n",
       "    }\n",
       "\n",
       "    .dataframe thead th {\n",
       "        text-align: right;\n",
       "    }\n",
       "</style>\n",
       "<table border=\"1\" class=\"dataframe\">\n",
       "  <thead>\n",
       "    <tr style=\"text-align: right;\">\n",
       "      <th></th>\n",
       "      <th>codCliente</th>\n",
       "      <th>codEstab</th>\n",
       "    </tr>\n",
       "  </thead>\n",
       "  <tbody>\n",
       "    <tr>\n",
       "      <th>0</th>\n",
       "      <td>1182</td>\n",
       "      <td>68644</td>\n",
       "    </tr>\n",
       "    <tr>\n",
       "      <th>1</th>\n",
       "      <td>1279</td>\n",
       "      <td>789</td>\n",
       "    </tr>\n",
       "    <tr>\n",
       "      <th>2</th>\n",
       "      <td>12884</td>\n",
       "      <td>6263</td>\n",
       "    </tr>\n",
       "    <tr>\n",
       "      <th>3</th>\n",
       "      <td>1333</td>\n",
       "      <td>899</td>\n",
       "    </tr>\n",
       "    <tr>\n",
       "      <th>4</th>\n",
       "      <td>1366</td>\n",
       "      <td>6180</td>\n",
       "    </tr>\n",
       "  </tbody>\n",
       "</table>\n",
       "</div>"
      ],
      "text/plain": [
       "   codCliente  codEstab\n",
       "0        1182     68644\n",
       "1        1279       789\n",
       "2       12884      6263\n",
       "3        1333       899\n",
       "4        1366      6180"
      ]
     },
     "execution_count": 78,
     "metadata": {},
     "output_type": "execute_result"
    }
   ],
   "source": [
    "test_keys.head()"
   ]
  },
  {
   "cell_type": "code",
   "execution_count": 7,
   "metadata": {},
   "outputs": [
    {
     "data": {
      "text/html": [
       "<div>\n",
       "<style scoped>\n",
       "    .dataframe tbody tr th:only-of-type {\n",
       "        vertical-align: middle;\n",
       "    }\n",
       "\n",
       "    .dataframe tbody tr th {\n",
       "        vertical-align: top;\n",
       "    }\n",
       "\n",
       "    .dataframe thead th {\n",
       "        text-align: right;\n",
       "    }\n",
       "</style>\n",
       "<table border=\"1\" class=\"dataframe\">\n",
       "  <thead>\n",
       "    <tr style=\"text-align: right;\">\n",
       "      <th></th>\n",
       "      <th>fechaOper</th>\n",
       "      <th>codCliente</th>\n",
       "      <th>codGiro</th>\n",
       "      <th>codEstab</th>\n",
       "      <th>flagLimaProvEstab</th>\n",
       "      <th>ubigeoEstab</th>\n",
       "      <th>ctdTrx</th>\n",
       "      <th>ratingMonto</th>\n",
       "      <th>rangoEdad</th>\n",
       "      <th>rangoIngreso</th>\n",
       "      <th>...</th>\n",
       "      <th>flagLimaProvCliente</th>\n",
       "      <th>ubigeoCliente</th>\n",
       "      <th>rangoCtdProdAct</th>\n",
       "      <th>rangoCtdProdPas</th>\n",
       "      <th>rangoCtdProdSeg</th>\n",
       "      <th>flagBxi</th>\n",
       "      <th>saldoTcEntidad1</th>\n",
       "      <th>saldoTcEntidad2</th>\n",
       "      <th>saldoTcEntidad3</th>\n",
       "      <th>saldoTcEntidad4</th>\n",
       "    </tr>\n",
       "  </thead>\n",
       "  <tbody>\n",
       "    <tr>\n",
       "      <th>0</th>\n",
       "      <td>2017-01-29</td>\n",
       "      <td>7649</td>\n",
       "      <td>138.0</td>\n",
       "      <td>43629</td>\n",
       "      <td>1</td>\n",
       "      <td>176.0</td>\n",
       "      <td>1</td>\n",
       "      <td>0.014072</td>\n",
       "      <td>Rango4</td>\n",
       "      <td>Rango2</td>\n",
       "      <td>...</td>\n",
       "      <td>1</td>\n",
       "      <td>281.0</td>\n",
       "      <td>Rango1</td>\n",
       "      <td>Rango2</td>\n",
       "      <td>Rango1</td>\n",
       "      <td>1</td>\n",
       "      <td>Rango3</td>\n",
       "      <td>Rango1</td>\n",
       "      <td>Rango1</td>\n",
       "      <td>Rango1</td>\n",
       "    </tr>\n",
       "    <tr>\n",
       "      <th>1</th>\n",
       "      <td>2017-05-07</td>\n",
       "      <td>7649</td>\n",
       "      <td>75.0</td>\n",
       "      <td>830</td>\n",
       "      <td>1</td>\n",
       "      <td>157.0</td>\n",
       "      <td>1</td>\n",
       "      <td>0.000821</td>\n",
       "      <td>Rango4</td>\n",
       "      <td>Rango2</td>\n",
       "      <td>...</td>\n",
       "      <td>1</td>\n",
       "      <td>281.0</td>\n",
       "      <td>Rango1</td>\n",
       "      <td>Rango2</td>\n",
       "      <td>Rango1</td>\n",
       "      <td>1</td>\n",
       "      <td>Rango3</td>\n",
       "      <td>Rango1</td>\n",
       "      <td>Rango1</td>\n",
       "      <td>Rango1</td>\n",
       "    </tr>\n",
       "    <tr>\n",
       "      <th>2</th>\n",
       "      <td>2016-12-20</td>\n",
       "      <td>7649</td>\n",
       "      <td>75.0</td>\n",
       "      <td>829</td>\n",
       "      <td>1</td>\n",
       "      <td>175.0</td>\n",
       "      <td>1</td>\n",
       "      <td>0.001220</td>\n",
       "      <td>Rango4</td>\n",
       "      <td>Rango2</td>\n",
       "      <td>...</td>\n",
       "      <td>1</td>\n",
       "      <td>281.0</td>\n",
       "      <td>Rango1</td>\n",
       "      <td>Rango2</td>\n",
       "      <td>Rango1</td>\n",
       "      <td>1</td>\n",
       "      <td>Rango3</td>\n",
       "      <td>Rango1</td>\n",
       "      <td>Rango1</td>\n",
       "      <td>Rango1</td>\n",
       "    </tr>\n",
       "    <tr>\n",
       "      <th>3</th>\n",
       "      <td>2017-02-16</td>\n",
       "      <td>7649</td>\n",
       "      <td>114.0</td>\n",
       "      <td>21603</td>\n",
       "      <td>1</td>\n",
       "      <td>175.0</td>\n",
       "      <td>1</td>\n",
       "      <td>0.000985</td>\n",
       "      <td>Rango4</td>\n",
       "      <td>Rango2</td>\n",
       "      <td>...</td>\n",
       "      <td>1</td>\n",
       "      <td>281.0</td>\n",
       "      <td>Rango1</td>\n",
       "      <td>Rango2</td>\n",
       "      <td>Rango1</td>\n",
       "      <td>1</td>\n",
       "      <td>Rango3</td>\n",
       "      <td>Rango1</td>\n",
       "      <td>Rango1</td>\n",
       "      <td>Rango1</td>\n",
       "    </tr>\n",
       "    <tr>\n",
       "      <th>4</th>\n",
       "      <td>2017-08-30</td>\n",
       "      <td>7649</td>\n",
       "      <td>110.0</td>\n",
       "      <td>46216</td>\n",
       "      <td>1</td>\n",
       "      <td>203.0</td>\n",
       "      <td>1</td>\n",
       "      <td>0.003635</td>\n",
       "      <td>Rango4</td>\n",
       "      <td>Rango2</td>\n",
       "      <td>...</td>\n",
       "      <td>1</td>\n",
       "      <td>281.0</td>\n",
       "      <td>Rango1</td>\n",
       "      <td>Rango2</td>\n",
       "      <td>Rango1</td>\n",
       "      <td>1</td>\n",
       "      <td>Rango3</td>\n",
       "      <td>Rango1</td>\n",
       "      <td>Rango1</td>\n",
       "      <td>Rango1</td>\n",
       "    </tr>\n",
       "  </tbody>\n",
       "</table>\n",
       "<p>5 rows × 21 columns</p>\n",
       "</div>"
      ],
      "text/plain": [
       "   fechaOper  codCliente  codGiro  codEstab  flagLimaProvEstab  ubigeoEstab  \\\n",
       "0 2017-01-29        7649    138.0     43629                  1        176.0   \n",
       "1 2017-05-07        7649     75.0       830                  1        157.0   \n",
       "2 2016-12-20        7649     75.0       829                  1        175.0   \n",
       "3 2017-02-16        7649    114.0     21603                  1        175.0   \n",
       "4 2017-08-30        7649    110.0     46216                  1        203.0   \n",
       "\n",
       "   ctdTrx  ratingMonto rangoEdad rangoIngreso       ...        \\\n",
       "0       1     0.014072    Rango4       Rango2       ...         \n",
       "1       1     0.000821    Rango4       Rango2       ...         \n",
       "2       1     0.001220    Rango4       Rango2       ...         \n",
       "3       1     0.000985    Rango4       Rango2       ...         \n",
       "4       1     0.003635    Rango4       Rango2       ...         \n",
       "\n",
       "   flagLimaProvCliente  ubigeoCliente  rangoCtdProdAct rangoCtdProdPas  \\\n",
       "0                    1          281.0           Rango1          Rango2   \n",
       "1                    1          281.0           Rango1          Rango2   \n",
       "2                    1          281.0           Rango1          Rango2   \n",
       "3                    1          281.0           Rango1          Rango2   \n",
       "4                    1          281.0           Rango1          Rango2   \n",
       "\n",
       "  rangoCtdProdSeg flagBxi  saldoTcEntidad1 saldoTcEntidad2 saldoTcEntidad3  \\\n",
       "0          Rango1       1           Rango3          Rango1          Rango1   \n",
       "1          Rango1       1           Rango3          Rango1          Rango1   \n",
       "2          Rango1       1           Rango3          Rango1          Rango1   \n",
       "3          Rango1       1           Rango3          Rango1          Rango1   \n",
       "4          Rango1       1           Rango3          Rango1          Rango1   \n",
       "\n",
       "  saldoTcEntidad4  \n",
       "0          Rango1  \n",
       "1          Rango1  \n",
       "2          Rango1  \n",
       "3          Rango1  \n",
       "4          Rango1  \n",
       "\n",
       "[5 rows x 21 columns]"
      ]
     },
     "execution_count": 7,
     "metadata": {},
     "output_type": "execute_result"
    }
   ],
   "source": [
    "data_train.head()"
   ]
  },
  {
   "cell_type": "code",
   "execution_count": 31,
   "metadata": {},
   "outputs": [],
   "source": [
    "test = pd.merge(test_keys, data_perfil, on=\"codCliente\", how=\"left\")\n",
    "test = pd.merge(test, data_estab1, on=\"codEstab\", how=\"left\")"
   ]
  },
  {
   "cell_type": "code",
   "execution_count": 6,
   "metadata": {},
   "outputs": [
    {
     "data": {
      "text/plain": [
       "Index(['codCliente', 'codEstab', 'rangoEdad', 'rangoIngreso', 'flagGenero',\n",
       "       'flagLimaProvCliente', 'ubigeoCliente', 'rangoCtdProdAct',\n",
       "       'rangoCtdProdPas', 'rangoCtdProdSeg', 'flagBxi', 'saldoTcEntidad1',\n",
       "       'saldoTcEntidad2', 'saldoTcEntidad3', 'saldoTcEntidad4', 'codGiro',\n",
       "       'flagLimaProvEstab', 'ubigeoEstab', 'fechaOper', 'ctdTrx'],\n",
       "      dtype='object')"
      ]
     },
     "execution_count": 6,
     "metadata": {},
     "output_type": "execute_result"
    }
   ],
   "source": [
    "(test.columns)"
   ]
  },
  {
   "cell_type": "code",
   "execution_count": 7,
   "metadata": {},
   "outputs": [
    {
     "data": {
      "text/plain": [
       "Index(['fechaOper', 'codCliente', 'codGiro', 'codEstab', 'flagLimaProvEstab',\n",
       "       'ubigeoEstab', 'ctdTrx', 'ratingMonto', 'rangoEdad', 'rangoIngreso',\n",
       "       'flagGenero', 'flagLimaProvCliente', 'ubigeoCliente', 'rangoCtdProdAct',\n",
       "       'rangoCtdProdPas', 'rangoCtdProdSeg', 'flagBxi', 'saldoTcEntidad1',\n",
       "       'saldoTcEntidad2', 'saldoTcEntidad3', 'saldoTcEntidad4'],\n",
       "      dtype='object')"
      ]
     },
     "execution_count": 7,
     "metadata": {},
     "output_type": "execute_result"
    }
   ],
   "source": [
    "(data_train.columns)"
   ]
  },
  {
   "cell_type": "code",
   "execution_count": 20,
   "metadata": {},
   "outputs": [
    {
     "name": "stdout",
     "output_type": "stream",
     "text": [
      "<class 'pandas.core.frame.DataFrame'>\n",
      "Int64Index: 467203 entries, 0 to 467202\n",
      "Data columns (total 22 columns):\n",
      "codCliente             467203 non-null int64\n",
      "codEstab               467203 non-null int64\n",
      "rangoEdad              467203 non-null object\n",
      "rangoIngreso           467203 non-null object\n",
      "flagGenero             467203 non-null int64\n",
      "flagLimaProvCliente    467203 non-null int64\n",
      "ubigeoCliente          467203 non-null float64\n",
      "rangoCtdProdAct        467203 non-null object\n",
      "rangoCtdProdPas        467203 non-null object\n",
      "rangoCtdProdSeg        467203 non-null object\n",
      "flagBxi                467203 non-null int64\n",
      "saldoTcEntidad1        467203 non-null object\n",
      "saldoTcEntidad2        467203 non-null object\n",
      "saldoTcEntidad3        467203 non-null object\n",
      "saldoTcEntidad4        467203 non-null object\n",
      "codGiro                467203 non-null object\n",
      "flagLimaProvEstab      467203 non-null object\n",
      "ubigeoEstab            467203 non-null object\n",
      "fechaOper              467203 non-null object\n",
      "ctdTrx                 467203 non-null float64\n",
      "train                  467203 non-null bool\n",
      "ratingMonto            467203 non-null float64\n",
      "dtypes: bool(1), float64(3), int64(5), object(13)\n",
      "memory usage: 78.9+ MB\n"
     ]
    }
   ],
   "source": [
    "test.info()"
   ]
  },
  {
   "cell_type": "code",
   "execution_count": 32,
   "metadata": {},
   "outputs": [],
   "source": [
    "test[\"train\"] = False\n",
    "data_train[\"train\"]= True "
   ]
  },
  {
   "cell_type": "code",
   "execution_count": 33,
   "metadata": {},
   "outputs": [],
   "source": [
    "test[\"ratingMonto\"] = 0.0"
   ]
  },
  {
   "cell_type": "code",
   "execution_count": 16,
   "metadata": {},
   "outputs": [
    {
     "data": {
      "text/plain": [
       "Timestamp('2017-07-15 00:00:00')"
      ]
     },
     "execution_count": 16,
     "metadata": {},
     "output_type": "execute_result"
    }
   ],
   "source": [
    "data_train[\"fechaOper\"].mode()[0]"
   ]
  },
  {
   "cell_type": "code",
   "execution_count": 34,
   "metadata": {},
   "outputs": [],
   "source": [
    "values = {'codGiro':'na_codgiro','flagLimaProvEstab':'na_flaglimaprovestab','ubigeoEstab':'na_ubigeoestab','fechaOper':data_train[\"fechaOper\"].mode()[0]}\n",
    "test.fillna(value= values, inplace=True)"
   ]
  },
  {
   "cell_type": "code",
   "execution_count": 35,
   "metadata": {},
   "outputs": [
    {
     "name": "stderr",
     "output_type": "stream",
     "text": [
      "c:\\users\\gideon\\desktop\\cursos\\envs\\bbvaenv\\lib\\site-packages\\ipykernel_launcher.py:1: FutureWarning: Sorting because non-concatenation axis is not aligned. A future version\n",
      "of pandas will change to not sort by default.\n",
      "\n",
      "To accept the future behavior, pass 'sort=False'.\n",
      "\n",
      "To retain the current behavior and silence the warning, pass 'sort=True'.\n",
      "\n",
      "  \"\"\"Entry point for launching an IPython kernel.\n"
     ]
    }
   ],
   "source": [
    "dt = pd.concat([data_train,test], axis=0)"
   ]
  },
  {
   "cell_type": "code",
   "execution_count": 38,
   "metadata": {},
   "outputs": [
    {
     "name": "stdout",
     "output_type": "stream",
     "text": [
      "<class 'pandas.core.frame.DataFrame'>\n",
      "Int64Index: 2058820 entries, 0 to 467202\n",
      "Data columns (total 22 columns):\n",
      "codCliente             2058820 non-null int64\n",
      "codEstab               2058820 non-null int64\n",
      "codGiro                2058820 non-null object\n",
      "ctdTrx                 2058820 non-null float64\n",
      "fechaOper              2058820 non-null object\n",
      "flagBxi                2058820 non-null int64\n",
      "flagGenero             2058820 non-null int64\n",
      "flagLimaProvCliente    2058820 non-null int64\n",
      "flagLimaProvEstab      2058820 non-null object\n",
      "rangoCtdProdAct        2058820 non-null object\n",
      "rangoCtdProdPas        2058820 non-null object\n",
      "rangoCtdProdSeg        2058820 non-null object\n",
      "rangoEdad              2058820 non-null object\n",
      "rangoIngreso           2058820 non-null object\n",
      "ratingMonto            2058820 non-null float64\n",
      "saldoTcEntidad1        2058820 non-null object\n",
      "saldoTcEntidad2        2058820 non-null object\n",
      "saldoTcEntidad3        2058820 non-null object\n",
      "saldoTcEntidad4        2058820 non-null object\n",
      "train                  2058820 non-null bool\n",
      "ubigeoCliente          2058820 non-null float64\n",
      "ubigeoEstab            2058820 non-null object\n",
      "dtypes: bool(1), float64(3), int64(5), object(13)\n",
      "memory usage: 347.5+ MB\n"
     ]
    }
   ],
   "source": [
    "dt.info(null_counts =True)"
   ]
  },
  {
   "cell_type": "code",
   "execution_count": 37,
   "metadata": {},
   "outputs": [],
   "source": [
    "dt[\"ctdTrx\"] = dt.groupby([\"codGiro\"])[\"ctdTrx\"].transform(lambda x: x.fillna(x.median()))"
   ]
  },
  {
   "cell_type": "code",
   "execution_count": 80,
   "metadata": {},
   "outputs": [
    {
     "name": "stderr",
     "output_type": "stream",
     "text": [
      "c:\\users\\gideon\\desktop\\cursos\\envs\\bbvaenv\\lib\\site-packages\\pandas\\core\\algorithms.py:838: UserWarning: Unable to sort modes: Cannot compare type 'Timestamp' with type 'str'\n",
      "  warn(\"Unable to sort modes: {error}\".format(error=e))\n"
     ]
    }
   ],
   "source": [
    "dt[\"fechaOper\"] = dt.groupby([\"codGiro\"])[\"fechaOper\"].transform(lambda x: x.fillna(x.mode()))"
   ]
  },
  {
   "cell_type": "code",
   "execution_count": 39,
   "metadata": {},
   "outputs": [],
   "source": [
    "dt.to_csv(\"data_traintest.csv\",index=False)"
   ]
  },
  {
   "cell_type": "code",
   "execution_count": null,
   "metadata": {},
   "outputs": [],
   "source": [
    "train = dt.copy()\n",
    "dt[\"year\"] = dt[\"fechaOper\"].dt.year\n",
    "dt[\"month\"] = dt[\"fechaOper\"].dt.month\n",
    "dt[\"day\"] = dt[\"fechaOper\"].dt.day\n",
    "\n",
    "dt[\"year\"] =  dt[\"year\"].astype(str)\n",
    "dt[\"month\"] = dt[\"month\"].astype(str)\n",
    "dt[\"day\"] =   dt[\"day\"].astype(str)\n",
    "dt[\"ubigeoCliente\"]=dt[\"ubigeoCliente\"].astype(str)\n",
    "dt[\"ctdTrx\"]= dt[\"ctdTrx\"].astype(str)\n",
    "\n",
    "\n",
    "y = train[\"ratingMonto\"].values\n",
    "\n",
    "train_data = dt[dt[\"train\"]==True]\n",
    "test_data  = dt[dt[\"train\"]==False]\n",
    "\n",
    "print(\"::::::::::::::::::::::::::::::::PREPROCESSING::::::::::::::::::::::::::::::::::::::::::\")\n",
    "cat_vars = [\"rangoEdad\",\"rangoIngreso\",\"ctdTrx\", \"month\",\"day\",\"year\",\n",
    "\t\t\t\"codGiro\",\"rangoCtdProdAct\",\"ubigeoCliente\",\"rangoCtdProdPas\",\"rangoCtdProdSeg\",\"saldoTcEntidad1\", \n",
    "\t\t\t\"saldoTcEntidad2\", \"saldoTcEntidad3\", \"saldoTcEntidad4\",\"ubigeoEstab\"]\n",
    "\n",
    "\n",
    "# dt_coding = impact_coding(dt,cat_vars,\"ratingMonto\")\n",
    "# dt_coding.to_csv(\"data_coding.csv\",index=False)\n",
    "\n",
    "impact_coding_map = {}\n",
    "for f in cat_vars:\n",
    "    print(\"Impact coding for {}\".format(f))\n",
    "    train_data[\"impact_encoded_{}\".format(f)], impact_coding_mapping, default_coding = impact_coding(train_data, f,\"ratingMonto\")\n",
    "    print(train_data.columns)\n",
    "    print(impact_coding)\n",
    "    print(default_coding)\n",
    "    impact_coding_map[f] = (impact_coding_mapping, default_coding)\n",
    "    mapping, default_mean = impact_coding_map[f]\n",
    "    test_data[\"impact_encoded_{}\".format(f)] = test_data.apply(lambda x: mapping[x[f]]\n",
    "                                                                         if x[f] in mapping\n",
    "                                                                         else default_mean\n",
    "                                                               , axis=1)\n",
    "\n",
    "print(test_data.head())\n",
    "print(test_data.info())\n",
    "\n",
    "print(train_data.head())\n",
    "print(train_data.info())\n",
    "\n",
    "train_data.to_csv(\"test_data_impact.csv\", index=False)\n",
    "test_data.to_csv(\"train_data_impact.csv\", index=False)"
   ]
  },
  {
   "cell_type": "code",
   "execution_count": null,
   "metadata": {},
   "outputs": [],
   "source": [
    "X = train[cat_vars]\n",
    "X_train, X_test, y_train, y_test = train_test_split(X,y)"
   ]
  },
  {
   "cell_type": "code",
   "execution_count": null,
   "metadata": {},
   "outputs": [],
   "source": [
    "print(\"::::::::::::::::::::::::::::::::TRAINING:::::::::::::::::::::::::::::::::::::::::::::\")\n",
    "params = {\n",
    "    'task': 'train',\n",
    "    'boosting_type': 'gbdt',\n",
    "    'objective': 'regression',\n",
    "    'metric': {'rmse', 'mean_squared_error'},\n",
    "    'num_leaves': 600,\n",
    "    'learning_rate': 0.05,\n",
    "    'feature_fraction': 0.9,\n",
    "    'bagging_fraction': 0.8,\n",
    "    'bagging_freq': 5,\n",
    "    'verbose': 0\n",
    "}\n",
    "\n",
    "lgb_train = lgb.Dataset(X_train, y_train)\n",
    "lgb_eval = lgb.Dataset(X_test, y_test, reference=lgb_train)\n",
    "\n",
    "param=[\"mse\"]\n",
    "gbm = lgb.train(params,lgb_train, num_boost_round=180, valid_sets=lgb_eval, early_stopping_rounds=100)\n",
    "\n",
    "\n",
    "# print(\"::::::::::::::::::::::::::::::::SAVING:::::::::::::::::::::::::::::::::::::::::::::\")\n",
    "joblib.dump(gbm, 'model_lighgbm_v2.pkl') \n",
    "y_predict = gbm.predict(X_test,num_iteration=gbm.best_iteration)\n",
    "\n",
    "print(\"mean_squared_error\")\n",
    "performance = mean_squared_error(y_test, y_predict)\n",
    "print(\"performance\")\n",
    "print(performance)\n",
    "print(\"Squared\")\n",
    "print(math.sqrt(performance))\n",
    "\n",
    "\n",
    "print(\"::::::::::::::::::::::::::::::::FINISHED:::::::::::::::::::::::::::::::::::::::::::::\")"
   ]
  }
 ],
 "metadata": {
  "kernelspec": {
   "display_name": "Python 3",
   "language": "python",
   "name": "python3"
  },
  "language_info": {
   "codemirror_mode": {
    "name": "ipython",
    "version": 3
   },
   "file_extension": ".py",
   "mimetype": "text/x-python",
   "name": "python",
   "nbconvert_exporter": "python",
   "pygments_lexer": "ipython3",
   "version": "3.5.0"
  }
 },
 "nbformat": 4,
 "nbformat_minor": 2
}
