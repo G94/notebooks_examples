{
 "cells": [
  {
   "cell_type": "markdown",
   "metadata": {},
   "source": [
    "# Power Laws: Cold Start Energy Forecasting\n",
    "> The objective of this competition is to forecast **energy consumption** from varying amounts of \"cold start\" data, and little other building information. That means that for each building in the test set you are given a small amount of data and then asked to predict into the future. Since this format of test data is a bit unusual, we'll give an overview here, with more detail below. Here is a visual representation of the data setup for this problem:"
   ]
  },
  {
   "cell_type": "markdown",
   "metadata": {},
   "source": [
    "## Features description:"
   ]
  },
  {
   "cell_type": "markdown",
   "metadata": {},
   "source": [
    "- series_id - An ID number for the time series, matches across datasets\n",
    "- timestamp - The time of the measurement\n",
    "- consumption - Consumption (watt-hours) since the last measurement\n",
    "- temperature - Outdoor temperature (Celsius) during measurement from nearby weather stations, some values missing"
   ]
  },
  {
   "cell_type": "code",
   "execution_count": 40,
   "metadata": {},
   "outputs": [],
   "source": [
    "import pandas as pd\n",
    "import numpy as np\n",
    "import seaborn as sns    \n",
    "import re\n",
    "import matplotlib.pyplot as plt\n",
    "%matplotlib inline\n",
    "\n",
    "import warnings\n",
    "warnings.filterwarnings('ignore')"
   ]
  },
  {
   "cell_type": "code",
   "execution_count": 2,
   "metadata": {},
   "outputs": [],
   "source": [
    "train = pd.read_csv(\"consumption_train.csv\", parse_dates=[\"timestamp\"], index_col =[0])\n",
    "meta = pd.read_csv(\"meta.csv\")"
   ]
  },
  {
   "cell_type": "code",
   "execution_count": 3,
   "metadata": {},
   "outputs": [],
   "source": [
    "def add_datepart(df, fldname, drop=True, time=False):\n",
    "    fld = df[fldname]\n",
    "    if not np.issubdtype(fld.dtype, np.datetime64):\n",
    "        df[fldname] = fld = pd.to_datetime(fld, infer_datetime_format=True)\n",
    "    targ_pre = re.sub('[Dd]ate$', '', fldname)\n",
    "    attr = ['Year', 'Month', 'Week', 'Day', 'Dayofweek', 'Dayofyear',\n",
    "            'Is_month_end', 'Is_month_start', 'Is_quarter_end', 'Is_quarter_start', 'Is_year_end', 'Is_year_start']\n",
    "    if time: attr = attr + ['Hour', 'Minute', 'Second']\n",
    "    for n in attr: df[targ_pre + n] = getattr(fld.dt, n.lower())\n",
    "    df[targ_pre + 'Elapsed'] = fld.astype(np.int64) // 10 ** 9\n",
    "    if drop: df.drop(fldname, axis=1, inplace=True)"
   ]
  },
  {
   "cell_type": "markdown",
   "metadata": {},
   "source": [
    "# Exploratory Data Analysis"
   ]
  },
  {
   "cell_type": "code",
   "execution_count": 4,
   "metadata": {},
   "outputs": [
    {
     "data": {
      "text/plain": [
       "((509376, 4), (1383, 10))"
      ]
     },
     "execution_count": 4,
     "metadata": {},
     "output_type": "execute_result"
    }
   ],
   "source": [
    "train.shape, meta.shape"
   ]
  },
  {
   "cell_type": "code",
   "execution_count": 5,
   "metadata": {},
   "outputs": [
    {
     "data": {
      "text/html": [
       "<div>\n",
       "<style scoped>\n",
       "    .dataframe tbody tr th:only-of-type {\n",
       "        vertical-align: middle;\n",
       "    }\n",
       "\n",
       "    .dataframe tbody tr th {\n",
       "        vertical-align: top;\n",
       "    }\n",
       "\n",
       "    .dataframe thead th {\n",
       "        text-align: right;\n",
       "    }\n",
       "</style>\n",
       "<table border=\"1\" class=\"dataframe\">\n",
       "  <thead>\n",
       "    <tr style=\"text-align: right;\">\n",
       "      <th></th>\n",
       "      <th>0</th>\n",
       "      <th>1</th>\n",
       "      <th>2</th>\n",
       "      <th>3</th>\n",
       "      <th>4</th>\n",
       "    </tr>\n",
       "  </thead>\n",
       "  <tbody>\n",
       "    <tr>\n",
       "      <th>series_id</th>\n",
       "      <td>103088</td>\n",
       "      <td>103088</td>\n",
       "      <td>103088</td>\n",
       "      <td>103088</td>\n",
       "      <td>103088</td>\n",
       "    </tr>\n",
       "    <tr>\n",
       "      <th>timestamp</th>\n",
       "      <td>2014-12-24 00:00:00</td>\n",
       "      <td>2014-12-24 01:00:00</td>\n",
       "      <td>2014-12-24 02:00:00</td>\n",
       "      <td>2014-12-24 03:00:00</td>\n",
       "      <td>2014-12-24 04:00:00</td>\n",
       "    </tr>\n",
       "    <tr>\n",
       "      <th>consumption</th>\n",
       "      <td>101842</td>\n",
       "      <td>105878</td>\n",
       "      <td>91619.1</td>\n",
       "      <td>94473.7</td>\n",
       "      <td>96976.8</td>\n",
       "    </tr>\n",
       "    <tr>\n",
       "      <th>temperature</th>\n",
       "      <td>NaN</td>\n",
       "      <td>NaN</td>\n",
       "      <td>NaN</td>\n",
       "      <td>NaN</td>\n",
       "      <td>NaN</td>\n",
       "    </tr>\n",
       "  </tbody>\n",
       "</table>\n",
       "</div>"
      ],
      "text/plain": [
       "                               0                    1                    2  \\\n",
       "series_id                 103088               103088               103088   \n",
       "timestamp    2014-12-24 00:00:00  2014-12-24 01:00:00  2014-12-24 02:00:00   \n",
       "consumption               101842               105878              91619.1   \n",
       "temperature                  NaN                  NaN                  NaN   \n",
       "\n",
       "                               3                    4  \n",
       "series_id                 103088               103088  \n",
       "timestamp    2014-12-24 03:00:00  2014-12-24 04:00:00  \n",
       "consumption              94473.7              96976.8  \n",
       "temperature                  NaN                  NaN  "
      ]
     },
     "execution_count": 5,
     "metadata": {},
     "output_type": "execute_result"
    }
   ],
   "source": [
    "train.head().T"
   ]
  },
  {
   "cell_type": "code",
   "execution_count": 6,
   "metadata": {},
   "outputs": [
    {
     "data": {
      "text/html": [
       "<div>\n",
       "<style scoped>\n",
       "    .dataframe tbody tr th:only-of-type {\n",
       "        vertical-align: middle;\n",
       "    }\n",
       "\n",
       "    .dataframe tbody tr th {\n",
       "        vertical-align: top;\n",
       "    }\n",
       "\n",
       "    .dataframe thead th {\n",
       "        text-align: right;\n",
       "    }\n",
       "</style>\n",
       "<table border=\"1\" class=\"dataframe\">\n",
       "  <thead>\n",
       "    <tr style=\"text-align: right;\">\n",
       "      <th></th>\n",
       "      <th>series_id</th>\n",
       "      <th>surface</th>\n",
       "      <th>base_temperature</th>\n",
       "      <th>monday_is_day_off</th>\n",
       "      <th>tuesday_is_day_off</th>\n",
       "      <th>wednesday_is_day_off</th>\n",
       "      <th>thursday_is_day_off</th>\n",
       "      <th>friday_is_day_off</th>\n",
       "      <th>saturday_is_day_off</th>\n",
       "      <th>sunday_is_day_off</th>\n",
       "    </tr>\n",
       "  </thead>\n",
       "  <tbody>\n",
       "    <tr>\n",
       "      <th>0</th>\n",
       "      <td>100003</td>\n",
       "      <td>x-large</td>\n",
       "      <td>low</td>\n",
       "      <td>False</td>\n",
       "      <td>False</td>\n",
       "      <td>False</td>\n",
       "      <td>False</td>\n",
       "      <td>False</td>\n",
       "      <td>True</td>\n",
       "      <td>True</td>\n",
       "    </tr>\n",
       "    <tr>\n",
       "      <th>1</th>\n",
       "      <td>100004</td>\n",
       "      <td>x-large</td>\n",
       "      <td>low</td>\n",
       "      <td>False</td>\n",
       "      <td>False</td>\n",
       "      <td>False</td>\n",
       "      <td>False</td>\n",
       "      <td>False</td>\n",
       "      <td>True</td>\n",
       "      <td>True</td>\n",
       "    </tr>\n",
       "    <tr>\n",
       "      <th>2</th>\n",
       "      <td>100006</td>\n",
       "      <td>x-small</td>\n",
       "      <td>low</td>\n",
       "      <td>False</td>\n",
       "      <td>False</td>\n",
       "      <td>False</td>\n",
       "      <td>False</td>\n",
       "      <td>False</td>\n",
       "      <td>True</td>\n",
       "      <td>True</td>\n",
       "    </tr>\n",
       "    <tr>\n",
       "      <th>3</th>\n",
       "      <td>100008</td>\n",
       "      <td>x-small</td>\n",
       "      <td>low</td>\n",
       "      <td>False</td>\n",
       "      <td>False</td>\n",
       "      <td>False</td>\n",
       "      <td>False</td>\n",
       "      <td>False</td>\n",
       "      <td>True</td>\n",
       "      <td>True</td>\n",
       "    </tr>\n",
       "    <tr>\n",
       "      <th>4</th>\n",
       "      <td>100010</td>\n",
       "      <td>x-small</td>\n",
       "      <td>low</td>\n",
       "      <td>False</td>\n",
       "      <td>False</td>\n",
       "      <td>False</td>\n",
       "      <td>False</td>\n",
       "      <td>False</td>\n",
       "      <td>True</td>\n",
       "      <td>True</td>\n",
       "    </tr>\n",
       "  </tbody>\n",
       "</table>\n",
       "</div>"
      ],
      "text/plain": [
       "   series_id  surface base_temperature  monday_is_day_off  tuesday_is_day_off  \\\n",
       "0     100003  x-large              low              False               False   \n",
       "1     100004  x-large              low              False               False   \n",
       "2     100006  x-small              low              False               False   \n",
       "3     100008  x-small              low              False               False   \n",
       "4     100010  x-small              low              False               False   \n",
       "\n",
       "   wednesday_is_day_off  thursday_is_day_off  friday_is_day_off  \\\n",
       "0                 False                False              False   \n",
       "1                 False                False              False   \n",
       "2                 False                False              False   \n",
       "3                 False                False              False   \n",
       "4                 False                False              False   \n",
       "\n",
       "   saturday_is_day_off  sunday_is_day_off  \n",
       "0                 True               True  \n",
       "1                 True               True  \n",
       "2                 True               True  \n",
       "3                 True               True  \n",
       "4                 True               True  "
      ]
     },
     "execution_count": 6,
     "metadata": {},
     "output_type": "execute_result"
    }
   ],
   "source": [
    "meta.head()"
   ]
  },
  {
   "cell_type": "code",
   "execution_count": 7,
   "metadata": {},
   "outputs": [
    {
     "name": "stdout",
     "output_type": "stream",
     "text": [
      "<class 'pandas.core.frame.DataFrame'>\n",
      "Int64Index: 509376 entries, 0 to 509375\n",
      "Data columns (total 4 columns):\n",
      "series_id      509376 non-null int64\n",
      "timestamp      509376 non-null datetime64[ns]\n",
      "consumption    509376 non-null float64\n",
      "temperature    280687 non-null float64\n",
      "dtypes: datetime64[ns](1), float64(2), int64(1)\n",
      "memory usage: 19.4 MB\n"
     ]
    }
   ],
   "source": [
    "train.info()"
   ]
  },
  {
   "cell_type": "code",
   "execution_count": 8,
   "metadata": {},
   "outputs": [
    {
     "name": "stdout",
     "output_type": "stream",
     "text": [
      "<class 'pandas.core.frame.DataFrame'>\n",
      "RangeIndex: 1383 entries, 0 to 1382\n",
      "Data columns (total 10 columns):\n",
      "series_id               1383 non-null int64\n",
      "surface                 1383 non-null object\n",
      "base_temperature        1383 non-null object\n",
      "monday_is_day_off       1383 non-null bool\n",
      "tuesday_is_day_off      1383 non-null bool\n",
      "wednesday_is_day_off    1383 non-null bool\n",
      "thursday_is_day_off     1383 non-null bool\n",
      "friday_is_day_off       1383 non-null bool\n",
      "saturday_is_day_off     1383 non-null bool\n",
      "sunday_is_day_off       1383 non-null bool\n",
      "dtypes: bool(7), int64(1), object(2)\n",
      "memory usage: 41.9+ KB\n"
     ]
    }
   ],
   "source": [
    "meta.info()"
   ]
  },
  {
   "cell_type": "code",
   "execution_count": 9,
   "metadata": {},
   "outputs": [
    {
     "data": {
      "text/plain": [
       "102094    672\n",
       "100716    672\n",
       "100433    672\n",
       "103277    672\n",
       "102255    672\n",
       "Name: series_id, dtype: int64"
      ]
     },
     "execution_count": 9,
     "metadata": {},
     "output_type": "execute_result"
    }
   ],
   "source": [
    "train.series_id.value_counts(dropna=False).head()"
   ]
  },
  {
   "cell_type": "code",
   "execution_count": 10,
   "metadata": {},
   "outputs": [
    {
     "data": {
      "text/plain": [
       "NaN      228689\n",
       " 17.0      2879\n",
       " 13.0      2807\n",
       " 18.0      2772\n",
       " 12.0      2749\n",
       "Name: temperature, dtype: int64"
      ]
     },
     "execution_count": 10,
     "metadata": {},
     "output_type": "execute_result"
    }
   ],
   "source": [
    "train.temperature.value_counts(dropna = False).head()"
   ]
  },
  {
   "cell_type": "code",
   "execution_count": 11,
   "metadata": {},
   "outputs": [
    {
     "data": {
      "text/html": [
       "<div>\n",
       "<style scoped>\n",
       "    .dataframe tbody tr th:only-of-type {\n",
       "        vertical-align: middle;\n",
       "    }\n",
       "\n",
       "    .dataframe tbody tr th {\n",
       "        vertical-align: top;\n",
       "    }\n",
       "\n",
       "    .dataframe thead th {\n",
       "        text-align: right;\n",
       "    }\n",
       "</style>\n",
       "<table border=\"1\" class=\"dataframe\">\n",
       "  <thead>\n",
       "    <tr style=\"text-align: right;\">\n",
       "      <th></th>\n",
       "      <th>series_id</th>\n",
       "      <th>consumption</th>\n",
       "      <th>temperature</th>\n",
       "    </tr>\n",
       "  </thead>\n",
       "  <tbody>\n",
       "    <tr>\n",
       "      <th>count</th>\n",
       "      <td>509376.000000</td>\n",
       "      <td>5.093760e+05</td>\n",
       "      <td>280687.000000</td>\n",
       "    </tr>\n",
       "    <tr>\n",
       "      <th>mean</th>\n",
       "      <td>101851.234828</td>\n",
       "      <td>1.076238e+05</td>\n",
       "      <td>15.188679</td>\n",
       "    </tr>\n",
       "    <tr>\n",
       "      <th>std</th>\n",
       "      <td>1020.487674</td>\n",
       "      <td>1.626611e+05</td>\n",
       "      <td>8.987142</td>\n",
       "    </tr>\n",
       "    <tr>\n",
       "      <th>min</th>\n",
       "      <td>100003.000000</td>\n",
       "      <td>0.000000e+00</td>\n",
       "      <td>-13.466667</td>\n",
       "    </tr>\n",
       "    <tr>\n",
       "      <th>25%</th>\n",
       "      <td>100998.000000</td>\n",
       "      <td>1.542092e+04</td>\n",
       "      <td>8.451190</td>\n",
       "    </tr>\n",
       "    <tr>\n",
       "      <th>50%</th>\n",
       "      <td>101884.500000</td>\n",
       "      <td>4.986205e+04</td>\n",
       "      <td>15.163333</td>\n",
       "    </tr>\n",
       "    <tr>\n",
       "      <th>75%</th>\n",
       "      <td>102697.000000</td>\n",
       "      <td>1.351661e+05</td>\n",
       "      <td>21.800000</td>\n",
       "    </tr>\n",
       "    <tr>\n",
       "      <th>max</th>\n",
       "      <td>103634.000000</td>\n",
       "      <td>2.085109e+06</td>\n",
       "      <td>44.350000</td>\n",
       "    </tr>\n",
       "  </tbody>\n",
       "</table>\n",
       "</div>"
      ],
      "text/plain": [
       "           series_id   consumption    temperature\n",
       "count  509376.000000  5.093760e+05  280687.000000\n",
       "mean   101851.234828  1.076238e+05      15.188679\n",
       "std      1020.487674  1.626611e+05       8.987142\n",
       "min    100003.000000  0.000000e+00     -13.466667\n",
       "25%    100998.000000  1.542092e+04       8.451190\n",
       "50%    101884.500000  4.986205e+04      15.163333\n",
       "75%    102697.000000  1.351661e+05      21.800000\n",
       "max    103634.000000  2.085109e+06      44.350000"
      ]
     },
     "execution_count": 11,
     "metadata": {},
     "output_type": "execute_result"
    }
   ],
   "source": [
    "train.describe()"
   ]
  },
  {
   "cell_type": "code",
   "execution_count": 12,
   "metadata": {},
   "outputs": [],
   "source": [
    "data = pd.merge(train,meta, right_on=\"series_id\", left_on=\"series_id\")"
   ]
  },
  {
   "cell_type": "code",
   "execution_count": 13,
   "metadata": {},
   "outputs": [
    {
     "data": {
      "text/html": [
       "<div>\n",
       "<style scoped>\n",
       "    .dataframe tbody tr th:only-of-type {\n",
       "        vertical-align: middle;\n",
       "    }\n",
       "\n",
       "    .dataframe tbody tr th {\n",
       "        vertical-align: top;\n",
       "    }\n",
       "\n",
       "    .dataframe thead th {\n",
       "        text-align: right;\n",
       "    }\n",
       "</style>\n",
       "<table border=\"1\" class=\"dataframe\">\n",
       "  <thead>\n",
       "    <tr style=\"text-align: right;\">\n",
       "      <th></th>\n",
       "      <th>0</th>\n",
       "      <th>1</th>\n",
       "      <th>2</th>\n",
       "      <th>3</th>\n",
       "      <th>4</th>\n",
       "    </tr>\n",
       "  </thead>\n",
       "  <tbody>\n",
       "    <tr>\n",
       "      <th>series_id</th>\n",
       "      <td>103088</td>\n",
       "      <td>103088</td>\n",
       "      <td>103088</td>\n",
       "      <td>103088</td>\n",
       "      <td>103088</td>\n",
       "    </tr>\n",
       "    <tr>\n",
       "      <th>timestamp</th>\n",
       "      <td>2014-12-24 00:00:00</td>\n",
       "      <td>2014-12-24 01:00:00</td>\n",
       "      <td>2014-12-24 02:00:00</td>\n",
       "      <td>2014-12-24 03:00:00</td>\n",
       "      <td>2014-12-24 04:00:00</td>\n",
       "    </tr>\n",
       "    <tr>\n",
       "      <th>consumption</th>\n",
       "      <td>101842</td>\n",
       "      <td>105878</td>\n",
       "      <td>91619.1</td>\n",
       "      <td>94473.7</td>\n",
       "      <td>96976.8</td>\n",
       "    </tr>\n",
       "    <tr>\n",
       "      <th>temperature</th>\n",
       "      <td>NaN</td>\n",
       "      <td>NaN</td>\n",
       "      <td>NaN</td>\n",
       "      <td>NaN</td>\n",
       "      <td>NaN</td>\n",
       "    </tr>\n",
       "    <tr>\n",
       "      <th>surface</th>\n",
       "      <td>x-small</td>\n",
       "      <td>x-small</td>\n",
       "      <td>x-small</td>\n",
       "      <td>x-small</td>\n",
       "      <td>x-small</td>\n",
       "    </tr>\n",
       "    <tr>\n",
       "      <th>base_temperature</th>\n",
       "      <td>low</td>\n",
       "      <td>low</td>\n",
       "      <td>low</td>\n",
       "      <td>low</td>\n",
       "      <td>low</td>\n",
       "    </tr>\n",
       "    <tr>\n",
       "      <th>monday_is_day_off</th>\n",
       "      <td>False</td>\n",
       "      <td>False</td>\n",
       "      <td>False</td>\n",
       "      <td>False</td>\n",
       "      <td>False</td>\n",
       "    </tr>\n",
       "    <tr>\n",
       "      <th>tuesday_is_day_off</th>\n",
       "      <td>False</td>\n",
       "      <td>False</td>\n",
       "      <td>False</td>\n",
       "      <td>False</td>\n",
       "      <td>False</td>\n",
       "    </tr>\n",
       "    <tr>\n",
       "      <th>wednesday_is_day_off</th>\n",
       "      <td>False</td>\n",
       "      <td>False</td>\n",
       "      <td>False</td>\n",
       "      <td>False</td>\n",
       "      <td>False</td>\n",
       "    </tr>\n",
       "    <tr>\n",
       "      <th>thursday_is_day_off</th>\n",
       "      <td>False</td>\n",
       "      <td>False</td>\n",
       "      <td>False</td>\n",
       "      <td>False</td>\n",
       "      <td>False</td>\n",
       "    </tr>\n",
       "    <tr>\n",
       "      <th>friday_is_day_off</th>\n",
       "      <td>False</td>\n",
       "      <td>False</td>\n",
       "      <td>False</td>\n",
       "      <td>False</td>\n",
       "      <td>False</td>\n",
       "    </tr>\n",
       "    <tr>\n",
       "      <th>saturday_is_day_off</th>\n",
       "      <td>True</td>\n",
       "      <td>True</td>\n",
       "      <td>True</td>\n",
       "      <td>True</td>\n",
       "      <td>True</td>\n",
       "    </tr>\n",
       "    <tr>\n",
       "      <th>sunday_is_day_off</th>\n",
       "      <td>True</td>\n",
       "      <td>True</td>\n",
       "      <td>True</td>\n",
       "      <td>True</td>\n",
       "      <td>True</td>\n",
       "    </tr>\n",
       "  </tbody>\n",
       "</table>\n",
       "</div>"
      ],
      "text/plain": [
       "                                        0                    1  \\\n",
       "series_id                          103088               103088   \n",
       "timestamp             2014-12-24 00:00:00  2014-12-24 01:00:00   \n",
       "consumption                        101842               105878   \n",
       "temperature                           NaN                  NaN   \n",
       "surface                           x-small              x-small   \n",
       "base_temperature                      low                  low   \n",
       "monday_is_day_off                   False                False   \n",
       "tuesday_is_day_off                  False                False   \n",
       "wednesday_is_day_off                False                False   \n",
       "thursday_is_day_off                 False                False   \n",
       "friday_is_day_off                   False                False   \n",
       "saturday_is_day_off                  True                 True   \n",
       "sunday_is_day_off                    True                 True   \n",
       "\n",
       "                                        2                    3  \\\n",
       "series_id                          103088               103088   \n",
       "timestamp             2014-12-24 02:00:00  2014-12-24 03:00:00   \n",
       "consumption                       91619.1              94473.7   \n",
       "temperature                           NaN                  NaN   \n",
       "surface                           x-small              x-small   \n",
       "base_temperature                      low                  low   \n",
       "monday_is_day_off                   False                False   \n",
       "tuesday_is_day_off                  False                False   \n",
       "wednesday_is_day_off                False                False   \n",
       "thursday_is_day_off                 False                False   \n",
       "friday_is_day_off                   False                False   \n",
       "saturday_is_day_off                  True                 True   \n",
       "sunday_is_day_off                    True                 True   \n",
       "\n",
       "                                        4  \n",
       "series_id                          103088  \n",
       "timestamp             2014-12-24 04:00:00  \n",
       "consumption                       96976.8  \n",
       "temperature                           NaN  \n",
       "surface                           x-small  \n",
       "base_temperature                      low  \n",
       "monday_is_day_off                   False  \n",
       "tuesday_is_day_off                  False  \n",
       "wednesday_is_day_off                False  \n",
       "thursday_is_day_off                 False  \n",
       "friday_is_day_off                   False  \n",
       "saturday_is_day_off                  True  \n",
       "sunday_is_day_off                    True  "
      ]
     },
     "execution_count": 13,
     "metadata": {},
     "output_type": "execute_result"
    }
   ],
   "source": [
    "data.head().T"
   ]
  },
  {
   "cell_type": "code",
   "execution_count": 15,
   "metadata": {},
   "outputs": [],
   "source": [
    "add_datepart(data,\"timestamp\",drop=False)"
   ]
  },
  {
   "cell_type": "code",
   "execution_count": 16,
   "metadata": {},
   "outputs": [
    {
     "data": {
      "text/html": [
       "<div>\n",
       "<style scoped>\n",
       "    .dataframe tbody tr th:only-of-type {\n",
       "        vertical-align: middle;\n",
       "    }\n",
       "\n",
       "    .dataframe tbody tr th {\n",
       "        vertical-align: top;\n",
       "    }\n",
       "\n",
       "    .dataframe thead th {\n",
       "        text-align: right;\n",
       "    }\n",
       "</style>\n",
       "<table border=\"1\" class=\"dataframe\">\n",
       "  <thead>\n",
       "    <tr style=\"text-align: right;\">\n",
       "      <th></th>\n",
       "      <th>0</th>\n",
       "      <th>1</th>\n",
       "      <th>2</th>\n",
       "      <th>3</th>\n",
       "      <th>4</th>\n",
       "    </tr>\n",
       "  </thead>\n",
       "  <tbody>\n",
       "    <tr>\n",
       "      <th>series_id</th>\n",
       "      <td>103088</td>\n",
       "      <td>103088</td>\n",
       "      <td>103088</td>\n",
       "      <td>103088</td>\n",
       "      <td>103088</td>\n",
       "    </tr>\n",
       "    <tr>\n",
       "      <th>timestamp</th>\n",
       "      <td>2014-12-24 00:00:00</td>\n",
       "      <td>2014-12-24 01:00:00</td>\n",
       "      <td>2014-12-24 02:00:00</td>\n",
       "      <td>2014-12-24 03:00:00</td>\n",
       "      <td>2014-12-24 04:00:00</td>\n",
       "    </tr>\n",
       "    <tr>\n",
       "      <th>consumption</th>\n",
       "      <td>101842</td>\n",
       "      <td>105878</td>\n",
       "      <td>91619.1</td>\n",
       "      <td>94473.7</td>\n",
       "      <td>96976.8</td>\n",
       "    </tr>\n",
       "    <tr>\n",
       "      <th>temperature</th>\n",
       "      <td>NaN</td>\n",
       "      <td>NaN</td>\n",
       "      <td>NaN</td>\n",
       "      <td>NaN</td>\n",
       "      <td>NaN</td>\n",
       "    </tr>\n",
       "    <tr>\n",
       "      <th>surface</th>\n",
       "      <td>x-small</td>\n",
       "      <td>x-small</td>\n",
       "      <td>x-small</td>\n",
       "      <td>x-small</td>\n",
       "      <td>x-small</td>\n",
       "    </tr>\n",
       "    <tr>\n",
       "      <th>base_temperature</th>\n",
       "      <td>low</td>\n",
       "      <td>low</td>\n",
       "      <td>low</td>\n",
       "      <td>low</td>\n",
       "      <td>low</td>\n",
       "    </tr>\n",
       "    <tr>\n",
       "      <th>monday_is_day_off</th>\n",
       "      <td>False</td>\n",
       "      <td>False</td>\n",
       "      <td>False</td>\n",
       "      <td>False</td>\n",
       "      <td>False</td>\n",
       "    </tr>\n",
       "    <tr>\n",
       "      <th>tuesday_is_day_off</th>\n",
       "      <td>False</td>\n",
       "      <td>False</td>\n",
       "      <td>False</td>\n",
       "      <td>False</td>\n",
       "      <td>False</td>\n",
       "    </tr>\n",
       "    <tr>\n",
       "      <th>wednesday_is_day_off</th>\n",
       "      <td>False</td>\n",
       "      <td>False</td>\n",
       "      <td>False</td>\n",
       "      <td>False</td>\n",
       "      <td>False</td>\n",
       "    </tr>\n",
       "    <tr>\n",
       "      <th>thursday_is_day_off</th>\n",
       "      <td>False</td>\n",
       "      <td>False</td>\n",
       "      <td>False</td>\n",
       "      <td>False</td>\n",
       "      <td>False</td>\n",
       "    </tr>\n",
       "    <tr>\n",
       "      <th>friday_is_day_off</th>\n",
       "      <td>False</td>\n",
       "      <td>False</td>\n",
       "      <td>False</td>\n",
       "      <td>False</td>\n",
       "      <td>False</td>\n",
       "    </tr>\n",
       "    <tr>\n",
       "      <th>saturday_is_day_off</th>\n",
       "      <td>True</td>\n",
       "      <td>True</td>\n",
       "      <td>True</td>\n",
       "      <td>True</td>\n",
       "      <td>True</td>\n",
       "    </tr>\n",
       "    <tr>\n",
       "      <th>sunday_is_day_off</th>\n",
       "      <td>True</td>\n",
       "      <td>True</td>\n",
       "      <td>True</td>\n",
       "      <td>True</td>\n",
       "      <td>True</td>\n",
       "    </tr>\n",
       "    <tr>\n",
       "      <th>timestampYear</th>\n",
       "      <td>2014</td>\n",
       "      <td>2014</td>\n",
       "      <td>2014</td>\n",
       "      <td>2014</td>\n",
       "      <td>2014</td>\n",
       "    </tr>\n",
       "    <tr>\n",
       "      <th>timestampMonth</th>\n",
       "      <td>12</td>\n",
       "      <td>12</td>\n",
       "      <td>12</td>\n",
       "      <td>12</td>\n",
       "      <td>12</td>\n",
       "    </tr>\n",
       "    <tr>\n",
       "      <th>timestampWeek</th>\n",
       "      <td>52</td>\n",
       "      <td>52</td>\n",
       "      <td>52</td>\n",
       "      <td>52</td>\n",
       "      <td>52</td>\n",
       "    </tr>\n",
       "    <tr>\n",
       "      <th>timestampDay</th>\n",
       "      <td>24</td>\n",
       "      <td>24</td>\n",
       "      <td>24</td>\n",
       "      <td>24</td>\n",
       "      <td>24</td>\n",
       "    </tr>\n",
       "    <tr>\n",
       "      <th>timestampDayofweek</th>\n",
       "      <td>2</td>\n",
       "      <td>2</td>\n",
       "      <td>2</td>\n",
       "      <td>2</td>\n",
       "      <td>2</td>\n",
       "    </tr>\n",
       "    <tr>\n",
       "      <th>timestampDayofyear</th>\n",
       "      <td>358</td>\n",
       "      <td>358</td>\n",
       "      <td>358</td>\n",
       "      <td>358</td>\n",
       "      <td>358</td>\n",
       "    </tr>\n",
       "    <tr>\n",
       "      <th>timestampIs_month_end</th>\n",
       "      <td>False</td>\n",
       "      <td>False</td>\n",
       "      <td>False</td>\n",
       "      <td>False</td>\n",
       "      <td>False</td>\n",
       "    </tr>\n",
       "    <tr>\n",
       "      <th>timestampIs_month_start</th>\n",
       "      <td>False</td>\n",
       "      <td>False</td>\n",
       "      <td>False</td>\n",
       "      <td>False</td>\n",
       "      <td>False</td>\n",
       "    </tr>\n",
       "    <tr>\n",
       "      <th>timestampIs_quarter_end</th>\n",
       "      <td>False</td>\n",
       "      <td>False</td>\n",
       "      <td>False</td>\n",
       "      <td>False</td>\n",
       "      <td>False</td>\n",
       "    </tr>\n",
       "    <tr>\n",
       "      <th>timestampIs_quarter_start</th>\n",
       "      <td>False</td>\n",
       "      <td>False</td>\n",
       "      <td>False</td>\n",
       "      <td>False</td>\n",
       "      <td>False</td>\n",
       "    </tr>\n",
       "    <tr>\n",
       "      <th>timestampIs_year_end</th>\n",
       "      <td>False</td>\n",
       "      <td>False</td>\n",
       "      <td>False</td>\n",
       "      <td>False</td>\n",
       "      <td>False</td>\n",
       "    </tr>\n",
       "    <tr>\n",
       "      <th>timestampIs_year_start</th>\n",
       "      <td>False</td>\n",
       "      <td>False</td>\n",
       "      <td>False</td>\n",
       "      <td>False</td>\n",
       "      <td>False</td>\n",
       "    </tr>\n",
       "    <tr>\n",
       "      <th>timestampElapsed</th>\n",
       "      <td>1419379200</td>\n",
       "      <td>1419382800</td>\n",
       "      <td>1419386400</td>\n",
       "      <td>1419390000</td>\n",
       "      <td>1419393600</td>\n",
       "    </tr>\n",
       "  </tbody>\n",
       "</table>\n",
       "</div>"
      ],
      "text/plain": [
       "                                             0                    1  \\\n",
       "series_id                               103088               103088   \n",
       "timestamp                  2014-12-24 00:00:00  2014-12-24 01:00:00   \n",
       "consumption                             101842               105878   \n",
       "temperature                                NaN                  NaN   \n",
       "surface                                x-small              x-small   \n",
       "base_temperature                           low                  low   \n",
       "monday_is_day_off                        False                False   \n",
       "tuesday_is_day_off                       False                False   \n",
       "wednesday_is_day_off                     False                False   \n",
       "thursday_is_day_off                      False                False   \n",
       "friday_is_day_off                        False                False   \n",
       "saturday_is_day_off                       True                 True   \n",
       "sunday_is_day_off                         True                 True   \n",
       "timestampYear                             2014                 2014   \n",
       "timestampMonth                              12                   12   \n",
       "timestampWeek                               52                   52   \n",
       "timestampDay                                24                   24   \n",
       "timestampDayofweek                           2                    2   \n",
       "timestampDayofyear                         358                  358   \n",
       "timestampIs_month_end                    False                False   \n",
       "timestampIs_month_start                  False                False   \n",
       "timestampIs_quarter_end                  False                False   \n",
       "timestampIs_quarter_start                False                False   \n",
       "timestampIs_year_end                     False                False   \n",
       "timestampIs_year_start                   False                False   \n",
       "timestampElapsed                    1419379200           1419382800   \n",
       "\n",
       "                                             2                    3  \\\n",
       "series_id                               103088               103088   \n",
       "timestamp                  2014-12-24 02:00:00  2014-12-24 03:00:00   \n",
       "consumption                            91619.1              94473.7   \n",
       "temperature                                NaN                  NaN   \n",
       "surface                                x-small              x-small   \n",
       "base_temperature                           low                  low   \n",
       "monday_is_day_off                        False                False   \n",
       "tuesday_is_day_off                       False                False   \n",
       "wednesday_is_day_off                     False                False   \n",
       "thursday_is_day_off                      False                False   \n",
       "friday_is_day_off                        False                False   \n",
       "saturday_is_day_off                       True                 True   \n",
       "sunday_is_day_off                         True                 True   \n",
       "timestampYear                             2014                 2014   \n",
       "timestampMonth                              12                   12   \n",
       "timestampWeek                               52                   52   \n",
       "timestampDay                                24                   24   \n",
       "timestampDayofweek                           2                    2   \n",
       "timestampDayofyear                         358                  358   \n",
       "timestampIs_month_end                    False                False   \n",
       "timestampIs_month_start                  False                False   \n",
       "timestampIs_quarter_end                  False                False   \n",
       "timestampIs_quarter_start                False                False   \n",
       "timestampIs_year_end                     False                False   \n",
       "timestampIs_year_start                   False                False   \n",
       "timestampElapsed                    1419386400           1419390000   \n",
       "\n",
       "                                             4  \n",
       "series_id                               103088  \n",
       "timestamp                  2014-12-24 04:00:00  \n",
       "consumption                            96976.8  \n",
       "temperature                                NaN  \n",
       "surface                                x-small  \n",
       "base_temperature                           low  \n",
       "monday_is_day_off                        False  \n",
       "tuesday_is_day_off                       False  \n",
       "wednesday_is_day_off                     False  \n",
       "thursday_is_day_off                      False  \n",
       "friday_is_day_off                        False  \n",
       "saturday_is_day_off                       True  \n",
       "sunday_is_day_off                         True  \n",
       "timestampYear                             2014  \n",
       "timestampMonth                              12  \n",
       "timestampWeek                               52  \n",
       "timestampDay                                24  \n",
       "timestampDayofweek                           2  \n",
       "timestampDayofyear                         358  \n",
       "timestampIs_month_end                    False  \n",
       "timestampIs_month_start                  False  \n",
       "timestampIs_quarter_end                  False  \n",
       "timestampIs_quarter_start                False  \n",
       "timestampIs_year_end                     False  \n",
       "timestampIs_year_start                   False  \n",
       "timestampElapsed                    1419393600  "
      ]
     },
     "execution_count": 16,
     "metadata": {},
     "output_type": "execute_result"
    }
   ],
   "source": [
    "data.head().T"
   ]
  },
  {
   "cell_type": "code",
   "execution_count": 16,
   "metadata": {},
   "outputs": [
    {
     "data": {
      "text/plain": [
       "Index(['series_id', 'timestamp', 'consumption', 'temperature', 'surface',\n",
       "       'base_temperature', 'monday_is_day_off', 'tuesday_is_day_off',\n",
       "       'wednesday_is_day_off', 'thursday_is_day_off', 'friday_is_day_off',\n",
       "       'saturday_is_day_off', 'sunday_is_day_off', 'timestampYear',\n",
       "       'timestampMonth', 'timestampWeek', 'timestampDay', 'timestampDayofweek',\n",
       "       'timestampDayofyear', 'timestampIs_month_end',\n",
       "       'timestampIs_month_start', 'timestampIs_quarter_end',\n",
       "       'timestampIs_quarter_start', 'timestampIs_year_end',\n",
       "       'timestampIs_year_start', 'timestampElapsed'],\n",
       "      dtype='object')"
      ]
     },
     "execution_count": 16,
     "metadata": {},
     "output_type": "execute_result"
    }
   ],
   "source": [
    "data.columns"
   ]
  },
  {
   "cell_type": "markdown",
   "metadata": {},
   "source": [
    "## Exploring Data Distribution/Variability"
   ]
  },
  {
   "cell_type": "code",
   "execution_count": null,
   "metadata": {},
   "outputs": [],
   "source": [
    "data.select_dtypes(exclude=['object', 'bool']).columns"
   ]
  },
  {
   "cell_type": "code",
   "execution_count": 17,
   "metadata": {},
   "outputs": [
    {
     "data": {
      "text/plain": [
       "mean      1.076238e+05\n",
       "median    4.986205e+04\n",
       "std       1.626611e+05\n",
       "var       2.645864e+10\n",
       "Name: consumption, dtype: float64"
      ]
     },
     "execution_count": 17,
     "metadata": {},
     "output_type": "execute_result"
    }
   ],
   "source": [
    "data.consumption.agg([\"mean\",\"median\",\"std\",\"var\"])"
   ]
  },
  {
   "cell_type": "code",
   "execution_count": 18,
   "metadata": {},
   "outputs": [
    {
     "data": {
      "image/png": "[encoded data removed]",
      "text/plain": [
       "<Figure size 432x288 with 1 Axes>"
      ]
     },
     "metadata": {
      "needs_background": "light"
     },
     "output_type": "display_data"
    }
   ],
   "source": [
    "sns.boxplot(y ='consumption',  data=data)\n",
    "plt.ylim([0,200000])\n",
    "plt.show()"
   ]
  },
  {
   "cell_type": "code",
   "execution_count": 19,
   "metadata": {},
   "outputs": [
    {
     "data": {
      "image/png": "[encoded data removed]",
      "text/plain": [
       "<Figure size 432x288 with 1 Axes>"
      ]
     },
     "metadata": {
      "needs_background": "light"
     },
     "output_type": "display_data"
    }
   ],
   "source": [
    "sns.distplot(data.consumption, color=\"g\", bins=100)\n",
    "plt.tight_layout()"
   ]
  },
  {
   "cell_type": "code",
   "execution_count": 20,
   "metadata": {},
   "outputs": [
    {
     "data": {
      "text/plain": [
       "(2085109.4535347074, 0.0)"
      ]
     },
     "execution_count": 20,
     "metadata": {},
     "output_type": "execute_result"
    }
   ],
   "source": [
    "data.consumption.max(), data.consumption.min()"
   ]
  },
  {
   "cell_type": "code",
   "execution_count": 21,
   "metadata": {},
   "outputs": [
    {
     "data": {
      "text/plain": [
       "<matplotlib.axes._subplots.AxesSubplot at 0x25659f5ad30>"
      ]
     },
     "execution_count": 21,
     "metadata": {},
     "output_type": "execute_result"
    },
    {
     "data": {
      "image/png": "[encoded data removed]",
      "text/plain": [
       "<Figure size 432x288 with 1 Axes>"
      ]
     },
     "metadata": {
      "needs_background": "light"
     },
     "output_type": "display_data"
    }
   ],
   "source": [
    "data.consumption.plot()"
   ]
  },
  {
   "cell_type": "markdown",
   "metadata": {},
   "source": [
    "> Como esta distribuida en el dataset los valores del target"
   ]
  },
  {
   "cell_type": "markdown",
   "metadata": {},
   "source": [
    "# Exploring Categorical/Ordinal"
   ]
  },
  {
   "cell_type": "code",
   "execution_count": 22,
   "metadata": {},
   "outputs": [
    {
     "data": {
      "text/plain": [
       "Index(['surface', 'base_temperature', 'monday_is_day_off',\n",
       "       'tuesday_is_day_off', 'wednesday_is_day_off', 'thursday_is_day_off',\n",
       "       'friday_is_day_off', 'saturday_is_day_off', 'sunday_is_day_off',\n",
       "       'timestampIs_month_end', 'timestampIs_month_start',\n",
       "       'timestampIs_quarter_end', 'timestampIs_quarter_start',\n",
       "       'timestampIs_year_end', 'timestampIs_year_start'],\n",
       "      dtype='object')"
      ]
     },
     "execution_count": 22,
     "metadata": {},
     "output_type": "execute_result"
    }
   ],
   "source": [
    "data.select_dtypes(include=['object', 'bool']).columns"
   ]
  },
  {
   "cell_type": "code",
   "execution_count": 23,
   "metadata": {},
   "outputs": [
    {
     "data": {
      "text/plain": [
       "<matplotlib.axes._subplots.AxesSubplot at 0x25659fcc390>"
      ]
     },
     "execution_count": 23,
     "metadata": {},
     "output_type": "execute_result"
    },
    {
     "data": {
      "image/png": "[encoded data removed]",
      "text/plain": [
       "<Figure size 432x288 with 1 Axes>"
      ]
     },
     "metadata": {
      "needs_background": "light"
     },
     "output_type": "display_data"
    }
   ],
   "source": [
    "data.surface.value_counts().plot(kind=\"bar\")"
   ]
  },
  {
   "cell_type": "code",
   "execution_count": 24,
   "metadata": {},
   "outputs": [
    {
     "data": {
      "text/plain": [
       "<matplotlib.axes._subplots.AxesSubplot at 0x2565a005048>"
      ]
     },
     "execution_count": 24,
     "metadata": {},
     "output_type": "execute_result"
    },
    {
     "data": {
      "image/png": "[encoded data removed]",
      "text/plain": [
       "<Figure size 432x288 with 1 Axes>"
      ]
     },
     "metadata": {
      "needs_background": "light"
     },
     "output_type": "display_data"
    }
   ],
   "source": [
    "data.base_temperature.value_counts().plot(kind=\"bar\")"
   ]
  },
  {
   "cell_type": "markdown",
   "metadata": {},
   "source": [
    "## Multiples Variables"
   ]
  },
  {
   "cell_type": "code",
   "execution_count": null,
   "metadata": {},
   "outputs": [],
   "source": [
    "sns.violinplot(y= 'consumption',x ='timestampYear',  data=data, jitter=True)"
   ]
  },
  {
   "cell_type": "code",
   "execution_count": null,
   "metadata": {},
   "outputs": [],
   "source": [
    "sns.swarmplot(x= 'consumption', y= 'surface', data=data)"
   ]
  },
  {
   "cell_type": "code",
   "execution_count": null,
   "metadata": {},
   "outputs": [],
   "source": [
    "pivot_tab = data.pivot_table(index=\"surface\",columns=\"timestampYear\",values=\"consumption\", aggfunc=\"mean\")\n",
    "sns.heatmap(pivot_tab, annot=False,cmap=\"hot\")"
   ]
  },
  {
   "cell_type": "code",
   "execution_count": null,
   "metadata": {},
   "outputs": [],
   "source": [
    "# data.set_index(['series_id','timestamp'], inplace=True)"
   ]
  },
  {
   "cell_type": "code",
   "execution_count": null,
   "metadata": {},
   "outputs": [],
   "source": [
    "data.head(5)"
   ]
  },
  {
   "cell_type": "code",
   "execution_count": null,
   "metadata": {},
   "outputs": [],
   "source": [
    "data = data.sort_index()"
   ]
  },
  {
   "cell_type": "code",
   "execution_count": 54,
   "metadata": {},
   "outputs": [
    {
     "data": {
      "text/plain": [
       "[<matplotlib.lines.Line2D at 0x170a29f3518>]"
      ]
     },
     "execution_count": 54,
     "metadata": {},
     "output_type": "execute_result"
    },
    {
     "data": {
      "image/png": "[encoded data removed]",
      "text/plain": [
       "<Figure size 432x288 with 1 Axes>"
      ]
     },
     "metadata": {
      "needs_background": "light"
     },
     "output_type": "display_data"
    }
   ],
   "source": [
    "plt.plot(data.loc[(102094),'consumption'])"
   ]
  },
  {
   "cell_type": "code",
   "execution_count": 31,
   "metadata": {},
   "outputs": [],
   "source": [
    "data[\"temperature_null\"] =  (pd.isnull(data.temperature)).astype(int) "
   ]
  },
  {
   "cell_type": "code",
   "execution_count": 35,
   "metadata": {},
   "outputs": [
    {
     "data": {
      "text/plain": [
       "0    280687\n",
       "1    228689\n",
       "Name: temperature_null, dtype: int64"
      ]
     },
     "execution_count": 35,
     "metadata": {},
     "output_type": "execute_result"
    }
   ],
   "source": [
    "data.temperature_null.value_counts()"
   ]
  },
  {
   "cell_type": "code",
   "execution_count": 36,
   "metadata": {},
   "outputs": [
    {
     "data": {
      "text/plain": [
       "<matplotlib.axes._subplots.AxesSubplot at 0x2565a52c588>"
      ]
     },
     "execution_count": 36,
     "metadata": {},
     "output_type": "execute_result"
    },
    {
     "data": {
      "image/png": "[encoded data removed]",
      "text/plain": [
       "<Figure size 432x288 with 1 Axes>"
      ]
     },
     "metadata": {
      "needs_background": "light"
     },
     "output_type": "display_data"
    }
   ],
   "source": [
    "sns.lineplot(x=\"timestamp\", y=\"consumption\",\n",
    "             hue=\"temperature_null\",\n",
    "             data=data)"
   ]
  },
  {
   "cell_type": "code",
   "execution_count": 43,
   "metadata": {},
   "outputs": [
    {
     "data": {
      "text/plain": [
       "<matplotlib.axes._subplots.AxesSubplot at 0x2565c138470>"
      ]
     },
     "execution_count": 43,
     "metadata": {},
     "output_type": "execute_result"
    },
    {
     "data": {
      "image/png": "[encoded data removed]",
      "text/plain": [
       "<Figure size 720x576 with 2 Axes>"
      ]
     },
     "metadata": {
      "needs_background": "light"
     },
     "output_type": "display_data"
    }
   ],
   "source": [
    "pivot_tnull = data.pivot_table(index=[\"temperature_null\",\"base_temperature\"],columns=\"surface\",values=\"consumption\", aggfunc=\"mean\")\n",
    "plt.figure(figsize=(10,8))\n",
    "sns.heatmap(pivot_tnull, annot=False,cmap=\"hot\")"
   ]
  },
  {
   "cell_type": "code",
   "execution_count": 44,
   "metadata": {},
   "outputs": [
    {
     "data": {
      "text/html": [
       "<div>\n",
       "<style scoped>\n",
       "    .dataframe tbody tr th:only-of-type {\n",
       "        vertical-align: middle;\n",
       "    }\n",
       "\n",
       "    .dataframe tbody tr th {\n",
       "        vertical-align: top;\n",
       "    }\n",
       "\n",
       "    .dataframe thead th {\n",
       "        text-align: right;\n",
       "    }\n",
       "</style>\n",
       "<table border=\"1\" class=\"dataframe\">\n",
       "  <thead>\n",
       "    <tr style=\"text-align: right;\">\n",
       "      <th></th>\n",
       "      <th>surface</th>\n",
       "      <th>large</th>\n",
       "      <th>medium</th>\n",
       "      <th>small</th>\n",
       "      <th>x-large</th>\n",
       "      <th>x-small</th>\n",
       "      <th>xx-large</th>\n",
       "      <th>xx-small</th>\n",
       "    </tr>\n",
       "    <tr>\n",
       "      <th>temperature_null</th>\n",
       "      <th>base_temperature</th>\n",
       "      <th></th>\n",
       "      <th></th>\n",
       "      <th></th>\n",
       "      <th></th>\n",
       "      <th></th>\n",
       "      <th></th>\n",
       "      <th></th>\n",
       "    </tr>\n",
       "  </thead>\n",
       "  <tbody>\n",
       "    <tr>\n",
       "      <th rowspan=\"2\" valign=\"top\">0</th>\n",
       "      <th>high</th>\n",
       "      <td>NaN</td>\n",
       "      <td>NaN</td>\n",
       "      <td>47941.789388</td>\n",
       "      <td>NaN</td>\n",
       "      <td>92887.957491</td>\n",
       "      <td>NaN</td>\n",
       "      <td>NaN</td>\n",
       "    </tr>\n",
       "    <tr>\n",
       "      <th>low</th>\n",
       "      <td>239090.798708</td>\n",
       "      <td>57157.960659</td>\n",
       "      <td>181567.161890</td>\n",
       "      <td>80777.128741</td>\n",
       "      <td>19744.805686</td>\n",
       "      <td>148647.675277</td>\n",
       "      <td>44877.895103</td>\n",
       "    </tr>\n",
       "    <tr>\n",
       "      <th rowspan=\"2\" valign=\"top\">1</th>\n",
       "      <th>high</th>\n",
       "      <td>NaN</td>\n",
       "      <td>NaN</td>\n",
       "      <td>45384.981692</td>\n",
       "      <td>NaN</td>\n",
       "      <td>92363.368800</td>\n",
       "      <td>NaN</td>\n",
       "      <td>54095.721751</td>\n",
       "    </tr>\n",
       "    <tr>\n",
       "      <th>low</th>\n",
       "      <td>282848.380112</td>\n",
       "      <td>38258.610800</td>\n",
       "      <td>77245.499002</td>\n",
       "      <td>84939.048649</td>\n",
       "      <td>140655.851867</td>\n",
       "      <td>265916.841045</td>\n",
       "      <td>55929.235107</td>\n",
       "    </tr>\n",
       "  </tbody>\n",
       "</table>\n",
       "</div>"
      ],
      "text/plain": [
       "surface                                    large        medium          small  \\\n",
       "temperature_null base_temperature                                               \n",
       "0                high                        NaN           NaN   47941.789388   \n",
       "                 low               239090.798708  57157.960659  181567.161890   \n",
       "1                high                        NaN           NaN   45384.981692   \n",
       "                 low               282848.380112  38258.610800   77245.499002   \n",
       "\n",
       "surface                                 x-large        x-small       xx-large  \\\n",
       "temperature_null base_temperature                                               \n",
       "0                high                       NaN   92887.957491            NaN   \n",
       "                 low               80777.128741   19744.805686  148647.675277   \n",
       "1                high                       NaN   92363.368800            NaN   \n",
       "                 low               84939.048649  140655.851867  265916.841045   \n",
       "\n",
       "surface                                xx-small  \n",
       "temperature_null base_temperature                \n",
       "0                high                       NaN  \n",
       "                 low               44877.895103  \n",
       "1                high              54095.721751  \n",
       "                 low               55929.235107  "
      ]
     },
     "execution_count": 44,
     "metadata": {},
     "output_type": "execute_result"
    }
   ],
   "source": [
    "pivot_tnull"
   ]
  },
  {
   "cell_type": "code",
   "execution_count": null,
   "metadata": {},
   "outputs": [],
   "source": [
    "data.plot(kind=\"bar\",x=\"temperature_null\")"
   ]
  },
  {
   "cell_type": "code",
   "execution_count": null,
   "metadata": {},
   "outputs": [],
   "source": []
  },
  {
   "cell_type": "code",
   "execution_count": null,
   "metadata": {},
   "outputs": [],
   "source": []
  },
  {
   "cell_type": "code",
   "execution_count": null,
   "metadata": {},
   "outputs": [],
   "source": []
  },
  {
   "cell_type": "code",
   "execution_count": null,
   "metadata": {},
   "outputs": [],
   "source": []
  }
 ],
 "metadata": {
  "kernelspec": {
   "display_name": "Python 3",
   "language": "python",
   "name": "python3"
  },
  "language_info": {
   "codemirror_mode": {
    "name": "ipython",
    "version": 3
   },
   "file_extension": ".py",
   "mimetype": "text/x-python",
   "name": "python",
   "nbconvert_exporter": "python",
   "pygments_lexer": "ipython3",
   "version": "3.5.0"
  }
 },
 "nbformat": 4,
 "nbformat_minor": 2
}
